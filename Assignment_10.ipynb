{
  "nbformat": 4,
  "nbformat_minor": 0,
  "metadata": {
    "colab": {
      "provenance": [],
      "authorship_tag": "ABX9TyPBUT17T6VViPhYEwaC83tw",
      "include_colab_link": true
    },
    "kernelspec": {
      "name": "python3",
      "display_name": "Python 3"
    },
    "language_info": {
      "name": "python"
    }
  },
  "cells": [
    {
      "cell_type": "markdown",
      "metadata": {
        "id": "view-in-github",
        "colab_type": "text"
      },
      "source": [
        "<a href=\"https://colab.research.google.com/github/Riturajkumari/skills_basic_python/blob/main/Assignment_10.ipynb\" target=\"_parent\"><img src=\"https://colab.research.google.com/assets/colab-badge.svg\" alt=\"Open In Colab\"/></a>"
      ]
    },
    {
      "cell_type": "markdown",
      "source": [
        "Q1. **Which function is used to open a file? What are the different modes of opening a file? Explain each mode \n",
        "of file opening.**\n"
      ],
      "metadata": {
        "id": "TYUWwWumLLJt"
      }
    },
    {
      "cell_type": "markdown",
      "source": [
        "- open() function is used to open a file in Python. It's mainly required two arguments, first the file name and then file opening mode.\n",
        "- syntax\n",
        " file_object = open(filename [,mode] [,buffering])\n",
        "\n",
        " - mode: It tells the program in which mode the file has to be open.\n",
        "  - buffering: Here, if the value is set to zero (0), no buffering will occur while accessing a file; if the value is set to top one (1), line buffering will be performed while accessing a file."
      ],
      "metadata": {
        "id": "gBtAMxbQSN0W"
      }
    },
    {
      "cell_type": "markdown",
      "source": [
        "*Modes of opening files in python*\n",
        "\n",
        "- r - Opens a file for reading only. (It's a default mode.)\n",
        "- w - Opens a file for writing. (If a file doesn't exist already, then it creates a new file. Otherwise, it's truncate a file.)\n",
        "- x - Opens a file for exclusive creation. (Operation fails if a file does not exist in the location.)\n",
        "- a - Opens a file for appending at the end of the file without truncating it. (Creates a new file if it does not exist in the location.)\n",
        "- t - Opens a file in text mode. (It's a default mode.)\n",
        "- b- Opens a file in binary mode.\n",
        "- +- Opens a file for updating (reading and writing.)\n"
      ],
      "metadata": {
        "id": "iuHetUj9S6G-"
      }
    },
    {
      "cell_type": "code",
      "source": [
        "# file opening example in Python\n",
        "fo = open(\"sample.txt\", \"wb\")\n",
        "print (\"File Name: \", fo.name)\n",
        "print (\"Mode of Opening: \", fo.mode)\n",
        "print (\"Is Closed: \", fo.closed)\n"
      ],
      "metadata": {
        "colab": {
          "base_uri": "https://localhost:8080/"
        },
        "id": "yaISaU24LSsB",
        "outputId": "7f12d6ac-c0c8-4c2e-bb12-a83afa5b3078"
      },
      "execution_count": 1,
      "outputs": [
        {
          "output_type": "stream",
          "name": "stdout",
          "text": [
            "File Name:  sample.txt\n",
            "Mode of Opening:  wb\n",
            "Is Closed:  False\n"
          ]
        }
      ]
    },
    {
      "cell_type": "code",
      "source": [
        "# read the entire file as one string\n",
        "with open('sample.txt') as f:\n",
        "  data = f.read()\n",
        "\n",
        "# Iterate over the lines of the File\n",
        "with open('sample.txt') as f:\n",
        "  for line in f :\n",
        "    print(line, end=' ')\n",
        "# process the lines"
      ],
      "metadata": {
        "id": "lQWMNcc3WGRx"
      },
      "execution_count": 2,
      "outputs": []
    },
    {
      "cell_type": "markdown",
      "source": [
        " **Why close() function is used? Why is it important to close a file?**"
      ],
      "metadata": {
        "id": "UNrlJSJGXZMw"
      }
    },
    {
      "cell_type": "markdown",
      "source": [
        "- Not closing a file after an interaction is not only a waste of program resources but could also prevent other file interactions and may lead to inconsistencies when running your scripts on different Python versions.\n",
        "- The close() method of a file object flushes any unwritten information and closes the file object, after which no more writing can be done.\n",
        "\n",
        "-  automatically closes a file when the reference object of a file is reassigned to another file. It is a good practice to use the close() method to close a file.\n",
        "  - syntax\n",
        "             fileObject.close()"
      ],
      "metadata": {
        "id": "FrBzjEQXPgNW"
      }
    },
    {
      "cell_type": "code",
      "source": [
        "# Open a file\n",
        "fo = open(\"sample.txt\", \"wb\")\n",
        "print(\"Name of the file: \", fo.name)\n",
        "\n",
        "# Close opend file\n",
        "fo.close()"
      ],
      "metadata": {
        "colab": {
          "base_uri": "https://localhost:8080/"
        },
        "id": "km1Cvv8cgXUT",
        "outputId": "2f4f0c11-e6f9-4d4d-fec0-cf7919a1e062"
      },
      "execution_count": 3,
      "outputs": [
        {
          "output_type": "stream",
          "name": "stdout",
          "text": [
            "Name of the file:  sample.txt\n"
          ]
        }
      ]
    },
    {
      "cell_type": "markdown",
      "source": [
        "**Write a python program to create a text file. Write ‘I want to become a Data Scientist’ in that file. Then \n",
        "close the file. Open this file and read the content of the file.**"
      ],
      "metadata": {
        "id": "XT11G2kVSU6w"
      }
    },
    {
      "cell_type": "markdown",
      "source": [
        "- To create a text file in Python you will need to work with the file object. In order to create a text file and add some text content in this file, you will need to use two inbuilt functions of Python. These are open() and write()."
      ],
      "metadata": {
        "id": "oJB4x4nOTp-J"
      }
    },
    {
      "cell_type": "code",
      "source": [
        "my_file = open(\"Data_scientist.txt\",\"w+\")"
      ],
      "metadata": {
        "id": "c1zsDqMCSBz1"
      },
      "execution_count": 4,
      "outputs": []
    },
    {
      "cell_type": "code",
      "source": [
        "my_file = open(\"Data_scientist.txt\",\"w+\")\n",
        "my_file.write(\"Hey This text is going to be added to the text file yipeee!!!\")"
      ],
      "metadata": {
        "colab": {
          "base_uri": "https://localhost:8080/"
        },
        "id": "8wXBnZ0zSZ5w",
        "outputId": "82ebe550-5256-4618-94dc-bb540556204a"
      },
      "execution_count": 5,
      "outputs": [
        {
          "output_type": "execute_result",
          "data": {
            "text/plain": [
              "61"
            ]
          },
          "metadata": {},
          "execution_count": 5
        }
      ]
    },
    {
      "cell_type": "code",
      "source": [
        "my_file"
      ],
      "metadata": {
        "colab": {
          "base_uri": "https://localhost:8080/"
        },
        "id": "517lSgi7URvE",
        "outputId": "fb62c0c7-1b7e-47eb-9f56-44a741dabc13"
      },
      "execution_count": 6,
      "outputs": [
        {
          "output_type": "execute_result",
          "data": {
            "text/plain": [
              "<_io.TextIOWrapper name='Data_scientist.txt' mode='w+' encoding='UTF-8'>"
            ]
          },
          "metadata": {},
          "execution_count": 6
        }
      ]
    },
    {
      "cell_type": "code",
      "source": [
        "# Open function to open the file \"MyFile1.txt\"\n",
        "# (same directory) in append mode and\n",
        "file1 = open(\"Data_scientist.txt\",\"a\")\n",
        "\n",
        "# store its reference in the variable file1\n",
        "# and \"MyFile2.txt\" in D:\\Text in file2\n",
        "file2 = open(r\"Data_scientist.txt\",\"w+\")\n",
        "file2"
      ],
      "metadata": {
        "colab": {
          "base_uri": "https://localhost:8080/"
        },
        "id": "fPF13dL4URv3",
        "outputId": "528a1fd3-d136-4eee-9774-a404ae4f7155"
      },
      "execution_count": 7,
      "outputs": [
        {
          "output_type": "execute_result",
          "data": {
            "text/plain": [
              "<_io.TextIOWrapper name='Data_scientist.txt' mode='w+' encoding='UTF-8'>"
            ]
          },
          "metadata": {},
          "execution_count": 7
        }
      ]
    },
    {
      "cell_type": "code",
      "source": [],
      "metadata": {
        "id": "Y_95E4UjVFg2"
      },
      "execution_count": 7,
      "outputs": []
    },
    {
      "cell_type": "markdown",
      "source": [
        "**Q4. Explain the following with python code: read(), readline() and readlines()**\n",
        "- readlines() method will return all the lines in a file in the format of a list where each element is a line in the file."
      ],
      "metadata": {
        "id": "sf2FKvN7Sash"
      }
    },
    {
      "cell_type": "code",
      "source": [
        "f = open(\"sample.txt\", \"r\")\n",
        "print(f.readlines())"
      ],
      "metadata": {
        "colab": {
          "base_uri": "https://localhost:8080/"
        },
        "id": "hN2Ms2cuVD8G",
        "outputId": "ffa6e645-522f-46e5-d759-9992f92474e6"
      },
      "execution_count": 8,
      "outputs": [
        {
          "output_type": "stream",
          "name": "stdout",
          "text": [
            "[]\n"
          ]
        }
      ]
    },
    {
      "cell_type": "markdown",
      "source": [],
      "metadata": {
        "id": "LMsVTszaYET1"
      }
    },
    {
      "cell_type": "code",
      "source": [
        "# Program to show various ways to read and\n",
        "# write data in a file.\n",
        "file1 = open(\"Data_scientist.txt\",\"w\")\n",
        "L = [\"This is Delhi \\n\",\"This is Paris \\n\",\"This is London \\n\"]\n",
        "\n",
        "# \\n is placed to indicate EOL (End of Line)\n",
        "file1.write(\"Hello \\n\")\n",
        "file1.writelines(L)\n",
        "file1.close() #to change file access modes\n",
        "\n",
        "file1 = open(\"Data_scientist.txt\",\"r+\")\n",
        "\n",
        "print(\"Output of Read function is \")\n",
        "print(file1.read())\n",
        "print()\n",
        "\n",
        "# seek(n) takes the file handle to the nth\n",
        "# bite from the beginning.\n",
        "file1.seek(0)\n",
        "\n",
        "print( \"Output of Readline function is \")\n",
        "print(file1.readline())\n",
        "print()\n",
        "\n",
        "file1.seek(0)\n",
        "\n",
        "# To show difference between read and readline\n",
        "print(\"Output of Read(9) function is \")\n",
        "print(file1.read(9))\n",
        "print()\n",
        "\n",
        "file1.seek(0)\n",
        "\n",
        "print(\"Output of Readline(9) function is \")\n",
        "print(file1.readline(9))\n",
        "\n",
        "file1.seek(0)\n",
        "# readlines function\n",
        "print(\"Output of Readlines function is \")\n",
        "print(file1.readlines())\n",
        "print()\n",
        "file1.close()\n"
      ],
      "metadata": {
        "colab": {
          "base_uri": "https://localhost:8080/"
        },
        "id": "yGZVaio9VEnU",
        "outputId": "1e510b8a-0888-4309-a880-1c1ebe0b1f64"
      },
      "execution_count": 9,
      "outputs": [
        {
          "output_type": "stream",
          "name": "stdout",
          "text": [
            "Output of Read function is \n",
            "Hello \n",
            "This is Delhi \n",
            "This is Paris \n",
            "This is London \n",
            "\n",
            "\n",
            "Output of Readline function is \n",
            "Hello \n",
            "\n",
            "\n",
            "Output of Read(9) function is \n",
            "Hello \n",
            "Th\n",
            "\n",
            "Output of Readline(9) function is \n",
            "Hello \n",
            "\n",
            "Output of Readlines function is \n",
            "['Hello \\n', 'This is Delhi \\n', 'This is Paris \\n', 'This is London \\n']\n",
            "\n"
          ]
        }
      ]
    },
    {
      "cell_type": "code",
      "source": [],
      "metadata": {
        "id": "ERk6CvUGSZ9I"
      },
      "execution_count": 9,
      "outputs": []
    },
    {
      "cell_type": "code",
      "source": [],
      "metadata": {
        "id": "977xyUzIShRH"
      },
      "execution_count": 9,
      "outputs": []
    },
    {
      "cell_type": "markdown",
      "source": [
        "**Q5. Explain why with statement is used with open(). What is the advantage of using with statement and\n",
        "open() together?**"
      ],
      "metadata": {
        "id": "rok_ulqsSiSv"
      }
    },
    {
      "cell_type": "markdown",
      "source": [
        "- the open() function is generally used for file handling in Python. But it is a standard practice to use context managers like with keywords to handle files as it will automatically release files once its usage is complete.\n",
        "- The open() function opens a file, and returns it as a file object.\n",
        "Read more about file handling in our chapters about File Handling.\n",
        " - Python with open() Syntax:\n",
        "    - with open(file_path, mode, encoding) as file:\n",
        "\n"
      ],
      "metadata": {
        "id": "UUIDuHUkY3N8"
      }
    },
    {
      "cell_type": "code",
      "source": [
        "with open(\"sample.txt\",\"r\") as gfg_file:\n",
        "  file_content = gfg_file.read()\n",
        "  print(file_content)\n"
      ],
      "metadata": {
        "id": "jTFCFoBoShUS",
        "colab": {
          "base_uri": "https://localhost:8080/"
        },
        "outputId": "94d16f1f-cfe3-40eb-e7ba-b013b7473594"
      },
      "execution_count": 13,
      "outputs": [
        {
          "output_type": "stream",
          "name": "stdout",
          "text": [
            "\n"
          ]
        }
      ]
    },
    {
      "cell_type": "code",
      "source": [
        "my_file = open(\"sample.txt\", \"w\")\n",
        "my_file.write(\"Data science is best for DSA\")\n",
        "my_file.close()\n",
        "\n",
        "#let's read the contents of the file now\n",
        "my_file = open(\"sample.txt\",\"r\")\n",
        "print(my_file.read())\n"
      ],
      "metadata": {
        "colab": {
          "base_uri": "https://localhost:8080/"
        },
        "id": "C53E5wasalwT",
        "outputId": "9f84dcdc-9acf-46b0-d884-d06e9eb28394"
      },
      "execution_count": 15,
      "outputs": [
        {
          "output_type": "stream",
          "name": "stdout",
          "text": [
            "Data science is best for DSA\n"
          ]
        }
      ]
    },
    {
      "cell_type": "code",
      "source": [],
      "metadata": {
        "id": "MJb8XfkMSp49"
      },
      "execution_count": null,
      "outputs": []
    },
    {
      "cell_type": "markdown",
      "source": [
        "**Q6. Explain the write() and writelines() functions. Give a suitable example.**"
      ],
      "metadata": {
        "id": "ukrp7mqcSqFc"
      }
    },
    {
      "cell_type": "markdown",
      "source": [
        "- there are many functions for reading and writing files. Both reading and writing functions work on open files \n",
        "- write() function\n",
        "The write() function will write the content in the file without adding any extra characters.\n",
        "  - Syntax: \n",
        "\n",
        "*Writes string content referenced by file object.*\n",
        "\n",
        "file_name.write(content) "
      ],
      "metadata": {
        "id": "Mq52hFGWbSfT"
      }
    },
    {
      "cell_type": "code",
      "source": [
        "file = open(\"Employees.txt\", \"w\")\n",
        "\n",
        "for i in range(3):\n",
        "  name = input(\"Enter the name of the employee: \")\n",
        "  file.write(name)\n",
        "  file.write(\"\\n\")\n",
        "file.close()\n",
        "print(\"Data is written into the file.\")\n"
      ],
      "metadata": {
        "id": "cyCYCGRTSxsa",
        "colab": {
          "base_uri": "https://localhost:8080/"
        },
        "outputId": "457b0dc6-acd9-4d22-9f1d-42574d2e6907"
      },
      "execution_count": 21,
      "outputs": [
        {
          "output_type": "stream",
          "name": "stdout",
          "text": [
            "Enter the name of the employee: ritu\n",
            "Enter the name of the employee: raj\n",
            "Enter the name of the employee: kumari\n",
            "Data is written into the file.\n"
          ]
        }
      ]
    },
    {
      "cell_type": "markdown",
      "source": [
        "**writelines() function**\n",
        "- This function writes the content of a list to a file.\n",
        " - Syntax:   \n",
        "   -  write all the strings present in the list \"list_of_lines\" \n",
        "\n",
        "   referenced by file object.\n",
        "\n",
        "   file_name.writelines(list_of_lines)\n",
        "\n",
        "*the list of strings that is passed to the writelines() function is written into the opened file. Similar to the write() function, the writelines() function does not add a newline character(\\n) to the end of the string.*"
      ],
      "metadata": {
        "id": "lcjUhRwdcmrM"
      }
    },
    {
      "cell_type": "code",
      "source": [
        "file1 = open(\"Employees.txt\", \"w\")\n",
        "lst = []\n",
        "for i in range(3):\n",
        "\tname = input(\"Enter the name of the employee: \")\n",
        "\tlst.append(name + '\\n')\n",
        "\t\n",
        "file1.writelines(lst)\n",
        "file1.close()\n",
        "print(\"Data is written into the file.\")\n"
      ],
      "metadata": {
        "colab": {
          "base_uri": "https://localhost:8080/"
        },
        "id": "TEU_e15fb2ji",
        "outputId": "b559be0f-323b-47ab-e41a-cde3420da71b"
      },
      "execution_count": 22,
      "outputs": [
        {
          "output_type": "stream",
          "name": "stdout",
          "text": [
            "Enter the name of the employee: ritu\n",
            "Enter the name of the employee: raj\n",
            "Enter the name of the employee: kumari\n",
            "Data is written into the file.\n"
          ]
        }
      ]
    },
    {
      "cell_type": "markdown",
      "source": [
        "*The only difference between the write() and writelines() is that write() is used to write a string to an already opened file while writelines() method is used to write a list of strings in an opened file.*"
      ],
      "metadata": {
        "id": "rQ2c6jUtddWF"
      }
    },
    {
      "cell_type": "code",
      "source": [],
      "metadata": {
        "id": "C-FnY961dSif"
      },
      "execution_count": null,
      "outputs": []
    },
    {
      "cell_type": "code",
      "source": [],
      "metadata": {
        "id": "vdUpCPdJdgwO"
      },
      "execution_count": null,
      "outputs": []
    },
    {
      "cell_type": "code",
      "source": [],
      "metadata": {
        "id": "T2Q-La_edgyb"
      },
      "execution_count": null,
      "outputs": []
    },
    {
      "cell_type": "code",
      "source": [],
      "metadata": {
        "id": "1uRx7sKXdg1v"
      },
      "execution_count": null,
      "outputs": []
    }
  ]
}