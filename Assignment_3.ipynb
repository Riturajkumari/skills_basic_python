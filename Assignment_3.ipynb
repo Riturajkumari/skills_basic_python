{
  "nbformat": 4,
  "nbformat_minor": 0,
  "metadata": {
    "colab": {
      "provenance": [],
      "authorship_tag": "ABX9TyP/HxxI+BiMEjOO+hO+rNmw",
      "include_colab_link": true
    },
    "kernelspec": {
      "name": "python3",
      "display_name": "Python 3"
    },
    "language_info": {
      "name": "python"
    }
  },
  "cells": [
    {
      "cell_type": "markdown",
      "metadata": {
        "id": "view-in-github",
        "colab_type": "text"
      },
      "source": [
        "<a href=\"https://colab.research.google.com/github/Riturajkumari/skills_basic_python/blob/main/Assignment_3.ipynb\" target=\"_parent\"><img src=\"https://colab.research.google.com/assets/colab-badge.svg\" alt=\"Open In Colab\"/></a>"
      ]
    },
    {
      "cell_type": "code",
      "execution_count": null,
      "metadata": {
        "id": "7UScOKvckiO8"
      },
      "outputs": [],
      "source": [
        " # 1.Explain with an example each when to use a for loop and a while loop."
      ]
    },
    {
      "cell_type": "markdown",
      "source": [
        "- For loop is used to iterate over elements of a sequence. It is often used when you have a piece of code which you want to repeat “n” number of time.\n",
        "- “for loops” are called iterators.\n",
        "- For Loop” is also used to repeat the program.\n",
        "- “For Loop” depends on the elements it has to iterate."
      ],
      "metadata": {
        "id": "DDzgEWnZk22Y"
      }
    },
    {
      "cell_type": "code",
      "source": [
        "# define for loop\n",
        "for i in range(2,7):\n",
        "  print(i)"
      ],
      "metadata": {
        "colab": {
          "base_uri": "https://localhost:8080/"
        },
        "id": "XgyKXNtmk6qF",
        "outputId": "ea1fee0c-eaca-4499-cdd0-94fcd66bfe0f"
      },
      "execution_count": null,
      "outputs": [
        {
          "output_type": "stream",
          "name": "stdout",
          "text": [
            "2\n",
            "3\n",
            "4\n",
            "5\n",
            "6\n"
          ]
        }
      ]
    },
    {
      "cell_type": "code",
      "source": [
        "l1=[\"ritu\",\"raj\",\"kumari\",\"madhu\"]"
      ],
      "metadata": {
        "id": "6iLNJ2qwlcNc"
      },
      "execution_count": null,
      "outputs": []
    },
    {
      "cell_type": "code",
      "source": [
        "for i in l1:\n",
        "  if i ==\"kumari\":\n",
        "    continue\n",
        "  print(i)\n",
        "else:\n",
        "  print(\"execute this if for loop is able to complete itself.\")"
      ],
      "metadata": {
        "colab": {
          "base_uri": "https://localhost:8080/"
        },
        "id": "OFr9f3nzlEbJ",
        "outputId": "a77308f6-ef09-4837-8a23-2fd3b6436d98"
      },
      "execution_count": null,
      "outputs": [
        {
          "output_type": "stream",
          "name": "stdout",
          "text": [
            "ritu\n",
            "raj\n",
            "madhu\n",
            "execute this if for loop is able to complete itself.\n"
          ]
        }
      ]
    },
    {
      "cell_type": "markdown",
      "source": [
        "- while loop we can execute a set of statements as long as a condition is true.\n",
        "- break statement we can stop the loop even if the while condition is true:\n",
        "- continue statement we can stop the current iteration, and continue with the next:"
      ],
      "metadata": {
        "id": "gXh0Tnzwlrfb"
      }
    },
    {
      "cell_type": "code",
      "source": [
        "count = 0\n",
        "while (count < 5): \n",
        "    count += 1 \n",
        "    print(\"Hello\")"
      ],
      "metadata": {
        "colab": {
          "base_uri": "https://localhost:8080/"
        },
        "id": "3wAajSA5lt09",
        "outputId": "94d950be-7eac-4691-e32f-b1806ecdd755"
      },
      "execution_count": null,
      "outputs": [
        {
          "output_type": "stream",
          "name": "stdout",
          "text": [
            "Hello\n",
            "Hello\n",
            "Hello\n",
            "Hello\n",
            "Hello\n"
          ]
        }
      ]
    },
    {
      "cell_type": "code",
      "source": [
        "i = 1\n",
        "while i < 6:\n",
        "  print(i)\n",
        "  if i == 3:\n",
        "    break\n",
        "  i += 1"
      ],
      "metadata": {
        "id": "kzDPzEVp0fDn",
        "colab": {
          "base_uri": "https://localhost:8080/"
        },
        "outputId": "0e11f313-5c43-498e-8e16-9df9fc009ab8"
      },
      "execution_count": 17,
      "outputs": [
        {
          "output_type": "stream",
          "name": "stdout",
          "text": [
            "1\n",
            "2\n",
            "3\n"
          ]
        }
      ]
    },
    {
      "cell_type": "markdown",
      "source": [
        "**write a python program to print the sum and product of the first 10 natural numbers using for and while loop.**"
      ],
      "metadata": {
        "id": "3LEDC3t90fhT"
      }
    },
    {
      "cell_type": "code",
      "source": [
        "# while loop for sum\n",
        "s,i=0,0\n",
        "n=10\n",
        "while i<n:\n",
        "  i=i+1\n",
        "  s=s+i\n",
        "print(\"sum of first 10 natural number\",s)"
      ],
      "metadata": {
        "colab": {
          "base_uri": "https://localhost:8080/"
        },
        "id": "yQVd5rzZ2Nsw",
        "outputId": "254b9a71-dbc0-49f4-93f1-7fef40f812a2"
      },
      "execution_count": null,
      "outputs": [
        {
          "output_type": "stream",
          "name": "stdout",
          "text": [
            "sum of first 10 natural number 55\n"
          ]
        }
      ]
    },
    {
      "cell_type": "code",
      "source": [
        "# for loop for sum\n",
        "sum=0\n",
        "for i in range(1,11):\n",
        "  sum=sum+i\n",
        "print(\"sum of first 10 natural numbers:\",sum)"
      ],
      "metadata": {
        "id": "04b8CW5YluDD",
        "colab": {
          "base_uri": "https://localhost:8080/"
        },
        "outputId": "6a43466b-4a4d-442c-a88d-4442dba549b9"
      },
      "execution_count": null,
      "outputs": [
        {
          "output_type": "stream",
          "name": "stdout",
          "text": [
            "sum of first 10 natural numbers: 55\n"
          ]
        }
      ]
    },
    {
      "cell_type": "code",
      "source": [
        "# for loop for product\n",
        "number = int(input(\"Enter a number:\"))\n",
        "p=1\n",
        "for i in range(1,11):\n",
        "  p=p*i\n",
        "print(\"sum of first 10 natural numbers:\",p)"
      ],
      "metadata": {
        "colab": {
          "base_uri": "https://localhost:8080/"
        },
        "id": "QosWbi-r207g",
        "outputId": "26d7d788-d6d5-4d53-8534-cae23c745302"
      },
      "execution_count": null,
      "outputs": [
        {
          "output_type": "stream",
          "name": "stdout",
          "text": [
            "Enter a number:10\n",
            "sum of first 10 natural numbers: 3628800\n"
          ]
        }
      ]
    },
    {
      "cell_type": "code",
      "source": [
        "# while loop for product\n",
        "n = int(input(\"Enter a number:\"))\n",
        "product=1\n",
        "i=1\n",
        "while(i<=n):\n",
        "  product= product*i\n",
        "  i=i+1\n",
        "print(\"the product is:\",product)"
      ],
      "metadata": {
        "colab": {
          "base_uri": "https://localhost:8080/"
        },
        "id": "AN-Xg-qb20-K",
        "outputId": "d3142964-e8a5-44ec-8832-036a447741f6"
      },
      "execution_count": null,
      "outputs": [
        {
          "output_type": "stream",
          "name": "stdout",
          "text": [
            "Enter a number:10\n",
            "the product is: 3628800\n"
          ]
        }
      ]
    },
    {
      "cell_type": "code",
      "source": [
        "num =int(input(\"enter a number:\"))\n",
        "k=1\n",
        "for i in range(10):\n",
        "  num = num*k\n",
        "  print(num)\n",
        "  k= k+1"
      ],
      "metadata": {
        "colab": {
          "base_uri": "https://localhost:8080/"
        },
        "id": "Lk9z_lQH21A4",
        "outputId": "33dae1a3-9983-49a4-ce93-3826e8ca87ec"
      },
      "execution_count": null,
      "outputs": [
        {
          "output_type": "stream",
          "name": "stdout",
          "text": [
            "enter a number:10\n",
            "10\n",
            "20\n",
            "60\n",
            "240\n",
            "1200\n",
            "7200\n",
            "50400\n",
            "403200\n",
            "3628800\n",
            "36288000\n"
          ]
        }
      ]
    },
    {
      "cell_type": "code",
      "source": [],
      "metadata": {
        "id": "4qz8-qsP21Hj"
      },
      "execution_count": null,
      "outputs": []
    },
    {
      "cell_type": "markdown",
      "source": [
        " Create a python program to compute the electricity bill for a household.\n",
        " \n",
        "Q4. Create a list of numbers from 1 to 100. Use for loop and while loop to calculate the cube of each \n",
        "number and if the cube of that number is divisible by 4 or 5 then append that number in a list and print \n",
        "that list.\n",
        "The per-unit charges in rupees are as follows: For the first 100 units, the user will be charged Rs. 4.5 per \n",
        "unit, for the next 100 units, the user will be charged Rs. 6 per unit, and for the next 100 units, the user will \n",
        "be charged Rs. 10 per unit, After 300 units and above the user will be charged Rs. 20 per unit.\n",
        "\n",
        "\n",
        "You are required to take the units of electricity consumed in a month from the user as input.\n",
        "\n",
        "\n",
        "Your program must pass this test case: when the unit of electricity consumed by the user in a month is \n",
        "310, the total electricity bill should be 2250"
      ],
      "metadata": {
        "id": "74r54zjf_l1w"
      }
    },
    {
      "cell_type": "code",
      "source": [
        "unit = int(input(\"Enter the units of electricity bill: \"))\n",
        "\n",
        "if unit <= 100:\n",
        "    bill = unit * 4.5\n",
        "elif unit <= 200:\n",
        "    bill = 100 * 4.5 + (unit - 100) * 6\n",
        "elif unit <= 300:\n",
        "    bill = 100 * 4.5 + 100 * 6 + (unit - 200) * 10\n",
        "else:\n",
        "    bill = 100 * 4.5 + 100 * 6 + 100 * 10 + (unit - 300) * 20\n",
        "\n",
        "print(\"The total electricity bill is: Rs.\", bill)\n"
      ],
      "metadata": {
        "id": "gK1xK07g21OX",
        "colab": {
          "base_uri": "https://localhost:8080/"
        },
        "outputId": "ced4607c-cc61-49b2-db2e-0733a1ab7220"
      },
      "execution_count": 2,
      "outputs": [
        {
          "output_type": "stream",
          "name": "stdout",
          "text": [
            "Enter the units of electricity bill: 60\n",
            "The total electricity bill is: Rs. 270.0\n"
          ]
        }
      ]
    },
    {
      "cell_type": "markdown",
      "source": [
        " **Create a list of numbers from 1 to 100. Use for loop and while loop to calculate the cube of each \n",
        "number and if the cube of that number is divisible by 4 or 5 then append that number in a list and print \n",
        "that list**"
      ],
      "metadata": {
        "id": "EeoUpmcU_3NH"
      }
    },
    {
      "cell_type": "code",
      "source": [
        "numbers = []\n",
        "cube_divisible = []\n",
        "\n",
        "for i in range(1, 101):\n",
        "    numbers.append(i)\n",
        "    cube = i * 3\n",
        "    if cube % 4 == 0 or cube % 5 == 0:\n",
        "        cube_divisible.append(cube)\n",
        "\n",
        "print(\"The list of cubes that are divisible by 4 or 5:\", cube_divisible)\n"
      ],
      "metadata": {
        "id": "4mwwdrmt_6qY",
        "colab": {
          "base_uri": "https://localhost:8080/"
        },
        "outputId": "c2523a49-ba97-438e-fcf5-1dd5a0aa50ff"
      },
      "execution_count": 16,
      "outputs": [
        {
          "output_type": "stream",
          "name": "stdout",
          "text": [
            "The list of cubes that are divisible by 4 or 5: [12, 15, 24, 30, 36, 45, 48, 60, 72, 75, 84, 90, 96, 105, 108, 120, 132, 135, 144, 150, 156, 165, 168, 180, 192, 195, 204, 210, 216, 225, 228, 240, 252, 255, 264, 270, 276, 285, 288, 300]\n"
          ]
        }
      ]
    },
    {
      "cell_type": "code",
      "source": [],
      "metadata": {
        "id": "zsRuyioD_8Pg"
      },
      "execution_count": null,
      "outputs": []
    },
    {
      "cell_type": "markdown",
      "source": [
        "**Write a program to filter count vowels in the below-given string.**\n",
        "\n",
        "string = \"I want to become a data scientist\""
      ],
      "metadata": {
        "id": "lRINFp4kADn-"
      }
    },
    {
      "cell_type": "code",
      "source": [
        "string = \"I want to become a data scientist\"\n",
        "vowels=\"aeiouAEIOU\"\n",
        "count =0\n",
        "for i in string:\n",
        "    if i in vowels:\n",
        "\n",
        "      count +=1\n",
        "print(count)"
      ],
      "metadata": {
        "id": "Qhq3WrGyAIcw",
        "colab": {
          "base_uri": "https://localhost:8080/"
        },
        "outputId": "73cb0056-4f8a-409d-d4a6-5c344cb1ac0a"
      },
      "execution_count": 14,
      "outputs": [
        {
          "output_type": "stream",
          "name": "stdout",
          "text": [
            "12\n"
          ]
        }
      ]
    },
    {
      "cell_type": "code",
      "source": [],
      "metadata": {
        "id": "05FOxXjjVE66"
      },
      "execution_count": null,
      "outputs": []
    }
  ]
}