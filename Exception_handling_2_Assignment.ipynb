{
  "nbformat": 4,
  "nbformat_minor": 0,
  "metadata": {
    "colab": {
      "provenance": [],
      "authorship_tag": "ABX9TyP/thDCv6PDWqTFHeNXVssp",
      "include_colab_link": true
    },
    "kernelspec": {
      "name": "python3",
      "display_name": "Python 3"
    },
    "language_info": {
      "name": "python"
    }
  },
  "cells": [
    {
      "cell_type": "markdown",
      "metadata": {
        "id": "view-in-github",
        "colab_type": "text"
      },
      "source": [
        "<a href=\"https://colab.research.google.com/github/Riturajkumari/skills_basic_python/blob/main/Exception_handling_2_Assignment.ipynb\" target=\"_parent\"><img src=\"https://colab.research.google.com/assets/colab-badge.svg\" alt=\"Open In Colab\"/></a>"
      ]
    },
    {
      "cell_type": "markdown",
      "source": [
        "**Q1. Explain why we have to use the Exception class while creating a Custom Exception.**"
      ],
      "metadata": {
        "id": "P_JdvXpCs-YS"
      }
    },
    {
      "cell_type": "markdown",
      "source": [
        "- In Python, we can define custom exceptions by creating a new class that is derived from the built-in Exception class.\n",
        "\n",
        " *Syntax*\n",
        "\n",
        "class CustomError(Exception):\n",
        "\n",
        "    ...\n",
        "\n",
        "    pass\n",
        "\n",
        "try:\n",
        "\n",
        "   ...\n",
        "\n",
        "except CustomError:\n",
        "\n",
        "    ...\n",
        "\n",
        " - Here, CustomError is a user-defined error which inherits from the Exception class.\n",
        "\n",
        "-  When we are developing a large Python program, it is a good practice to place all the user-defined exceptions that our program raises in a separate file.\n",
        " "
      ],
      "metadata": {
        "id": "K3hWUcao4r7i"
      }
    },
    {
      "cell_type": "code",
      "source": [
        "# define Python user-defined exceptions\n",
        "class InvalidAgeException(Exception):\n",
        "    \"Raised when the input value is less than 18\"\n",
        "    pass\n",
        "\n",
        "# you need to guess this number\n",
        "number = 18\n",
        "\n",
        "try:\n",
        "    input_num = int(input(\"Enter a number: \"))\n",
        "    if input_num < number:\n",
        "        raise InvalidAgeException\n",
        "    else:\n",
        "        print(\"Eligible to Vote\")\n",
        "        \n",
        "except InvalidAgeException:\n",
        "    print(\"Exception occurred: Invalid Age\")"
      ],
      "metadata": {
        "id": "fe35t2Eos5v8",
        "colab": {
          "base_uri": "https://localhost:8080/"
        },
        "outputId": "8b88bb66-a5cf-4029-9750-430fc75a3d9e"
      },
      "execution_count": null,
      "outputs": [
        {
          "output_type": "stream",
          "name": "stdout",
          "text": [
            "Enter a number: 13\n",
            "Exception occurred: Invalid Age\n"
          ]
        }
      ]
    },
    {
      "cell_type": "code",
      "source": [],
      "metadata": {
        "id": "a6vnpX7Qs51b"
      },
      "execution_count": null,
      "outputs": []
    },
    {
      "cell_type": "markdown",
      "source": [
        "**Write a python program to print Python Exception Hierarchy.**"
      ],
      "metadata": {
        "id": "0w0TD5bntDmJ"
      }
    },
    {
      "cell_type": "markdown",
      "source": [
        "-  Exceptions occur even if our code is syntactically correct, however, while \n",
        "\n",
        "1.   List item\n",
        "2.   List item\n",
        "\n",
        "\n",
        "- Indented block\n",
        "\n",
        "\n",
        "executing they throw an error. They are not unconditionally fatal, errors which we get while executing are called Exceptions.\n",
        "- For printing the tree hierarchy use inspect module in Python. \n",
        "  - inspect module provides useful functions to get information about objects such as modules, classes, methods, functions,  and code objects. \n",
        "    - syntax\n",
        "    For building a tree hierarchy we will use inspect.getclasstree().\n",
        "     - Syntax: inspect.getclasstree(classes, unique=False)"
      ],
      "metadata": {
        "id": "_IOWCOdA71Ca"
      }
    },
    {
      "cell_type": "code",
      "source": [
        "# import inspect module\n",
        "import inspect\n",
        "\n",
        "# our treeClass function\n",
        "def treeClass(cls, ind = 0):\n",
        "\t\n",
        "\t# print name of the class\n",
        "\tprint ('-' * ind, cls.__name__)\n",
        "\t\n",
        "\t# iterating through subclasses\n",
        "\tfor i in cls.__subclasses__():\n",
        "\t\ttreeClass(i, ind + 3)\n",
        "\n",
        "print(\"Hierarchy for Built-in exceptions is : \")\n",
        "\n",
        "# inspect.getmro() Return a tuple\n",
        "# of class cls’s base classes.\n",
        "\n",
        "# building a tree hierarchy\n",
        "inspect.getclasstree(inspect.getmro(BaseException))\n",
        "\n",
        "# function call\n",
        "treeClass(BaseException)\n"
      ],
      "metadata": {
        "id": "HFqXJ4QRs54C",
        "colab": {
          "base_uri": "https://localhost:8080/"
        },
        "outputId": "ec1c8b92-959f-4abc-e6f6-bb01e2c2633e"
      },
      "execution_count": 1,
      "outputs": [
        {
          "output_type": "stream",
          "name": "stdout",
          "text": [
            "Hierarchy for Built-in exceptions is : \n",
            " BaseException\n",
            "--- Exception\n",
            "------ TypeError\n",
            "--------- MultipartConversionError\n",
            "--------- FloatOperation\n",
            "--------- UFuncTypeError\n",
            "------------ UFuncTypeError\n",
            "------------ UFuncTypeError\n",
            "------------ UFuncTypeError\n",
            "--------------- UFuncTypeError\n",
            "--------------- UFuncTypeError\n",
            "--------- ConversionError\n",
            "------ StopAsyncIteration\n",
            "------ StopIteration\n",
            "------ ImportError\n",
            "--------- ModuleNotFoundError\n",
            "--------- ZipImportError\n",
            "------ OSError\n",
            "--------- ConnectionError\n",
            "------------ BrokenPipeError\n",
            "------------ ConnectionAbortedError\n",
            "------------ ConnectionRefusedError\n",
            "------------ ConnectionResetError\n",
            "--------------- RemoteDisconnected\n",
            "--------- BlockingIOError\n",
            "--------- ChildProcessError\n",
            "--------- FileExistsError\n",
            "--------- FileNotFoundError\n",
            "------------ ExecutableNotFoundError\n",
            "--------- IsADirectoryError\n",
            "--------- NotADirectoryError\n",
            "--------- InterruptedError\n",
            "------------ InterruptedSystemCall\n",
            "--------- PermissionError\n",
            "--------- ProcessLookupError\n",
            "--------- TimeoutError\n",
            "--------- UnsupportedOperation\n",
            "--------- ItimerError\n",
            "--------- Error\n",
            "------------ SameFileError\n",
            "--------- SpecialFileError\n",
            "--------- ExecError\n",
            "--------- ReadError\n",
            "--------- herror\n",
            "--------- gaierror\n",
            "--------- timeout\n",
            "--------- SSLError\n",
            "------------ SSLCertVerificationError\n",
            "------------ SSLZeroReturnError\n",
            "------------ SSLWantReadError\n",
            "------------ SSLWantWriteError\n",
            "------------ SSLSyscallError\n",
            "------------ SSLEOFError\n",
            "--------- URLError\n",
            "------------ HTTPError\n",
            "------------ ContentTooShortError\n",
            "--------- BadGzipFile\n",
            "--------- ProxyError\n",
            "------------ GeneralProxyError\n",
            "------------ ProxyConnectionError\n",
            "------------ SOCKS5AuthError\n",
            "------------ SOCKS5Error\n",
            "------------ SOCKS4Error\n",
            "------------ HTTPError\n",
            "--------- UnidentifiedImageError\n",
            "------ EOFError\n",
            "--------- IncompleteReadError\n",
            "------ RuntimeError\n",
            "--------- RecursionError\n",
            "--------- NotImplementedError\n",
            "------------ StdinNotImplementedError\n",
            "------------ ZMQVersionError\n",
            "--------- _DeadlockError\n",
            "--------- BrokenBarrierError\n",
            "--------- BrokenExecutor\n",
            "--------- SendfileNotAvailableError\n",
            "--------- TooHardError\n",
            "--------- ExtractionError\n",
            "--------- VariableError\n",
            "------ NameError\n",
            "--------- UnboundLocalError\n",
            "------ AttributeError\n",
            "--------- FrozenInstanceError\n",
            "------ SyntaxError\n",
            "--------- IndentationError\n",
            "------------ TabError\n",
            "------ LookupError\n",
            "--------- IndexError\n",
            "------------ AxisError\n",
            "------------ OutOfBounds\n",
            "--------- KeyError\n",
            "------------ UnknownBackend\n",
            "------------ NoSuchKernel\n",
            "--------- CodecRegistryError\n",
            "------ ValueError\n",
            "--------- UnicodeError\n",
            "------------ UnicodeEncodeError\n",
            "------------ UnicodeDecodeError\n",
            "------------ UnicodeTranslateError\n",
            "--------- UnsupportedOperation\n",
            "--------- JSONDecodeError\n",
            "--------- Error\n",
            "--------- ClassNotFound\n",
            "--------- SSLCertVerificationError\n",
            "--------- ClipboardEmpty\n",
            "--------- MessageDefect\n",
            "------------ NoBoundaryInMultipartDefect\n",
            "------------ StartBoundaryNotFoundDefect\n",
            "------------ CloseBoundaryNotFoundDefect\n",
            "------------ FirstHeaderLineIsContinuationDefect\n",
            "------------ MisplacedEnvelopeHeaderDefect\n",
            "------------ MissingHeaderBodySeparatorDefect\n",
            "------------ MultipartInvariantViolationDefect\n",
            "------------ InvalidMultipartContentTransferEncodingDefect\n",
            "------------ UndecodableBytesDefect\n",
            "------------ InvalidBase64PaddingDefect\n",
            "------------ InvalidBase64CharactersDefect\n",
            "------------ InvalidBase64LengthDefect\n",
            "------------ HeaderDefect\n",
            "--------------- InvalidHeaderDefect\n",
            "--------------- HeaderMissingRequiredValue\n",
            "--------------- NonPrintableDefect\n",
            "--------------- ObsoleteHeaderDefect\n",
            "--------------- NonASCIILocalPartDefect\n",
            "--------- IllegalMonthError\n",
            "--------- IllegalWeekdayError\n",
            "--------- MacroToEdit\n",
            "--------- ParserError\n",
            "--------- DisabledFunctionError\n",
            "--------- AxisError\n",
            "--------- InvalidVersion\n",
            "--------- NonIntersectingPathException\n",
            "--------- InvalidFileException\n",
            "--------- InvalidVersion\n",
            "--------- InvalidSpecifier\n",
            "--------- InvalidMarker\n",
            "--------- UndefinedComparison\n",
            "--------- UndefinedEnvironmentName\n",
            "--------- InvalidRequirement\n",
            "------------ RequirementParseError\n",
            "------ AssertionError\n",
            "------ ArithmeticError\n",
            "--------- FloatingPointError\n",
            "--------- OverflowError\n",
            "--------- ZeroDivisionError\n",
            "------------ DivisionByZero\n",
            "------------ DivisionUndefined\n",
            "--------- DecimalException\n",
            "------------ Clamped\n",
            "------------ Rounded\n",
            "--------------- Underflow\n",
            "--------------- Overflow\n",
            "------------ Inexact\n",
            "--------------- Underflow\n",
            "--------------- Overflow\n",
            "------------ Subnormal\n",
            "--------------- Underflow\n",
            "------------ DivisionByZero\n",
            "------------ FloatOperation\n",
            "------------ InvalidOperation\n",
            "--------------- ConversionSyntax\n",
            "--------------- DivisionImpossible\n",
            "--------------- DivisionUndefined\n",
            "--------------- InvalidContext\n",
            "------ SystemError\n",
            "--------- CodecRegistryError\n",
            "------ ReferenceError\n",
            "------ MemoryError\n",
            "--------- MemoryError\n",
            "------ BufferError\n",
            "------ Warning\n",
            "--------- UserWarning\n",
            "------------ GetPassWarning\n",
            "------------ FormatterWarning\n",
            "------------ VisibleDeprecationWarning\n",
            "------------ RankWarning\n",
            "------------ ConversionWarning\n",
            "------------ RankWarning\n",
            "--------- DeprecationWarning\n",
            "------------ ProvisionalWarning\n",
            "------------ ModuleDeprecationWarning\n",
            "------------ MatplotlibDeprecationWarning\n",
            "--------- PendingDeprecationWarning\n",
            "--------- SyntaxWarning\n",
            "--------- RuntimeWarning\n",
            "------------ ProactorSelectorThreadWarning\n",
            "------------ UnknownTimezoneWarning\n",
            "------------ ComplexWarning\n",
            "------------ DecompressionBombWarning\n",
            "------------ PEP440Warning\n",
            "--------- FutureWarning\n",
            "------------ ProvisionalCompleterWarning\n",
            "------------ MaskedArrayFutureWarning\n",
            "--------- ImportWarning\n",
            "--------- UnicodeWarning\n",
            "--------- BytesWarning\n",
            "--------- ResourceWarning\n",
            "--------- DeprecatedTzFormatWarning\n",
            "--------- MathTextWarning\n",
            "--------- PkgResourcesDeprecationWarning\n",
            "------ _OptionError\n",
            "------ error\n",
            "------ Verbose\n",
            "------ Error\n",
            "------ _Error\n",
            "------ SubprocessError\n",
            "--------- CalledProcessError\n",
            "--------- TimeoutExpired\n",
            "------ Error\n",
            "------ TokenError\n",
            "------ StopTokenizing\n",
            "------ error\n",
            "------ LZMAError\n",
            "------ RegistryError\n",
            "------ _GiveupOnFastCopy\n",
            "------ EndOfBlock\n",
            "------ TraitError\n",
            "------ _GiveupOnSendfile\n",
            "------ error\n",
            "------ PickleError\n",
            "--------- PicklingError\n",
            "--------- UnpicklingError\n",
            "------ _Stop\n",
            "------ Empty\n",
            "------ Full\n",
            "------ ArgumentError\n",
            "------ ArgumentTypeError\n",
            "------ ConfigError\n",
            "--------- ConfigLoaderError\n",
            "------------ ArgumentError\n",
            "--------- ConfigFileNotFound\n",
            "------ ConfigurableError\n",
            "--------- MultipleInstanceError\n",
            "------ ApplicationError\n",
            "------ ErrorDuringImport\n",
            "------ BdbQuit\n",
            "------ Restart\n",
            "------ ExceptionPexpect\n",
            "--------- EOF\n",
            "--------- TIMEOUT\n",
            "------ error\n",
            "------ PtyProcessError\n",
            "------ FindCmdError\n",
            "------ HomeDirError\n",
            "------ ProfileDirError\n",
            "------ IPythonCoreError\n",
            "--------- TryNext\n",
            "--------- UsageError\n",
            "--------- StdinNotImplementedError\n",
            "------ InputRejected\n",
            "------ GetoptError\n",
            "------ Incomplete\n",
            "------ OptionError\n",
            "------ ErrorToken\n",
            "------ Error\n",
            "--------- CancelledError\n",
            "--------- TimeoutError\n",
            "--------- InvalidStateError\n",
            "------ TimeoutError\n",
            "------ InvalidStateError\n",
            "------ LimitOverrunError\n",
            "------ QueueEmpty\n",
            "------ QueueFull\n",
            "------ PrefilterError\n",
            "------ AliasError\n",
            "--------- InvalidAliasError\n",
            "------ Error\n",
            "--------- InterfaceError\n",
            "--------- DatabaseError\n",
            "------------ InternalError\n",
            "------------ OperationalError\n",
            "------------ ProgrammingError\n",
            "------------ IntegrityError\n",
            "------------ DataError\n",
            "------------ NotSupportedError\n",
            "------ Warning\n",
            "------ SpaceInInput\n",
            "------ TaskLocalNotSetError\n",
            "------ InvalidStateError\n",
            "------ Return\n",
            "------ NoRunningApplicationError\n",
            "------ ValidationError\n",
            "------ EditReadOnlyBuffer\n",
            "------ _Retry\n",
            "------ DOMException\n",
            "--------- IndexSizeErr\n",
            "--------- DomstringSizeErr\n",
            "--------- HierarchyRequestErr\n",
            "--------- WrongDocumentErr\n",
            "--------- InvalidCharacterErr\n",
            "--------- NoDataAllowedErr\n",
            "--------- NoModificationAllowedErr\n",
            "--------- NotFoundErr\n",
            "--------- NotSupportedErr\n",
            "--------- InuseAttributeErr\n",
            "--------- InvalidStateErr\n",
            "--------- SyntaxErr\n",
            "--------- InvalidModificationErr\n",
            "--------- NamespaceErr\n",
            "--------- InvalidAccessErr\n",
            "--------- ValidationErr\n",
            "------ InvalidLayoutError\n",
            "------ HeightIsUnknownError\n",
            "------ MessageError\n",
            "--------- MessageParseError\n",
            "------------ HeaderParseError\n",
            "------------ BoundaryError\n",
            "--------- MultipartConversionError\n",
            "--------- CharsetError\n",
            "------ Error\n",
            "------ HTTPException\n",
            "--------- NotConnected\n",
            "--------- InvalidURL\n",
            "--------- UnknownProtocol\n",
            "--------- UnknownTransferEncoding\n",
            "--------- UnimplementedFileMode\n",
            "--------- IncompleteRead\n",
            "--------- ImproperConnectionState\n",
            "------------ CannotSendRequest\n",
            "------------ CannotSendHeader\n",
            "------------ ResponseNotReady\n",
            "--------- BadStatusLine\n",
            "------------ RemoteDisconnected\n",
            "--------- LineTooLong\n",
            "------ InteractivelyDefined\n",
            "------ KillEmbedded\n",
            "------ ArgumentError\n",
            "------ ZMQBaseError\n",
            "--------- ZMQError\n",
            "------------ ContextTerminated\n",
            "------------ Again\n",
            "------------ InterruptedSystemCall\n",
            "--------- ZMQBindError\n",
            "--------- NotDone\n",
            "------ NoIPAddresses\n",
            "------ Error\n",
            "--------- NoSectionError\n",
            "--------- DuplicateSectionError\n",
            "--------- DuplicateOptionError\n",
            "--------- NoOptionError\n",
            "--------- InterpolationError\n",
            "------------ InterpolationMissingOptionError\n",
            "------------ InterpolationSyntaxError\n",
            "------------ InterpolationDepthError\n",
            "--------- ParsingError\n",
            "------------ MissingSectionHeaderError\n",
            "------ InvalidPortNumber\n",
            "------ DuplicateKernelError\n",
            "------ error\n",
            "------ ReturnValueIgnoredError\n",
            "------ KeyReuseError\n",
            "------ UnknownKeyError\n",
            "------ LeakedCallbackError\n",
            "------ BadYieldError\n",
            "------ ReturnValueIgnoredError\n",
            "------ Return\n",
            "------ QueueEmpty\n",
            "------ QueueFull\n",
            "------ Error\n",
            "--------- AuthorizationError\n",
            "--------- RuntimeManagementError\n",
            "--------- MessageError\n",
            "------ WidgetException\n",
            "------ JsException\n",
            "------ FormattedTracebackError\n",
            "------ Error\n",
            "--------- NoSuchProcess\n",
            "------------ ZombieProcess\n",
            "--------- AccessDenied\n",
            "--------- TimeoutExpired\n",
            "------ _Ipv6UnsupportedError\n",
            "------ HttpLib2Error\n",
            "--------- HttpLib2ErrorWithResponse\n",
            "------------ RedirectMissingLocation\n",
            "------------ RedirectLimit\n",
            "------------ FailedToDecompressContent\n",
            "------------ UnimplementedDigestAuthOptionError\n",
            "------------ UnimplementedHmacDigestAuthOptionError\n",
            "--------- MalformedHeader\n",
            "--------- RelativeURIError\n",
            "--------- ServerNotFoundError\n",
            "--------- ProxiesUnavailableError\n",
            "------ LinAlgError\n",
            "------ ConverterError\n",
            "--------- ConverterLockError\n",
            "------ MAError\n",
            "--------- MaskError\n",
            "------ DecompressionBombError\n",
            "------ FFIError\n",
            "------ CDefError\n",
            "------ VerificationError\n",
            "------ VerificationMissing\n",
            "------ PkgConfigError\n",
            "------ ParseBaseException\n",
            "--------- ParseException\n",
            "--------- ParseFatalException\n",
            "------------ ParseSyntaxException\n",
            "------ RecursiveGrammarException\n",
            "------ DuplicateConstraint\n",
            "------ UnsatisfiableConstraint\n",
            "------ UnknownConstraint\n",
            "------ DuplicateEditVariable\n",
            "------ UnknownEditVariable\n",
            "------ BadRequiredStrength\n",
            "------ NonGuiException\n",
            "------ InvalidIndexError\n",
            "------ TerminateTrajectory\n",
            "------ NoFreePortFoundError\n",
            "------ ExpatError\n",
            "------ Error\n",
            "--------- ProtocolError\n",
            "--------- ResponseError\n",
            "--------- Fault\n",
            "------ BadZipFile\n",
            "------ LargeZipFile\n",
            "------ ParseBaseException\n",
            "--------- ParseException\n",
            "--------- ParseFatalException\n",
            "------------ ParseSyntaxException\n",
            "------ RecursiveGrammarException\n",
            "------ ResolutionError\n",
            "--------- VersionConflict\n",
            "------------ ContextualVersionConflict\n",
            "--------- DistributionNotFound\n",
            "--------- UnknownExtra\n",
            "------ UnableToResolveVariableException\n",
            "--- GeneratorExit\n",
            "--- SystemExit\n",
            "--- KeyboardInterrupt\n",
            "--- CancelledError\n"
          ]
        }
      ]
    },
    {
      "cell_type": "code",
      "source": [],
      "metadata": {
        "id": "fr8nAdkVs5-P"
      },
      "execution_count": null,
      "outputs": []
    },
    {
      "cell_type": "code",
      "source": [],
      "metadata": {
        "id": "7NAOSLgJs6BX"
      },
      "execution_count": null,
      "outputs": []
    },
    {
      "cell_type": "markdown",
      "source": [
        "**Q3. What errors are defined in the ArithmeticError class? Explain any two with an example.**"
      ],
      "metadata": {
        "id": "WZK3FORqtF99"
      }
    },
    {
      "cell_type": "code",
      "source": [],
      "metadata": {
        "id": "f34BQxD_s6Ex"
      },
      "execution_count": null,
      "outputs": []
    },
    {
      "cell_type": "markdown",
      "source": [
        "- ArithmeticError is the base class for all arithmetic-related errors. To solve ArtithmeticError in Python, use the try-except clause properly. Try and except statement is used to handle exceptions without terminating the program.\n",
        "- The ArithmeticError consists of three exceptions.\n",
        "  1. ZeroDivisionError\n",
        "  2. FloatingPointError\n",
        "  3.OverFlowError\n",
        "  "
      ],
      "metadata": {
        "id": "liQ8yP4isER1"
      }
    },
    {
      "cell_type": "code",
      "source": [
        "# ZeroDivisionError in Python \n",
        "# The ZeroDivisionError is a type of exception raised when a number is divided by 0"
      ],
      "metadata": {
        "id": "Fqa89OaTsDRO"
      },
      "execution_count": 2,
      "outputs": []
    },
    {
      "cell_type": "code",
      "source": [
        "a = 5\n",
        "b = 0\n",
        "\n",
        "try:\n",
        "   c = a/b\n",
        "   print(c)\n",
        "except ArithmeticError as e:\n",
        "   print(\"Arithmetic Error is thrown\")\n",
        "   print(e)"
      ],
      "metadata": {
        "id": "12AttOo0tPP_",
        "colab": {
          "base_uri": "https://localhost:8080/"
        },
        "outputId": "8ffc934b-6e72-4baf-c513-31177887ff54"
      },
      "execution_count": 4,
      "outputs": [
        {
          "output_type": "stream",
          "name": "stdout",
          "text": [
            "Arithmetic Error is thrown\n",
            "division by zero\n"
          ]
        }
      ]
    },
    {
      "cell_type": "code",
      "source": [
        "# OverFlowError in Python\n",
        "# The OverFlowError exception in Python is thrown when a number exceeds its limit."
      ],
      "metadata": {
        "id": "ElV8q81Ms_k2"
      },
      "execution_count": 5,
      "outputs": []
    },
    {
      "cell_type": "code",
      "source": [
        "import math\n",
        "\n",
        "print(math.exp(1000))"
      ],
      "metadata": {
        "colab": {
          "base_uri": "https://localhost:8080/",
          "height": 200
        },
        "id": "7P1a0gUNs_xk",
        "outputId": "d0dc55b2-9037-4105-c113-fbe36b72153e"
      },
      "execution_count": 9,
      "outputs": [
        {
          "output_type": "error",
          "ename": "OverflowError",
          "evalue": "ignored",
          "traceback": [
            "\u001b[0;31m---------------------------------------------------------------------------\u001b[0m",
            "\u001b[0;31mOverflowError\u001b[0m                             Traceback (most recent call last)",
            "\u001b[0;32m<ipython-input-9-d0b885dfb0c1>\u001b[0m in \u001b[0;36m<module>\u001b[0;34m\u001b[0m\n\u001b[1;32m      1\u001b[0m \u001b[0;32mimport\u001b[0m \u001b[0mmath\u001b[0m\u001b[0;34m\u001b[0m\u001b[0;34m\u001b[0m\u001b[0m\n\u001b[1;32m      2\u001b[0m \u001b[0;34m\u001b[0m\u001b[0m\n\u001b[0;32m----> 3\u001b[0;31m \u001b[0mprint\u001b[0m\u001b[0;34m(\u001b[0m\u001b[0mmath\u001b[0m\u001b[0;34m.\u001b[0m\u001b[0mexp\u001b[0m\u001b[0;34m(\u001b[0m\u001b[0;36m1000\u001b[0m\u001b[0;34m)\u001b[0m\u001b[0;34m)\u001b[0m\u001b[0;34m\u001b[0m\u001b[0;34m\u001b[0m\u001b[0m\n\u001b[0m",
            "\u001b[0;31mOverflowError\u001b[0m: math range error"
          ]
        }
      ]
    },
    {
      "cell_type": "code",
      "source": [
        "# To solve the OverflowError: math range error in Python, use the try-except clause, and if it raises an exception, then handle it using except statement."
      ],
      "metadata": {
        "id": "Q3AEuJ67tyd6"
      },
      "execution_count": 11,
      "outputs": []
    },
    {
      "cell_type": "code",
      "source": [
        "import math\n",
        "\n",
        "try:\n",
        " result = math.exp(1000)\n",
        "except OverflowError:\n",
        " result = float('inf')\n",
        "print(result)"
      ],
      "metadata": {
        "colab": {
          "base_uri": "https://localhost:8080/"
        },
        "id": "zu3qnxurtl6a",
        "outputId": "2bfe4914-40f3-4c11-f597-58420e8dd276"
      },
      "execution_count": 12,
      "outputs": [
        {
          "output_type": "stream",
          "name": "stdout",
          "text": [
            "inf\n"
          ]
        }
      ]
    },
    {
      "cell_type": "code",
      "source": [
        "# FloatingPointError in Python\n",
        "# This type of error is raised when a number has large decimal digits. A well-known example is when we divide 10 by 3. "
      ],
      "metadata": {
        "id": "ijiBxH4atAC_"
      },
      "execution_count": 13,
      "outputs": []
    },
    {
      "cell_type": "code",
      "source": [
        "# You can also trigger a FloatingPointError within numpy by setting the appropriate numpy.errstate flag."
      ],
      "metadata": {
        "id": "t4exTj1dtt4m"
      },
      "execution_count": 14,
      "outputs": []
    },
    {
      "cell_type": "code",
      "source": [
        "import numpy as np\n",
        "\n",
        "with np.errstate(invalid='raise'):\n",
        "     np.sqrt(-1)"
      ],
      "metadata": {
        "colab": {
          "base_uri": "https://localhost:8080/",
          "height": 200
        },
        "id": "63MTVSU6tt6q",
        "outputId": "9042a620-f057-4bcb-c6e5-7572ddb76327"
      },
      "execution_count": 15,
      "outputs": [
        {
          "output_type": "error",
          "ename": "FloatingPointError",
          "evalue": "ignored",
          "traceback": [
            "\u001b[0;31m---------------------------------------------------------------------------\u001b[0m",
            "\u001b[0;31mFloatingPointError\u001b[0m                        Traceback (most recent call last)",
            "\u001b[0;32m<ipython-input-15-bc65fccb04f7>\u001b[0m in \u001b[0;36m<module>\u001b[0;34m\u001b[0m\n\u001b[1;32m      2\u001b[0m \u001b[0;34m\u001b[0m\u001b[0m\n\u001b[1;32m      3\u001b[0m \u001b[0;32mwith\u001b[0m \u001b[0mnp\u001b[0m\u001b[0;34m.\u001b[0m\u001b[0merrstate\u001b[0m\u001b[0;34m(\u001b[0m\u001b[0minvalid\u001b[0m\u001b[0;34m=\u001b[0m\u001b[0;34m'raise'\u001b[0m\u001b[0;34m)\u001b[0m\u001b[0;34m:\u001b[0m\u001b[0;34m\u001b[0m\u001b[0;34m\u001b[0m\u001b[0m\n\u001b[0;32m----> 4\u001b[0;31m      \u001b[0mnp\u001b[0m\u001b[0;34m.\u001b[0m\u001b[0msqrt\u001b[0m\u001b[0;34m(\u001b[0m\u001b[0;34m-\u001b[0m\u001b[0;36m1\u001b[0m\u001b[0;34m)\u001b[0m\u001b[0;34m\u001b[0m\u001b[0;34m\u001b[0m\u001b[0m\n\u001b[0m",
            "\u001b[0;31mFloatingPointError\u001b[0m: invalid value encountered in sqrt"
          ]
        }
      ]
    },
    {
      "cell_type": "code",
      "source": [
        "# To solve FloatingPointError in Python, use the try-except statement."
      ],
      "metadata": {
        "id": "Qvxr80nYuN5I"
      },
      "execution_count": 16,
      "outputs": []
    },
    {
      "cell_type": "code",
      "source": [
        "import numpy as np\n",
        "\n",
        "try:\n",
        "  with np.errstate(invalid='raise'):\n",
        "       np.sqrt(-1)\n",
        "except FloatingPointError:\n",
        "  print(\"Caught FloatingPointError\")"
      ],
      "metadata": {
        "colab": {
          "base_uri": "https://localhost:8080/"
        },
        "id": "zwznDBsKuODS",
        "outputId": "b88c2641-18b2-49c2-8b55-a0f8e0cbfb36"
      },
      "execution_count": 17,
      "outputs": [
        {
          "output_type": "stream",
          "name": "stdout",
          "text": [
            "Caught FloatingPointError\n"
          ]
        }
      ]
    },
    {
      "cell_type": "code",
      "source": [],
      "metadata": {
        "id": "2bCFKTWGtt-C"
      },
      "execution_count": null,
      "outputs": []
    },
    {
      "cell_type": "markdown",
      "source": [
        "**Q4. Why LookupError class is used? Explain with an example KeyError and IndexError.**"
      ],
      "metadata": {
        "id": "rkfHwUX9tQCv"
      }
    },
    {
      "cell_type": "markdown",
      "source": [
        "- LookupError Exception is the Base class for errors raised when something can’t be found. The base class for the exceptions that are raised when a key or index used on a mapping or sequence is invalid: IndexError, KeyError.\n",
        "\n",
        "  - An IndexError is raised when a sequence reference is out of range."
      ],
      "metadata": {
        "id": "Gf36Dw7putYG"
      }
    },
    {
      "cell_type": "code",
      "source": [
        "\n",
        "try:\n",
        "  foo = ['a', 's', 'd', 'f', 'g']\n",
        "  print (foo[5])\n",
        "except IndexError as e:\n",
        "  print (e)\n",
        "  "
      ],
      "metadata": {
        "id": "eXxHTteetPS4",
        "colab": {
          "base_uri": "https://localhost:8080/"
        },
        "outputId": "c373c62f-9e36-4e92-c8d3-dbe8222d105e"
      },
      "execution_count": 24,
      "outputs": [
        {
          "output_type": "stream",
          "name": "stdout",
          "text": [
            "list index out of range\n"
          ]
        }
      ]
    },
    {
      "cell_type": "code",
      "source": [
        "# lists\n",
        "x = [1, 2, 3, 4]\n",
        "try:\n",
        "    print(x[10])\n",
        "except LookupError as e:\n",
        "    print(e)"
      ],
      "metadata": {
        "id": "OtMRebjstPVc",
        "colab": {
          "base_uri": "https://localhost:8080/"
        },
        "outputId": "493a0cce-e405-4a6f-fe71-f21c970c1bf3"
      },
      "execution_count": 23,
      "outputs": [
        {
          "output_type": "stream",
          "name": "stdout",
          "text": [
            "list index out of range\n"
          ]
        }
      ]
    },
    {
      "cell_type": "code",
      "source": [
        "# strings\n",
        "x = \"Pylenin\"\n",
        "try:\n",
        "    print(x[10])\n",
        "except LookupError as e:\n",
        "    print(e)"
      ],
      "metadata": {
        "id": "21OLV7LRtPYD",
        "colab": {
          "base_uri": "https://localhost:8080/"
        },
        "outputId": "7f62ad4f-0dad-40f5-bce8-c70aee4b53a7"
      },
      "execution_count": 25,
      "outputs": [
        {
          "output_type": "stream",
          "name": "stdout",
          "text": [
            "string index out of range\n"
          ]
        }
      ]
    },
    {
      "cell_type": "code",
      "source": [],
      "metadata": {
        "id": "erQDfQ8UwUqf"
      },
      "execution_count": null,
      "outputs": []
    },
    {
      "cell_type": "markdown",
      "source": [
        "**Q5. Explain ImportError. What is ModuleNotFoundError?**"
      ],
      "metadata": {
        "id": "P32H9fIttY6v"
      }
    },
    {
      "cell_type": "code",
      "source": [],
      "metadata": {
        "id": "bVUwJ3Ges6Lz"
      },
      "execution_count": null,
      "outputs": []
    },
    {
      "cell_type": "markdown",
      "source": [
        "-  to solve “Module Not Found Error” for python. The reasons for this error and how to solve it.\n",
        " - We ill cover following points here:\n",
        "\n",
        "1. Python module is no imported\n",
        "2. Python module is not Installed\n",
        "3. The name of the module is incorrect\n",
        "4. The path of the module is incorrect\n",
        "**Python module is no imported**\n",
        "- The module method has been used but forget to include main module, We need to import that module."
      ],
      "metadata": {
        "id": "974ciiykw16m"
      }
    },
    {
      "cell_type": "code",
      "source": [
        "print(math.pi)"
      ],
      "metadata": {
        "id": "6D9Xs5ycteXe",
        "colab": {
          "base_uri": "https://localhost:8080/"
        },
        "outputId": "7bf5581a-5ab9-4e00-8c6e-b78de637399e"
      },
      "execution_count": 26,
      "outputs": [
        {
          "output_type": "stream",
          "name": "stdout",
          "text": [
            "3.141592653589793\n"
          ]
        }
      ]
    },
    {
      "cell_type": "code",
      "source": [
        "import math\n",
        "print(math.pi)"
      ],
      "metadata": {
        "id": "xG4kGqpIteal",
        "colab": {
          "base_uri": "https://localhost:8080/"
        },
        "outputId": "330b0d9c-e930-4be8-dd9e-ca24e1a4817f"
      },
      "execution_count": 27,
      "outputs": [
        {
          "output_type": "stream",
          "name": "stdout",
          "text": [
            "3.141592653589793\n"
          ]
        }
      ]
    },
    {
      "cell_type": "code",
      "source": [
        "# Python module is not Installed\n",
        "# import an module(requests) into app.py file which is not installed into our virtual environment:"
      ],
      "metadata": {
        "id": "AZoSKLVQxbYL"
      },
      "execution_count": null,
      "outputs": []
    },
    {
      "cell_type": "code",
      "source": [
        "r = requests.get('http://dummy.restapiexample.com/api/v1/employee/2')\n",
        "\n",
        "print(r)"
      ],
      "metadata": {
        "id": "OMD4j-UQxbdu"
      },
      "execution_count": null,
      "outputs": []
    },
    {
      "cell_type": "code",
      "source": [
        "# The name of the module is incorrect\n",
        "# try to import math module with extra a and see what will happen:"
      ],
      "metadata": {
        "id": "FIdOhInGxbgK"
      },
      "execution_count": 29,
      "outputs": []
    },
    {
      "cell_type": "code",
      "source": [
        "import matha\n"
      ],
      "metadata": {
        "id": "Ipmhj6jbxbuO"
      },
      "execution_count": null,
      "outputs": []
    },
    {
      "cell_type": "markdown",
      "source": [
        "**Q6. List down some best practices for exception handling in python.**"
      ],
      "metadata": {
        "id": "EURHnH8QtfrN"
      }
    },
    {
      "cell_type": "markdown",
      "source": [
        "- Exceptions are raised when the program encounters an error during its execution. \n",
        "-  handle exceptions in Python using try. except, and finally statement .\n",
        "- Error in Python can be of two types i.e. Syntax errors and Exceptions\n",
        "- Errors are the problems in a program due to which the program will stop the execution. \n"
      ],
      "metadata": {
        "id": "jonmlaPwz475"
      }
    },
    {
      "cell_type": "markdown",
      "source": [
        "Exceptions: Exceptions are raised when the program is syntactically correct, but the code resulted in an error. This error does not stop the execution of the program, however, it changes the normal flow of the program."
      ],
      "metadata": {
        "id": "cnwWCJvR0k2j"
      }
    },
    {
      "cell_type": "code",
      "source": [
        "try:\n",
        "    x = int(input(\"Please enter a number: \"))\n",
        "    y = 100 / x\n",
        "except ValueError:\n",
        "    print(\"Error: there was an error\")\n",
        "except ZeroDivisionError:\n",
        "    print(\"Error: 0 is an invalid number\")\n",
        "except Exception:\n",
        "    print(\"Error: another error occurred\")\n",
        "finally:\n",
        "    print(\"Cleanup can go here\")"
      ],
      "metadata": {
        "id": "I49INhZNtedK",
        "colab": {
          "base_uri": "https://localhost:8080/"
        },
        "outputId": "38b16957-8651-4367-9705-8f96712862ca"
      },
      "execution_count": 32,
      "outputs": [
        {
          "output_type": "stream",
          "name": "stdout",
          "text": [
            "Please enter a number: 12\n",
            "Cleanup can go here\n"
          ]
        }
      ]
    },
    {
      "cell_type": "code",
      "source": [
        "# Raising Exceptions\n",
        "try:\n",
        "    x = int(input(\"Please enter a number: \"))\n",
        "    y = 100 / x\n",
        "except ValueError:\n",
        "    print(\"Error: there was an error\")\n",
        "except ZeroDivisionError:\n",
        "    print(\"Error: 0 is an invalid number\")\n",
        "except Exception:\n",
        "    raise"
      ],
      "metadata": {
        "id": "mk9Ni7Oxtefi",
        "colab": {
          "base_uri": "https://localhost:8080/"
        },
        "outputId": "2883c0b9-bd0f-42fa-e891-2e482416ac7e"
      },
      "execution_count": 35,
      "outputs": [
        {
          "name": "stdout",
          "output_type": "stream",
          "text": [
            "Please enter a number: 120\n"
          ]
        }
      ]
    },
    {
      "cell_type": "code",
      "source": [],
      "metadata": {
        "id": "oQ-Gybjqtemi"
      },
      "execution_count": null,
      "outputs": []
    }
  ]
}