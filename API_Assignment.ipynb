{
  "cells": [
    {
      "cell_type": "markdown",
      "metadata": {
        "id": "view-in-github",
        "colab_type": "text"
      },
      "source": [
        "<a href=\"https://colab.research.google.com/github/Riturajkumari/skills_basic_python/blob/main/API_Assignment.ipynb\" target=\"_parent\"><img src=\"https://colab.research.google.com/assets/colab-badge.svg\" alt=\"Open In Colab\"/></a>"
      ]
    },
    {
      "cell_type": "markdown",
      "metadata": {
        "id": "ySYWzPYk1u0o"
      },
      "source": [
        "**Q1. What is an API? Give an example, where an API is used in real life?**"
      ]
    },
    {
      "cell_type": "markdown",
      "metadata": {
        "id": "zbLJE_7v1u0s"
      },
      "source": [
        "- Application Programming Interface (API) is a software interface that allows two applications to interact with each other without any user intervention. API is a collection of software functions and procedures. \n",
        "-  API is defined as a code that helps two different software’s to communicate and exchange data with each other."
      ]
    },
    {
      "cell_type": "markdown",
      "metadata": {
        "id": "Axo_GVWv1u0s"
      },
      "source": [
        " - example is weather data. Rich weather snippets seem to be commonplace, found on all platforms, like Google Search, Apple’s Weather app, or even from your smart home device."
      ]
    },
    {
      "cell_type": "markdown",
      "metadata": {
        "id": "n3CbBiOA1u0t"
      },
      "source": [
        "- Log-in API , Facebook/Twitter/Google/Github” functionality you see on so many websites.\n",
        " -  logging-in to users’ social media accounts, applications with platforms’ APIs to authenticate the user with each login."
      ]
    },
    {
      "cell_type": "markdown",
      "metadata": {
        "id": "kndhc6jC1u0t"
      },
      "source": [
        "-  logging-in using a social media service, the “Pay with PayPal” functionality is built with APIs to ensure that the end application can only do what it needs to, without being exposed to sensitive data or gaining access to unintended permissions."
      ]
    },
    {
      "cell_type": "code",
      "execution_count": null,
      "metadata": {
        "id": "dXzrl2sr1u0t"
      },
      "outputs": [],
      "source": []
    },
    {
      "cell_type": "markdown",
      "metadata": {
        "id": "Uk5P5Awg1u0u"
      },
      "source": [
        "**Q2. Give advantages and disadvantages of using API.?**"
      ]
    },
    {
      "cell_type": "markdown",
      "metadata": {
        "id": "9iP8kUwZ1u0u"
      },
      "source": [
        "advantages of using APIs are:\n",
        "- **Personalized Content**: API enables businesses to get a clear understanding of the tastes and preferences of the customer. This allows businesses to make personalized recommendations and generate better customer leads and interactions.\n"
      ]
    },
    {
      "cell_type": "markdown",
      "metadata": {
        "id": "w5Pvtxlj1u0v"
      },
      "source": [
        "- **Fraud Prevention**: API has various levels of security depending upon the type of API that you use which ensures that only authorized personnel have access to the data generated using API."
      ]
    },
    {
      "cell_type": "markdown",
      "metadata": {
        "id": "l1aqZLmA1u0v"
      },
      "source": [
        "disadvantages of using API"
      ]
    },
    {
      "cell_type": "markdown",
      "metadata": {
        "id": "nTqNWU2j1u0v"
      },
      "source": [
        " APIs are vulnerable to man-in-the-middle attacks, CSRF attacks, XSS attacks, SQL injection, and DDoS attacks."
      ]
    },
    {
      "cell_type": "code",
      "execution_count": null,
      "metadata": {
        "id": "szyzvUIB1u0x"
      },
      "outputs": [],
      "source": []
    },
    {
      "cell_type": "markdown",
      "metadata": {
        "id": "4XPWxno01u0x"
      },
      "source": [
        "**Q3. What is a Web API? Differentiate between API and Web API.**"
      ]
    },
    {
      "cell_type": "markdown",
      "metadata": {
        "id": "paCWH8En1u0x"
      },
      "source": [
        "- Web APIs provide services such as web notification and storage. These APIs can be accessed through the HTTP protocol. "
      ]
    },
    {
      "cell_type": "markdown",
      "metadata": {
        "id": "hg3h53Jq1u0x"
      },
      "source": [
        "- Web API is a collection of open source protocols and standards used for exchanging data between systems or applications, \n",
        "- whereas API is a software interface that allows two applications to interact with each other without any user involvement."
      ]
    },
    {
      "cell_type": "markdown",
      "metadata": {
        "id": "1tTQVKlw1u0x"
      },
      "source": [
        "- Web service is used for REST, SOAP, and XML-RPC for communication, while API is used for any style of communication."
      ]
    },
    {
      "cell_type": "markdown",
      "metadata": {
        "id": "twTCaUtL1u0x"
      },
      "source": [
        "- Web service supports only HTTP protocol, whereas API supports HTTP/HTTPS protocol."
      ]
    },
    {
      "cell_type": "markdown",
      "metadata": {
        "id": "YUKxTkea1u0x"
      },
      "source": [
        "- Web service supports XML, while API supports XML and JSON."
      ]
    },
    {
      "cell_type": "code",
      "execution_count": null,
      "metadata": {
        "id": "mmKsOr3-1u0x"
      },
      "outputs": [],
      "source": []
    },
    {
      "cell_type": "markdown",
      "metadata": {
        "id": "RNfaScY91u0y"
      },
      "source": [
        "**Q4. Explain REST and SOAP Architecture. Mention shortcomings of SOAP.**"
      ]
    },
    {
      "cell_type": "markdown",
      "metadata": {
        "id": "IwyGNfQN1u0y"
      },
      "source": [
        "- **SOAP** stands for **Simple Object Access Protocol** is a network platform used in a web service to exchange or communicate data between two different machines on a network. It uses the XML format of data to transfer messages over the HTTP protocol. I"
      ]
    },
    {
      "cell_type": "markdown",
      "metadata": {
        "id": "1cmF8Nch1u0y"
      },
      "source": [
        "- SOAP allows the user request to interact with other programming languages. "
      ]
    },
    {
      "cell_type": "markdown",
      "metadata": {
        "id": "hSl2ahe01u0y"
      },
      "source": [
        "-  it provides a way to communicate between applications running on different platforms (Operating system), with programming languages and technologies used in web service."
      ]
    },
    {
      "cell_type": "markdown",
      "metadata": {
        "id": "_UFUZNkl1u0y"
      },
      "source": [
        "**SOAP Message**\n",
        "    - It contains information about the message structure and instructions during processing on the       network.\n",
        "    - The SOAP contains an envelope that represents the starting and end of the message in the XML         format.\n",
        "    - In the message, the header is an optional element that contains application-specific                 information such as authentication, authorization, and payment etc.\n",
        "    - A fault element is an optional element that shows an error message during the processing of        the information."
      ]
    },
    {
      "cell_type": "markdown",
      "metadata": {
        "id": "wCUoGFBQ1u0y"
      },
      "source": [
        "- **REST** stands for REpresentational State Transfer. It is an architectural style that provides standards between computer systems on a web service. It is a set of constraints used to create a lightweight, scalable, and maintainable web service that facilitates easy communication. It is a set of constraints used to create a lightweight, scalable and maintainable web service that makes easy communication with each other."
      ]
    },
    {
      "cell_type": "markdown",
      "metadata": {
        "id": "aT-gLJq71u0y"
      },
      "source": [
        "- All web services are based on the REST; hence it is called a RESTful service. The purpose of developing a RESTful web service is to make the web service more effective. It does not depend on a specific protocol to use, but it's used HTTP/HTTPS."
      ]
    },
    {
      "cell_type": "markdown",
      "metadata": {
        "id": "iBaKx8aE1u0y"
      },
      "source": [
        "the Principles of REST"
      ]
    },
    {
      "cell_type": "markdown",
      "metadata": {
        "id": "nkl-UFMS1u0z"
      },
      "source": [
        "- Client-Server\n",
        "- Stateless Server\n",
        "- Cacheable\n",
        "- Uniform Interface\n",
        "- Layered System"
      ]
    },
    {
      "cell_type": "markdown",
      "metadata": {
        "id": "N2kfwt-S1u0z"
      },
      "source": [
        "- Client-Server\n",
        "- Client machines or users send a special request to the webserver and wait for the web server's response.server receives multiples requests from the client machines and responds to that request to the client."
      ]
    },
    {
      "cell_type": "markdown",
      "metadata": {
        "id": "bvFNdeh-1u0z"
      },
      "source": [
        "- Stateless Server: Each request generated from the client-side to the server should contain all the necessary information easily understood by the server."
      ]
    },
    {
      "cell_type": "markdown",
      "metadata": {
        "id": "sY5kPgQz1u0z"
      },
      "source": [
        "- Cacheable   A cache helps both the clients and the servers respond faster to not generate traffic to the web server. "
      ]
    },
    {
      "cell_type": "markdown",
      "metadata": {
        "id": "Yx3g0KPJ1u0z"
      },
      "source": [
        "- Uniform Interface: It is the technique that represents how the REST web service is worked with HTTP protocol."
      ]
    },
    {
      "cell_type": "markdown",
      "metadata": {
        "id": "VZSls-cu1u0z"
      },
      "source": [
        "- Layered System It is used to accommodate extra layers like proxy servers, firewalls, gateways, and caching system."
      ]
    },
    {
      "cell_type": "markdown",
      "metadata": {
        "id": "gBlNZhMf1u0z"
      },
      "source": [
        "Method of REST web service\n",
        "\n",
        "- GET: It is used to fetch information from the resource server.\n",
        "\n",
        "- POST: It is used to create or insert new information on the resource server.\n",
        "\n",
        "- DELETE: It is used to remove the records or information from the resource server.\n",
        "\n",
        "- PUT: It is used to manipulate or update the existing records on the server."
      ]
    },
    {
      "cell_type": "code",
      "execution_count": null,
      "metadata": {
        "id": "2K0gPagn1u00"
      },
      "outputs": [],
      "source": []
    },
    {
      "cell_type": "markdown",
      "metadata": {
        "id": "73sh-9VH1u00"
      },
      "source": [
        "**Q5. Differentiate between REST and SOAP.**"
      ]
    },
    {
      "cell_type": "markdown",
      "metadata": {
        "id": "mA4ieVZO1u00"
      },
      "source": [
        "- **SOAP** stands for Simple Object Access Protocol is a network platform.\n",
        "- Transports data in standard XML format.\n",
        "- Because it is XML based and relies on SOAP, it works with WSDL\n",
        "- Works over HTTP, HTTPS, SMTP, XMPP\n",
        "- Highly structured/typed\t\n",
        "- Designed with large enterprise applications in mind\n"
      ]
    },
    {
      "cell_type": "markdown",
      "metadata": {
        "id": "nR0AG5vf1u00"
      },
      "source": [
        "**REST API**"
      ]
    },
    {
      "cell_type": "markdown",
      "metadata": {
        "id": "h80xafE51u00"
      },
      "source": [
        "- REST stands for  REST (Representational State Transfer) architecture using HTTP.\n",
        "- Generally transports data in JSON. It is based on URI. Because REST follows stateless model, REST does not enforces message format as XML or JSON etc.\n",
        "- It works with GET, POST, PUT, DELETE\n",
        "- Works over HTTP and HTTPS\n",
        "- Less structured -> less bulky data\n",
        "- Designed with mobile devices in mind"
      ]
    },
    {
      "cell_type": "code",
      "execution_count": null,
      "metadata": {
        "id": "IlhH8KLg1u00"
      },
      "outputs": [],
      "source": []
    },
    {
      "cell_type": "code",
      "execution_count": null,
      "metadata": {
        "id": "sd3m6GSF1u00"
      },
      "outputs": [],
      "source": []
    }
  ],
  "metadata": {
    "kernelspec": {
      "display_name": "Python 3",
      "language": "python",
      "name": "python3"
    },
    "language_info": {
      "codemirror_mode": {
        "name": "ipython",
        "version": 3
      },
      "file_extension": ".py",
      "mimetype": "text/x-python",
      "name": "python",
      "nbconvert_exporter": "python",
      "pygments_lexer": "ipython3",
      "version": "3.7.3"
    },
    "colab": {
      "provenance": [],
      "include_colab_link": true
    }
  },
  "nbformat": 4,
  "nbformat_minor": 0
}