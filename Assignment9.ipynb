{
  "nbformat": 4,
  "nbformat_minor": 0,
  "metadata": {
    "colab": {
      "provenance": [],
      "authorship_tag": "ABX9TyMYNohA4YlBZ0ae3MPcYRyh",
      "include_colab_link": true
    },
    "kernelspec": {
      "name": "python3",
      "display_name": "Python 3"
    },
    "language_info": {
      "name": "python"
    }
  },
  "cells": [
    {
      "cell_type": "markdown",
      "metadata": {
        "id": "view-in-github",
        "colab_type": "text"
      },
      "source": [
        "<a href=\"https://colab.research.google.com/github/Riturajkumari/skills_basic_python/blob/main/Assignment9.ipynb\" target=\"_parent\"><img src=\"https://colab.research.google.com/assets/colab-badge.svg\" alt=\"Open In Colab\"/></a>"
      ]
    },
    {
      "cell_type": "code",
      "execution_count": null,
      "metadata": {
        "id": "CoS2XDy8MNGR"
      },
      "outputs": [],
      "source": []
    },
    {
      "cell_type": "markdown",
      "source": [
        "**Q1, Create a vehicle class with an init method having instance variables as name_of_vehicle, max_speed\n",
        "and average_of_vehicle.**"
      ],
      "metadata": {
        "id": "TsG2wEiqMW6n"
      }
    },
    {
      "cell_type": "code",
      "source": [
        "class Vehicle:\n",
        "\n",
        "    def __init__(self, name_of_vehicle, max_speed, average_of_vehicle):\n",
        "        self.name_of_vehicle = name_of_vehicle\n",
        "        self.max_speed = max_speed\n",
        "        self. average_of_vehicle =  average_of_vehicle"
      ],
      "metadata": {
        "id": "JFnuY6qNMZS2"
      },
      "execution_count": 1,
      "outputs": []
    },
    {
      "cell_type": "code",
      "source": [
        " def return_vehicle(self) : \n",
        "        return self.name_of_vehicle ,self.max_speed ,self.average_of_vehicle\n",
        "    "
      ],
      "metadata": {
        "id": "oUve8gNhNUWY"
      },
      "execution_count": 2,
      "outputs": []
    },
    {
      "cell_type": "markdown",
      "source": [
        " **Create a child class car from the vehicle class created in Que 1, which will inherit the vehicle class. \n",
        "Create a method named seating_capacity which takes capacity as an argument and returns the name of \n",
        "the vehicle and its seating capacity**"
      ],
      "metadata": {
        "id": "aViS7FquOG1I"
      }
    },
    {
      "cell_type": "code",
      "source": [
        "class Vehicle:\n",
        "    def __init__(self, name_of_vehicle, max_speed, average_of_vehicle):\n",
        "        self.name_of_vehicle = name_of_vehicle\n",
        "        self.max_speed = max_speed\n",
        "        self.average_of_vehicle = average_of_vehicle\n",
        "\n",
        "    def seating_capacity(self, capacity):\n",
        "        return f\"The seating capacity of a {self.name_of_vehicle} is {capacity} passengers\"\n",
        "\n",
        "class car(Vehicle):\n",
        "    # assign default value to capacity\n",
        "    def seating_capacity(self, capacity=50):\n",
        "        return super().seating_capacity(capacity=50)\n",
        "\n",
        "car1 = car(\"School Volvo\", 180, 12)\n",
        "print(car1.seating_capacity())\n",
        "print(car1)"
      ],
      "metadata": {
        "colab": {
          "base_uri": "https://localhost:8080/"
        },
        "id": "vYrkwZWyN6sy",
        "outputId": "e5a0a773-5236-4fb7-9e02-c20144622bd0"
      },
      "execution_count": 6,
      "outputs": [
        {
          "output_type": "stream",
          "name": "stdout",
          "text": [
            "The seating capacity of a School Volvo is 50 passengers\n",
            "<__main__.car object at 0x7f95cd3352e0>\n"
          ]
        }
      ]
    },
    {
      "cell_type": "markdown",
      "source": [
        "**What is multiple inheritance? Write a python code to demonstrate multiple inheritance**\n",
        "- Multiple Inheritance : \n",
        "When a class is derived from more than one base class it is called multiple Inheritance. The derived class inherits all the features of the base case.\n",
        "- syntax\n",
        "\n",
        "Class Base1:\n",
        "\n",
        "       Body of the class\n",
        "\n",
        "Class Base2:\n",
        "\n",
        "     Body of the class\n",
        "\n",
        "Class Derived(Base1, Base2):\n",
        "\n",
        "     Body of the class"
      ],
      "metadata": {
        "id": "RGQk1lLuQxK-"
      }
    },
    {
      "cell_type": "code",
      "source": [
        "class Class1:\n",
        "    def m(self):\n",
        "        print(\"In Class1\") \n",
        "      \n",
        "class Class2(Class1):\n",
        "    def m(self):\n",
        "        print(\"In Class2\")\n",
        " \n",
        "class Class3(Class1):\n",
        "    def m(self):\n",
        "        print(\"In Class3\")    \n",
        "     \n",
        "class Class4(Class2, Class3):\n",
        "    def m(self):\n",
        "        print(\"In Class4\")  \n",
        "        Class2.m(self)\n",
        "        Class3.m(self)\n",
        "        Class1.m(self)\n",
        " \n",
        "obj = Class4()\n",
        "obj.m()"
      ],
      "metadata": {
        "colab": {
          "base_uri": "https://localhost:8080/"
        },
        "id": "7ZuxSverP_X6",
        "outputId": "4399c902-f86c-4b18-d8cb-6123b1d378e1"
      },
      "execution_count": 7,
      "outputs": [
        {
          "output_type": "stream",
          "name": "stdout",
          "text": [
            "In Class4\n",
            "In Class2\n",
            "In Class3\n",
            "In Class1\n"
          ]
        }
      ]
    },
    {
      "cell_type": "code",
      "source": [
        "\n",
        "# Python Program to  multiple inheritance\n",
        "# when method is overridden in one of the classes\n",
        " \n",
        "class Class1:\n",
        "    def m(self):\n",
        "        print(\"In Class1\")\n",
        "       \n",
        "class Class2(Class1):\n",
        "    pass\n",
        " \n",
        "class Class3(Class1):\n",
        "    def m(self):\n",
        "        print(\"In Class3\")   \n",
        "      \n",
        "class Class4(Class2, Class3):\n",
        "    pass      \n",
        " \n",
        "obj = Class4()\n",
        "obj.m()"
      ],
      "metadata": {
        "colab": {
          "base_uri": "https://localhost:8080/"
        },
        "id": "XrmTwY0CRwDN",
        "outputId": "2516f22e-7990-462a-9d98-c87724a1e981"
      },
      "execution_count": 8,
      "outputs": [
        {
          "output_type": "stream",
          "name": "stdout",
          "text": [
            "In Class3\n"
          ]
        }
      ]
    },
    {
      "cell_type": "code",
      "source": [
        "class Class1:\n",
        "    def m(self):\n",
        "        print(\"In Class1\") \n",
        "      \n",
        "class Class2(Class1):\n",
        "    def m(self):\n",
        "        print(\"In Class2\")\n",
        " \n",
        "class Class3(Class1):\n",
        "    def m(self):\n",
        "        print(\"In Class3\")    \n",
        "     \n",
        "class Class4(Class2, Class3):\n",
        "    def m(self):\n",
        "        print(\"In Class4\")  \n",
        "        Class2.m(self)\n",
        "        Class3.m(self)\n",
        "        Class1.m(self)\n",
        " \n",
        "obj = Class4()\n",
        "obj.m()"
      ],
      "metadata": {
        "colab": {
          "base_uri": "https://localhost:8080/"
        },
        "id": "siMlshO_RwHY",
        "outputId": "9ad6d99d-0925-4434-fa9d-7d4bcfbaee09"
      },
      "execution_count": 9,
      "outputs": [
        {
          "output_type": "stream",
          "name": "stdout",
          "text": [
            "In Class4\n",
            "In Class2\n",
            "In Class3\n",
            "In Class1\n"
          ]
        }
      ]
    },
    {
      "cell_type": "markdown",
      "source": [
        "**What are getter and setter in python? Create a class and create a getter and a setter method in this \n",
        "class**"
      ],
      "metadata": {
        "id": "EC66wO-xUrnY"
      }
    },
    {
      "cell_type": "markdown",
      "source": [
        "- the main purpose of using getters and setters in object-oriented programs is to ensure data encapsulation. because we want to hide the attributes of a object class from other classes so that no accidental modification of the data happens by methods in other classes.\n",
        "- getters & setters to add validation logic around getting and setting a value.\n",
        "- To avoid direct access of a class field i.e. private variables cannot be accessed directly or modified by external user."
      ],
      "metadata": {
        "id": "DKvxC07uVnSK"
      }
    },
    {
      "cell_type": "code",
      "source": [
        "class year_graduated:\n",
        "   def __init__(self, year=32):\n",
        "      self._year = year\n",
        "\n",
        "   # make the getter method\n",
        "   def get_year(self):\n",
        "      return self._year\n",
        "\n",
        "   # make the setter method\n",
        "   def set_year(self, a):\n",
        "      self._year = a\n",
        "\n",
        "grad_obj = year_graduated()\n",
        "print(grad_obj._year)\n",
        "\n",
        "# Before using setter\n",
        "print(grad_obj.get_year())\n",
        "#\n",
        "# # After using setter\n",
        "grad_obj.set_year(2019)\n",
        "print(grad_obj._year)"
      ],
      "metadata": {
        "colab": {
          "base_uri": "https://localhost:8080/"
        },
        "id": "9Lad7OHYRuJh",
        "outputId": "5f34b46b-7d39-403d-c19d-08104b7005f0"
      },
      "execution_count": 13,
      "outputs": [
        {
          "output_type": "stream",
          "name": "stdout",
          "text": [
            "32\n",
            "32\n",
            "2019\n"
          ]
        }
      ]
    },
    {
      "cell_type": "code",
      "source": [
        "class A:\n",
        "    def __init__(self, age = 0):\n",
        "         self._age = age\n",
        "      \n",
        "    # getter method\n",
        "    def get_age(self):\n",
        "        return self._age\n",
        "      \n",
        "    # setter method\n",
        "    def set_age(self, x):\n",
        "        self._age = x\n",
        "  \n",
        "raj = A()\n",
        "  \n",
        "# setting the age using setter\n",
        "raj.set_age(21)\n",
        "  \n",
        "# retrieving age using getter\n",
        "print(raj.get_age())\n",
        "  \n",
        "print(raj._age)"
      ],
      "metadata": {
        "colab": {
          "base_uri": "https://localhost:8080/"
        },
        "id": "llqe28IzUcwX",
        "outputId": "cc733d5f-075e-438e-fcbc-5a057e1e8479"
      },
      "execution_count": 14,
      "outputs": [
        {
          "output_type": "stream",
          "name": "stdout",
          "text": [
            "21\n",
            "21\n"
          ]
        }
      ]
    },
    {
      "cell_type": "markdown",
      "source": [
        "**5.What is method overriding in python? Write a python code to demonstrate method overriding**"
      ],
      "metadata": {
        "id": "iNoJDnyaZjMk"
      }
    },
    {
      "cell_type": "markdown",
      "source": [
        "\n",
        "- The method overriding in Python means creating two methods with the same name but differ in the programming logic. The concept of Method overriding allows us to change or override the Parent Class function in the Child Class.\n",
        "-  When a method in a subclass has the same name, same parameters or signature and same return type(or sub-type) as a method in its super-class, then the method in the subclass is said to override the method in the super-class.\n"
      ],
      "metadata": {
        "id": "wYkQ77FDZ9OP"
      }
    },
    {
      "cell_type": "code",
      "source": [
        "class Employee:\n",
        "      \n",
        "    def message(self):\n",
        "        print('This message is from Emp')\n",
        "  \n",
        "class Department(Employee):\n",
        "  \n",
        "    def message(self):\n",
        "        print('This Department is inherited from Emp')\n",
        "  \n",
        "emp = Employee()\n",
        "emp.message()\n",
        "dept = Department()\n",
        "dept.message()"
      ],
      "metadata": {
        "colab": {
          "base_uri": "https://localhost:8080/"
        },
        "id": "VmVM5AyGUczf",
        "outputId": "e9c44357-9d6f-4a9d-ed43-35e6b4b61fef"
      },
      "execution_count": 15,
      "outputs": [
        {
          "output_type": "stream",
          "name": "stdout",
          "text": [
            "This message is from Emp\n",
            "This Department is inherited from Emp\n"
          ]
        }
      ]
    },
    {
      "cell_type": "code",
      "source": [
        "# Defining parent class\n",
        "class Parent():\n",
        "      \n",
        "    # Constructor\n",
        "    def __init__(self):\n",
        "        self.value = \"Inside Parent\"\n",
        "          \n",
        "    # Parent's show method\n",
        "    def show(self):\n",
        "        print(self.value)\n",
        "          \n",
        "# Defining child class\n",
        "class Child(Parent):\n",
        "      \n",
        "    # Constructor\n",
        "    def __init__(self):\n",
        "        self.value = \"Inside Child\"\n",
        "          \n",
        "    # Child's show method\n",
        "    def show(self):\n",
        "        print(self.value)\n",
        "          \n",
        "          \n",
        "# Driver's code\n",
        "obj1 = Parent()\n",
        "obj2 = Child()\n",
        "  \n",
        "obj1.show()\n",
        "obj2.show()"
      ],
      "metadata": {
        "colab": {
          "base_uri": "https://localhost:8080/"
        },
        "id": "dGidv7hQZc83",
        "outputId": "364712e2-0b4c-4ffc-cfcd-54a56bd13e26"
      },
      "execution_count": 16,
      "outputs": [
        {
          "output_type": "stream",
          "name": "stdout",
          "text": [
            "Inside Parent\n",
            "Inside Child\n"
          ]
        }
      ]
    },
    {
      "cell_type": "code",
      "source": [],
      "metadata": {
        "id": "6eVgJeuRZdBB"
      },
      "execution_count": null,
      "outputs": []
    },
    {
      "cell_type": "code",
      "source": [],
      "metadata": {
        "id": "V6q7ToVVZdFf"
      },
      "execution_count": null,
      "outputs": []
    },
    {
      "cell_type": "code",
      "source": [],
      "metadata": {
        "id": "IfaT1RfuUc2X"
      },
      "execution_count": null,
      "outputs": []
    },
    {
      "cell_type": "code",
      "source": [],
      "metadata": {
        "id": "gaY_Hbg-Uc5M"
      },
      "execution_count": null,
      "outputs": []
    },
    {
      "cell_type": "code",
      "source": [],
      "metadata": {
        "id": "NAYC26y_Uc8m"
      },
      "execution_count": null,
      "outputs": []
    },
    {
      "cell_type": "code",
      "source": [],
      "metadata": {
        "id": "Q88evjqtUdBR"
      },
      "execution_count": null,
      "outputs": []
    },
    {
      "cell_type": "code",
      "source": [],
      "metadata": {
        "id": "hYg1SzJ6UdFt"
      },
      "execution_count": null,
      "outputs": []
    },
    {
      "cell_type": "code",
      "source": [],
      "metadata": {
        "id": "K__yPPbKUdKM"
      },
      "execution_count": null,
      "outputs": []
    }
  ]
}