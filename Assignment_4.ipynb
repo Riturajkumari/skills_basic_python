{
  "nbformat": 4,
  "nbformat_minor": 0,
  "metadata": {
    "colab": {
      "provenance": [],
      "authorship_tag": "ABX9TyPNFTlZ7IHeb/JRgRUg2dcv",
      "include_colab_link": true
    },
    "kernelspec": {
      "name": "python3",
      "display_name": "Python 3"
    },
    "language_info": {
      "name": "python"
    }
  },
  "cells": [
    {
      "cell_type": "markdown",
      "metadata": {
        "id": "view-in-github",
        "colab_type": "text"
      },
      "source": [
        "<a href=\"https://colab.research.google.com/github/Riturajkumari/skills_basic_python/blob/main/Assignment_4.ipynb\" target=\"_parent\"><img src=\"https://colab.research.google.com/assets/colab-badge.svg\" alt=\"Open In Colab\"/></a>"
      ]
    },
    {
      "cell_type": "markdown",
      "source": [
        "**1.Which keyword is used to create a function? Create a function to return a list of odd numbers in the \n",
        "range of 1 to 25**"
      ],
      "metadata": {
        "id": "sQ8RLNCjezQW"
      }
    },
    {
      "cell_type": "markdown",
      "source": [
        "- program to create function func1() to accept a variable length of arguments and print their value.\n",
        "- Return multiple values from a function"
      ],
      "metadata": {
        "id": "kvyP-W0Af7oA"
      }
    },
    {
      "cell_type": "code",
      "source": [
        "# call function with 3 arguments\n",
        "def my_function():\n",
        "  print(\"Hello from a function\")\n",
        "# calling function\n",
        "my_function()"
      ],
      "metadata": {
        "colab": {
          "base_uri": "https://localhost:8080/"
        },
        "id": "aw1q9FMEe4ax",
        "outputId": "ba13091c-e822-4e4e-aa05-bf70081e70a5"
      },
      "execution_count": 1,
      "outputs": [
        {
          "output_type": "stream",
          "name": "stdout",
          "text": [
            "Hello from a function\n"
          ]
        }
      ]
    },
    {
      "cell_type": "code",
      "source": [
        "odds = []\n",
        "def findOdds(listOfNumbers):\n",
        "    if listOfNumbers[0] % 2 == 1:\n",
        "        odds.append(listOfNumbers[0])\n",
        "    if len(listOfNumbers) > 1:\n",
        "        findOdds(listOfNumbers[1:])\n",
        "\n",
        "findOdds(range(1,26))\n",
        "print (odds)"
      ],
      "metadata": {
        "colab": {
          "base_uri": "https://localhost:8080/"
        },
        "id": "uzn-m8kojeWH",
        "outputId": "5e3b4f38-9eba-498c-b519-310e0685ed50"
      },
      "execution_count": 2,
      "outputs": [
        {
          "output_type": "stream",
          "name": "stdout",
          "text": [
            "[1, 3, 5, 7, 9, 11, 13, 15, 17, 19, 21, 23, 25]\n"
          ]
        }
      ]
    },
    {
      "cell_type": "markdown",
      "source": [
        "  Why *args and **kwargs is used in some functions? Create a function each for *args and **kwargs to demonstrate their use**"
      ],
      "metadata": {
        "id": "jRDVz4EqnZvM"
      }
    },
    {
      "cell_type": "markdown",
      "source": [
        "Special Symbols Used for passing arguments:-\n",
        "\n",
        "- *args (Non-Keyword Arguments)\n",
        "- **kwargs (Keyword Arguments)\n",
        "- *args allows to take in more arguments than the number of formal arguments\n",
        "- we want to make a multiply function that takes any number of arguments and is able to multiply them all together. It can be done using *args."
      ],
      "metadata": {
        "id": "NLYIPONoofXu"
      }
    },
    {
      "cell_type": "code",
      "source": [
        "def myFun(*arg):\n",
        "    for arg1 in arg:\n",
        "        print(arg1)\n",
        " \n",
        " \n",
        "myFun('Hello', 'Welcome', 'to', 'Rashmi')"
      ],
      "metadata": {
        "colab": {
          "base_uri": "https://localhost:8080/"
        },
        "id": "Q6Z1xkioqUvu",
        "outputId": "16c7fb9f-eba5-40f0-b94f-4398d1a45c30"
      },
      "execution_count": 3,
      "outputs": [
        {
          "output_type": "stream",
          "name": "stdout",
          "text": [
            "Hello\n",
            "Welcome\n",
            "to\n",
            "Rashmi\n"
          ]
        }
      ]
    },
    {
      "cell_type": "code",
      "source": [
        "def adder(*num):\n",
        "    sum = 0\n",
        "    \n",
        "    for n in num:\n",
        "        sum = sum + n\n",
        "\n",
        "    print(\"Sum:\",sum)\n",
        "adder(15,56)"
      ],
      "metadata": {
        "colab": {
          "base_uri": "https://localhost:8080/"
        },
        "id": "aQtMlCL_s93N",
        "outputId": "aaee392c-c0dc-4600-dcfa-e81e0dda4365"
      },
      "execution_count": 4,
      "outputs": [
        {
          "output_type": "stream",
          "name": "stdout",
          "text": [
            "Sum: 71\n"
          ]
        }
      ]
    },
    {
      "cell_type": "markdown",
      "source": [
        "- **kwargs accept keyworded variable-length argument passed by the function call.\n",
        "- Will allow to pass multiple keyword arguments of varying length.\n",
        "- Will unpack the key-value pairs from a dictionary.\n",
        "- used to merge two dictionaries."
      ],
      "metadata": {
        "id": "SvvfSofNq_Gu"
      }
    },
    {
      "cell_type": "code",
      "source": [
        "def intro(**data):\n",
        "    print(\"\\nData type of argument:\",type(data))\n",
        "\n",
        "    for key, value in data.items():\n",
        "        print(\"{} is {}\".format(key,value))\n",
        "\n",
        "intro(Firstname=\"Sita\", Lastname=\"Sharma\", Age=22, Phone=1234567890)\n",
        "intro(Firstname=\"John\", Lastname=\"Wood\", Email=\"johnwood@nomail.com\", Country=\"Wakanda\", Age=25, Phone=9876543210)"
      ],
      "metadata": {
        "colab": {
          "base_uri": "https://localhost:8080/"
        },
        "id": "EMRpRWD8qczC",
        "outputId": "f5bf25b9-b850-45ab-9f48-9beb349e4fe6"
      },
      "execution_count": 5,
      "outputs": [
        {
          "output_type": "stream",
          "name": "stdout",
          "text": [
            "\n",
            "Data type of argument: <class 'dict'>\n",
            "Firstname is Sita\n",
            "Lastname is Sharma\n",
            "Age is 22\n",
            "Phone is 1234567890\n",
            "\n",
            "Data type of argument: <class 'dict'>\n",
            "Firstname is John\n",
            "Lastname is Wood\n",
            "Email is johnwood@nomail.com\n",
            "Country is Wakanda\n",
            "Age is 25\n",
            "Phone is 9876543210\n"
          ]
        }
      ]
    },
    {
      "cell_type": "markdown",
      "source": [
        "**What is an iterator in python? Name the method used to initialise the iterator object and the method \n",
        "used for iteration. Use these methods to print the first five elements of the given list [2, 4, 6, 8, 10, 12, 14, \n",
        "16, 18, 20]**"
      ],
      "metadata": {
        "id": "Eho10mO2SrnE"
      }
    },
    {
      "cell_type": "markdown",
      "source": [
        "- Iterators are methods that iterate collections like lists, tuples, etc. Using an iterator method, we can loop through an object and return its elements.\n",
        "- Iterators are methods that iterate collections like lists, tuples, etc. Using an iterator method, we can loop through an object and return its elements.\n"
      ],
      "metadata": {
        "id": "YXKsuKYYSy_t"
      }
    },
    {
      "cell_type": "code",
      "source": [
        "# example\n",
        "# define a list\n",
        "my_list = [4, 7, 0]\n",
        "\n",
        "# create an iterator from the list\n",
        "iterator = iter(my_list)\n",
        "print(iterator)\n",
        "# get the first element of the iterator\n",
        "print(next(iterator))  # prints 4\n",
        "\n",
        "# get the second element of the iterator\n",
        "print(next(iterator))  # prints 7\n",
        "\n",
        "# get the third element of the iterator\n",
        "print(next(iterator))  # prints 0\n"
      ],
      "metadata": {
        "colab": {
          "base_uri": "https://localhost:8080/"
        },
        "id": "8dn4_6n1tavi",
        "outputId": "f492ff22-5ab1-431a-c5b8-4cb35fd097f3"
      },
      "execution_count": 7,
      "outputs": [
        {
          "output_type": "stream",
          "name": "stdout",
          "text": [
            "<list_iterator object at 0x7f47b1550fd0>\n",
            "4\n",
            "7\n",
            "0\n"
          ]
        }
      ]
    },
    {
      "cell_type": "code",
      "source": [
        "#given list [2, 4, 6, 8, 10, 12, 14, 16, 18, 20]"
      ],
      "metadata": {
        "id": "CaVKGvcxthYq"
      },
      "execution_count": 9,
      "outputs": []
    },
    {
      "cell_type": "code",
      "source": [
        "# create the list of iterator\n",
        "list= [2,4,6,8,10,12,14,16,18,20]\n",
        "count=0\n",
        "iterator=iter(list)\n",
        "for i in iterator:\n",
        "  if count<5:\n",
        "\n",
        "    print(i)\n",
        "    count+=1\n",
        "\n"
      ],
      "metadata": {
        "colab": {
          "base_uri": "https://localhost:8080/"
        },
        "id": "_OyAz2xTthbR",
        "outputId": "9386445f-8dee-4873-acad-37b3b5d3b7c2"
      },
      "execution_count": 18,
      "outputs": [
        {
          "output_type": "stream",
          "name": "stdout",
          "text": [
            "2\n",
            "4\n",
            "6\n",
            "8\n",
            "10\n"
          ]
        }
      ]
    },
    {
      "cell_type": "markdown",
      "source": [
        "**What is a generator function in python? Why yield keyword is used? Give an example of a generator \n",
        "function**"
      ],
      "metadata": {
        "id": "raoc0ACNWAva"
      }
    },
    {
      "cell_type": "markdown",
      "source": [
        "- Python provides a generator to create your own iterator function. A generator is a special type of function which does not return a single value, instead, it returns an iterator object with a sequence of values. In a generator function, a yield statement is used rather than a return statement. \n",
        "- normal function defined by the def keyword and uses a yield keyword instead of return."
      ],
      "metadata": {
        "id": "Lv2-DCpvWach"
      }
    },
    {
      "cell_type": "code",
      "source": [
        "# program to print the table of the given number using the generator.\n",
        "def table(n):  \n",
        "    for i in range(1,11):\n",
        "       yield n*i  \n",
        "       i = i+1 \n",
        "for i in table(15):  \n",
        "    print(i)        \n"
      ],
      "metadata": {
        "colab": {
          "base_uri": "https://localhost:8080/"
        },
        "id": "Nf95xG6Dthd8",
        "outputId": "5935760a-252d-4d7e-f25f-65a81989d027"
      },
      "execution_count": 22,
      "outputs": [
        {
          "output_type": "stream",
          "name": "stdout",
          "text": [
            "15\n",
            "30\n",
            "45\n",
            "60\n",
            "75\n",
            "90\n",
            "105\n",
            "120\n",
            "135\n",
            "150\n"
          ]
        }
      ]
    },
    {
      "cell_type": "markdown",
      "source": [
        "**Create a generator function for prime numbers less than 1000. Use the next() method to print the \n",
        "first 20 prime numbers.**"
      ],
      "metadata": {
        "id": "ZbcymLHmX4s1"
      }
    },
    {
      "cell_type": "code",
      "source": [
        "def primes():\n",
        "    yield 2\n",
        "    primes_list = [2]\n",
        "    for i in range(3, 1000):\n",
        "        is_prime = True\n",
        "        for prime in primes_list:\n",
        "            if i % prime == 0:\n",
        "                is_prime = False\n",
        "                break\n",
        "        if is_prime:\n",
        "            primes_list.append(i)\n",
        "            yield i\n",
        "\n",
        "prime_gen = primes()\n",
        "# the next() method to print the first 20 prime numbers.\n",
        "for i in range(20):\n",
        "    print(next(prime_gen))"
      ],
      "metadata": {
        "colab": {
          "base_uri": "https://localhost:8080/"
        },
        "id": "nIOP6V9Zthge",
        "outputId": "a31347a3-24c6-456a-c02d-73fe9e705cff"
      },
      "execution_count": 33,
      "outputs": [
        {
          "output_type": "stream",
          "name": "stdout",
          "text": [
            "2\n",
            "3\n",
            "5\n",
            "7\n",
            "11\n",
            "13\n",
            "17\n",
            "19\n",
            "23\n",
            "29\n",
            "31\n",
            "37\n",
            "41\n",
            "43\n",
            "47\n",
            "53\n",
            "59\n",
            "61\n",
            "67\n",
            "71\n"
          ]
        }
      ]
    },
    {
      "cell_type": "code",
      "source": [],
      "metadata": {
        "id": "W0fN26K7cByA"
      },
      "execution_count": null,
      "outputs": []
    },
    {
      "cell_type": "markdown",
      "source": [
        "**Write a python program to print the first 10 Fibonacci numbers using a while loop**"
      ],
      "metadata": {
        "id": "EYOlCuH2cAkV"
      }
    },
    {
      "cell_type": "code",
      "source": [
        "# Program to display the Fibonacci sequence up to nth term\n",
        "\n",
        "n = int(input(\"Enter the n terms: \"))\n",
        "n1, n2 = 0, 1\n",
        "count = 0\n",
        "if n <= 0:\n",
        "   print(\"enter a positive integer\")\n",
        "elif n == 1:\n",
        "   print(\"Fibonacci sequence upto\",n,\":\")\n",
        "   print(n1)\n",
        "else:\n",
        "   print(\"Fibonacci sequence:\")\n",
        "   while count < n:\n",
        "       print(n1)\n",
        "       r = n1 + n2\n",
        "       n1 = n2\n",
        "       n2 = r\n",
        "       count += 1"
      ],
      "metadata": {
        "colab": {
          "base_uri": "https://localhost:8080/"
        },
        "id": "kVf_PxnZthjm",
        "outputId": "f4bbfdd2-65c9-4058-b18a-93ebc4a0db8d"
      },
      "execution_count": 26,
      "outputs": [
        {
          "output_type": "stream",
          "name": "stdout",
          "text": [
            "Enter the n terms: 8\n",
            "Fibonacci sequence:\n",
            "0\n",
            "1\n",
            "1\n",
            "2\n",
            "3\n",
            "5\n",
            "8\n",
            "13\n"
          ]
        }
      ]
    },
    {
      "cell_type": "markdown",
      "source": [
        "**Write a List Comprehension to iterate through the given string: ‘pwskills’.**\n",
        "\n",
        "**Expected output: ['p', 'w', 's', 'k', 'i', 'l', 'l', 's']**"
      ],
      "metadata": {
        "id": "-C_YBL0tcMk4"
      }
    },
    {
      "cell_type": "code",
      "source": [
        "string=[]\n",
        "for i in 'pwskills':\n",
        "  string.append(i)\n",
        "print(string)"
      ],
      "metadata": {
        "colab": {
          "base_uri": "https://localhost:8080/"
        },
        "id": "xK_QfUwlcJ7G",
        "outputId": "d433f878-38c9-4872-f540-ec8804a996b4"
      },
      "execution_count": 29,
      "outputs": [
        {
          "output_type": "stream",
          "name": "stdout",
          "text": [
            "['p', 'w', 's', 'k', 'i', 'l', 'l', 's']\n"
          ]
        }
      ]
    },
    {
      "cell_type": "code",
      "source": [],
      "metadata": {
        "id": "Z04bUjQychGj"
      },
      "execution_count": null,
      "outputs": []
    },
    {
      "cell_type": "markdown",
      "source": [
        "**Write a python program to check whether a given number is Palindrome or not using a while loop**"
      ],
      "metadata": {
        "id": "RHTatXPocoyn"
      }
    },
    {
      "cell_type": "code",
      "source": [
        "num = int(input(\"enter number:\"))\n",
        "temp = num\n",
        "reverse = 0\n",
        "while temp > 0:\n",
        "    remainder = temp % 10\n",
        "    reverse = (reverse * 10) + remainder\n",
        "    temp = temp // 10\n",
        "if num == reverse:\n",
        "  print('Palindrome')\n",
        "else:\n",
        "  print(\"Not Palindrome\")"
      ],
      "metadata": {
        "colab": {
          "base_uri": "https://localhost:8080/"
        },
        "id": "pk60Nq2ScKxy",
        "outputId": "853f15ab-50dd-44e6-a206-12999ce7c397"
      },
      "execution_count": 31,
      "outputs": [
        {
          "output_type": "stream",
          "name": "stdout",
          "text": [
            "enter number:22\n",
            "Palindrome\n"
          ]
        }
      ]
    },
    {
      "cell_type": "code",
      "source": [],
      "metadata": {
        "id": "6f6iBLA4c8FQ"
      },
      "execution_count": null,
      "outputs": []
    },
    {
      "cell_type": "markdown",
      "source": [
        "**Write a python program to check whether a given number is Palindrome or not using a while loop**\n",
        "\n",
        "Note: Use a list comprehension to create a list from 1 to 100 and use another List comprehension to filter \n",
        "out odd numbers"
      ],
      "metadata": {
        "id": "pO7Q_Thvc5NY"
      }
    },
    {
      "cell_type": "code",
      "source": [
        "number_list = [ x for x in range(100) if x % 2 == 0]\n",
        "print(number_list)"
      ],
      "metadata": {
        "colab": {
          "base_uri": "https://localhost:8080/"
        },
        "id": "GlKzTNo0dJxS",
        "outputId": "7b7b6da7-7a35-4d00-af5c-d2f8bdcd4a9b"
      },
      "execution_count": 32,
      "outputs": [
        {
          "output_type": "stream",
          "name": "stdout",
          "text": [
            "[0, 2, 4, 6, 8, 10, 12, 14, 16, 18, 20, 22, 24, 26, 28, 30, 32, 34, 36, 38, 40, 42, 44, 46, 48, 50, 52, 54, 56, 58, 60, 62, 64, 66, 68, 70, 72, 74, 76, 78, 80, 82, 84, 86, 88, 90, 92, 94, 96, 98]\n"
          ]
        }
      ]
    },
    {
      "cell_type": "code",
      "source": [],
      "metadata": {
        "id": "tUlqHwEXdJug"
      },
      "execution_count": null,
      "outputs": []
    },
    {
      "cell_type": "code",
      "source": [],
      "metadata": {
        "id": "5blbMGRgcK3k"
      },
      "execution_count": null,
      "outputs": []
    },
    {
      "cell_type": "code",
      "source": [],
      "metadata": {
        "id": "PZB4v0yscK6Y"
      },
      "execution_count": null,
      "outputs": []
    },
    {
      "cell_type": "code",
      "source": [],
      "metadata": {
        "id": "IS2Lgh5wc9GG"
      },
      "execution_count": null,
      "outputs": []
    },
    {
      "cell_type": "code",
      "source": [],
      "metadata": {
        "id": "T6cAso0uc9JP"
      },
      "execution_count": null,
      "outputs": []
    },
    {
      "cell_type": "code",
      "source": [],
      "metadata": {
        "id": "pGkhO-Cdc9L2"
      },
      "execution_count": null,
      "outputs": []
    },
    {
      "cell_type": "code",
      "source": [],
      "metadata": {
        "id": "6jBV1Layc9Pe"
      },
      "execution_count": null,
      "outputs": []
    },
    {
      "cell_type": "code",
      "source": [],
      "metadata": {
        "id": "MiwxOmpqc9S5"
      },
      "execution_count": null,
      "outputs": []
    },
    {
      "cell_type": "code",
      "source": [],
      "metadata": {
        "id": "5OwggUHnc9WS"
      },
      "execution_count": null,
      "outputs": []
    },
    {
      "cell_type": "code",
      "source": [],
      "metadata": {
        "id": "aj4GtYsic9Z6"
      },
      "execution_count": null,
      "outputs": []
    },
    {
      "cell_type": "code",
      "source": [],
      "metadata": {
        "id": "eWuBxZ9Fc9eJ"
      },
      "execution_count": null,
      "outputs": []
    }
  ]
}