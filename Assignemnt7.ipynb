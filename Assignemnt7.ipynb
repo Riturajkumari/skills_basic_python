{
  "nbformat": 4,
  "nbformat_minor": 0,
  "metadata": {
    "colab": {
      "provenance": [],
      "authorship_tag": "ABX9TyP5xJdUNJA518GD8vbcrGWj",
      "include_colab_link": true
    },
    "kernelspec": {
      "name": "python3",
      "display_name": "Python 3"
    },
    "language_info": {
      "name": "python"
    }
  },
  "cells": [
    {
      "cell_type": "markdown",
      "metadata": {
        "id": "view-in-github",
        "colab_type": "text"
      },
      "source": [
        "<a href=\"https://colab.research.google.com/github/Riturajkumari/skills_basic_python/blob/main/Assignemnt7.ipynb\" target=\"_parent\"><img src=\"https://colab.research.google.com/assets/colab-badge.svg\" alt=\"Open In Colab\"/></a>"
      ]
    },
    {
      "cell_type": "markdown",
      "source": [
        "**You are writing code for a company. The requirement of the company is that you create a python \n",
        "function that will check whether the password entered by the user is correct or not. The function should \n",
        "take the password as input and return the string “Valid Password” if the entered password follows the \n",
        "below-given password guidelines else it should return “Invalid Password”**\n",
        "\n",
        "Note: 1. The Password should contain at least two uppercase letters and at least two lowercase letters.\n",
        "\n",
        "2. The Password should contain at least a number and three special characters.\n",
        "\n",
        "3. The length of the password should be 10 characters long."
      ],
      "metadata": {
        "id": "VkZOvVxAuZ7k"
      }
    },
    {
      "cell_type": "code",
      "source": [
        "# Password validation in Python\n",
        "# using naive method\n",
        " \n",
        "# Function to validate the password\n",
        "def password_check(passwd):\n",
        "     \n",
        "    SpecialSym =['$', '@', '#', '%']\n",
        "    val = True\n",
        "     \n",
        "    if len(passwd) < 1:\n",
        "        print('length should be at least 1')\n",
        "        val = False\n",
        "         \n",
        "    if len(passwd) > 10:\n",
        "        print('length should be not be greater than 10')\n",
        "        val = False\n",
        "         \n",
        "    if not any(char.isdigit() for char in passwd):\n",
        "        print('Password should have at least one numeral')\n",
        "        val = False\n",
        "         \n",
        "    if not any(char.isupper() for char in passwd):\n",
        "        print('Password should have at least one uppercase letter')\n",
        "        val = False\n",
        "         \n",
        "    if not any(char.islower() for char in passwd):\n",
        "        print('Password should have at least one lowercase letter')\n",
        "        val = False\n",
        "         \n",
        "    if not any(char in SpecialSym for char in passwd):\n",
        "        print('Password should have at least one of the symbols $@#')\n",
        "        val = False\n",
        "    if val:\n",
        "        return val\n",
        " \n",
        "# Main method\n",
        "def main():\n",
        "    passwd = 'Ritu@123'\n",
        "     \n",
        "    if (password_check(passwd)):\n",
        "        print(\"Password is valid\")\n",
        "    else:\n",
        "        print(\"Invalid Password !!\")\n",
        "         \n",
        "# Driver Code       \n",
        "if __name__ == '__main__':\n",
        "    main()"
      ],
      "metadata": {
        "colab": {
          "base_uri": "https://localhost:8080/"
        },
        "id": "EXC-XCAxw-bM",
        "outputId": "5d638565-060d-4279-c297-89448a32e0d9"
      },
      "execution_count": 1,
      "outputs": [
        {
          "output_type": "stream",
          "name": "stdout",
          "text": [
            "Password is valid\n"
          ]
        }
      ]
    },
    {
      "cell_type": "markdown",
      "source": [
        "**Q2. Solve the below-given questions using at least one of the following:** \n",
        "\n",
        "1. Lambda function\n",
        "2. Filter function\n",
        "3. Map function\n",
        "4. List Comprehension\n"
      ],
      "metadata": {
        "id": "RiiKikFXx3Si"
      }
    },
    {
      "cell_type": "code",
      "source": [
        "# Check if the string starts with a particular letter"
      ],
      "metadata": {
        "id": "ADPqZtIWxvYT"
      },
      "execution_count": 2,
      "outputs": []
    },
    {
      "cell_type": "code",
      "source": [
        "starts_with = lambda x: True if x.startswith('P') else False\n",
        "print(starts_with('Python'))\n",
        "starts_with = lambda x: True if x.startswith('P') else False\n",
        "print(starts_with('Java'))"
      ],
      "metadata": {
        "colab": {
          "base_uri": "https://localhost:8080/"
        },
        "id": "4Ol2s00Cxvg6",
        "outputId": "897a0d1b-2cd0-4adf-d09f-bd1360ad15f9"
      },
      "execution_count": 4,
      "outputs": [
        {
          "output_type": "stream",
          "name": "stdout",
          "text": [
            "True\n",
            "False\n"
          ]
        }
      ]
    },
    {
      "cell_type": "code",
      "source": [
        "seq = ['soup','dog','salad','cat','great']\n",
        "result = list(filter(lambda x: (x[0] == 's'), seq)) \n",
        "print(result)"
      ],
      "metadata": {
        "colab": {
          "base_uri": "https://localhost:8080/"
        },
        "id": "4B1Nz0NsxvkS",
        "outputId": "da76fdd9-d373-4a01-af2b-be1d648038ac"
      },
      "execution_count": 5,
      "outputs": [
        {
          "output_type": "stream",
          "name": "stdout",
          "text": [
            "['soup', 'salad']\n"
          ]
        }
      ]
    },
    {
      "cell_type": "code",
      "source": [
        "#  Check if the string is numeric"
      ],
      "metadata": {
        "id": "VyXoGkeDzZNp"
      },
      "execution_count": 6,
      "outputs": []
    },
    {
      "cell_type": "code",
      "source": [
        "def containsNumber(value):\n",
        "    for character in value:\n",
        "        if character.isdigit():\n",
        "            return True\n",
        "    return False"
      ],
      "metadata": {
        "id": "RiCv1scbzoJM"
      },
      "execution_count": 7,
      "outputs": []
    },
    {
      "cell_type": "code",
      "source": [
        "containsNumber('12345')"
      ],
      "metadata": {
        "colab": {
          "base_uri": "https://localhost:8080/"
        },
        "id": "A0PShl-yAkIB",
        "outputId": "de7870e2-77e9-46ac-e137-fceae3f01ad4"
      },
      "execution_count": 9,
      "outputs": [
        {
          "output_type": "execute_result",
          "data": {
            "text/plain": [
              "True"
            ]
          },
          "metadata": {},
          "execution_count": 9
        }
      ]
    },
    {
      "cell_type": "code",
      "source": [
        "\n",
        "containsNumber('python')"
      ],
      "metadata": {
        "colab": {
          "base_uri": "https://localhost:8080/"
        },
        "id": "pn-pmBydApUJ",
        "outputId": "780b24ce-8a22-4bc9-ad68-dbdc503642b5"
      },
      "execution_count": 10,
      "outputs": [
        {
          "output_type": "execute_result",
          "data": {
            "text/plain": [
              "False"
            ]
          },
          "metadata": {},
          "execution_count": 10
        }
      ]
    },
    {
      "cell_type": "code",
      "source": [
        "# Sort a list of tuples having fruit names and their quantity. [(\"mango\",99),(\"orange\",80), (\"grapes\", 1000)]"
      ],
      "metadata": {
        "id": "kerebK8EA6ER"
      },
      "execution_count": 11,
      "outputs": []
    },
    {
      "cell_type": "code",
      "source": [
        "fruits= [(\"mango\",99),(\"orange\",80), (\"grapes\", 1000)]"
      ],
      "metadata": {
        "id": "kaELfpUWBY1T"
      },
      "execution_count": 12,
      "outputs": []
    },
    {
      "cell_type": "code",
      "source": [
        "red_fruit = filter(lambda f: f.color == \"mango\", fruits)"
      ],
      "metadata": {
        "id": "6qDgqvT5Bhwx"
      },
      "execution_count": 16,
      "outputs": []
    },
    {
      "cell_type": "code",
      "source": [
        "red_fruit"
      ],
      "metadata": {
        "colab": {
          "base_uri": "https://localhost:8080/"
        },
        "id": "rnlpadUOB34h",
        "outputId": "6b2ca3b3-bfba-4c88-cd56-d00f659f8273"
      },
      "execution_count": 17,
      "outputs": [
        {
          "output_type": "execute_result",
          "data": {
            "text/plain": [
              "<filter at 0x7f8e916d7640>"
            ]
          },
          "metadata": {},
          "execution_count": 17
        }
      ]
    },
    {
      "cell_type": "code",
      "source": [
        "data = list(map(tuple, fruits))"
      ],
      "metadata": {
        "id": "ZEJV5688CvUd"
      },
      "execution_count": 19,
      "outputs": []
    },
    {
      "cell_type": "code",
      "source": [
        "data"
      ],
      "metadata": {
        "colab": {
          "base_uri": "https://localhost:8080/"
        },
        "id": "PcAZWIojB6ap",
        "outputId": "a5b40b44-884f-4241-de8c-592d75f6184f"
      },
      "execution_count": 20,
      "outputs": [
        {
          "output_type": "execute_result",
          "data": {
            "text/plain": [
              "[('mango', 99), ('orange', 80), ('grapes', 1000)]"
            ]
          },
          "metadata": {},
          "execution_count": 20
        }
      ]
    },
    {
      "cell_type": "code",
      "source": [
        "data = [tuple(x) for x in fruits]"
      ],
      "metadata": {
        "id": "_5MZJk6ODXi8"
      },
      "execution_count": 21,
      "outputs": []
    },
    {
      "cell_type": "code",
      "source": [
        "data"
      ],
      "metadata": {
        "colab": {
          "base_uri": "https://localhost:8080/"
        },
        "id": "wqBmcN8XDhQZ",
        "outputId": "dbbfcfec-6af4-41f0-f3cf-d72fcc54a3b7"
      },
      "execution_count": 22,
      "outputs": [
        {
          "output_type": "execute_result",
          "data": {
            "text/plain": [
              "[('mango', 99), ('orange', 80), ('grapes', 1000)]"
            ]
          },
          "metadata": {},
          "execution_count": 22
        }
      ]
    },
    {
      "cell_type": "code",
      "source": [
        "data = list(zip(fruits))"
      ],
      "metadata": {
        "id": "9rdaPoihDiJU"
      },
      "execution_count": 23,
      "outputs": []
    },
    {
      "cell_type": "code",
      "source": [
        "data"
      ],
      "metadata": {
        "colab": {
          "base_uri": "https://localhost:8080/"
        },
        "id": "W7wuxPr7Dsj5",
        "outputId": "ecb51240-1b93-423f-fc12-4941382c4c91"
      },
      "execution_count": 24,
      "outputs": [
        {
          "output_type": "execute_result",
          "data": {
            "text/plain": [
              "[(('mango', 99),), (('orange', 80),), (('grapes', 1000),)]"
            ]
          },
          "metadata": {},
          "execution_count": 24
        }
      ]
    },
    {
      "cell_type": "code",
      "source": [
        "# Find the squares of numbers from 1 to 10\n",
        "is_even_list = [lambda arg = x: arg * arg for x in range(1, 10)]\n",
        " \n",
        "# iterate on each lambda function\n",
        "# and invoke the function to get the calculated value\n",
        "for item in is_even_list:\n",
        "    print(item())"
      ],
      "metadata": {
        "colab": {
          "base_uri": "https://localhost:8080/"
        },
        "id": "3m5QZKejDt7v",
        "outputId": "f6886787-9a43-4cc3-b28e-de307e45fb7c"
      },
      "execution_count": 30,
      "outputs": [
        {
          "output_type": "stream",
          "name": "stdout",
          "text": [
            "1\n",
            "4\n",
            "9\n",
            "16\n",
            "25\n",
            "36\n",
            "49\n",
            "64\n",
            "81\n"
          ]
        }
      ]
    },
    {
      "cell_type": "code",
      "source": [
        "# Find the cube root of numbers from 1 to 10\n",
        "# Find the squares of numbers from 1 to 10\n",
        "is_even_list = [lambda arg = x: arg * arg* arg for x in range(1, 10)]\n",
        " \n",
        "# iterate on each lambda function\n",
        "# and invoke the function to get the calculated value\n",
        "for item in is_even_list:\n",
        "    print(item())"
      ],
      "metadata": {
        "colab": {
          "base_uri": "https://localhost:8080/"
        },
        "id": "_RX-QHb4D0iZ",
        "outputId": "9c49ef5a-a401-4ec3-efda-91ac8e0dc6e2"
      },
      "execution_count": 31,
      "outputs": [
        {
          "output_type": "stream",
          "name": "stdout",
          "text": [
            "1\n",
            "8\n",
            "27\n",
            "64\n",
            "125\n",
            "216\n",
            "343\n",
            "512\n",
            "729\n"
          ]
        }
      ]
    },
    {
      "cell_type": "code",
      "source": [
        "def cube(y):\n",
        "    return y*y*y\n",
        " \n",
        " \n",
        "lambda_cube =[ lambda y: y*y*y for i in range (1,10)]\n",
        " \n",
        " \n",
        "# using function defined\n",
        "# using def keyword\n",
        "print(\"Using function defined with `def` keyword, cube:\", cube(5))\n",
        " \n"
      ],
      "metadata": {
        "colab": {
          "base_uri": "https://localhost:8080/"
        },
        "id": "WolWooYlE1Nh",
        "outputId": "cd10d17a-3663-4176-e265-69b6bc0998db"
      },
      "execution_count": 33,
      "outputs": [
        {
          "output_type": "stream",
          "name": "stdout",
          "text": [
            "Using function defined with `def` keyword, cube: 125\n"
          ]
        }
      ]
    },
    {
      "cell_type": "code",
      "source": [
        "#  Check if a given number is even\n",
        "list(map(lambda x:x%2==0, range(20)))"
      ],
      "metadata": {
        "colab": {
          "base_uri": "https://localhost:8080/"
        },
        "id": "ANh96Sg3FHWb",
        "outputId": "541473ef-7b1f-4e9c-f197-f8bd0214124e"
      },
      "execution_count": 35,
      "outputs": [
        {
          "output_type": "execute_result",
          "data": {
            "text/plain": [
              "[True,\n",
              " False,\n",
              " True,\n",
              " False,\n",
              " True,\n",
              " False,\n",
              " True,\n",
              " False,\n",
              " True,\n",
              " False,\n",
              " True,\n",
              " False,\n",
              " True,\n",
              " False,\n",
              " True,\n",
              " False,\n",
              " True,\n",
              " False,\n",
              " True,\n",
              " False]"
            ]
          },
          "metadata": {},
          "execution_count": 35
        }
      ]
    },
    {
      "cell_type": "code",
      "source": [
        "n = int(input(\" given any number : \"))\n",
        "list(map(lambda n: n*2, range(n//2)))\n",
        "# [0, 2, 4, 6, 8, 10, 12, 14, 16, 18]"
      ],
      "metadata": {
        "colab": {
          "base_uri": "https://localhost:8080/"
        },
        "id": "539L_4CNFaoi",
        "outputId": "c3380b7e-a25e-406c-b6e5-21df63d830ce"
      },
      "execution_count": 38,
      "outputs": [
        {
          "name": "stdout",
          "output_type": "stream",
          "text": [
            " given any number : 23\n"
          ]
        },
        {
          "output_type": "execute_result",
          "data": {
            "text/plain": [
              "[0, 2, 4, 6, 8, 10, 12, 14, 16, 18, 20]"
            ]
          },
          "metadata": {},
          "execution_count": 38
        }
      ]
    },
    {
      "cell_type": "code",
      "source": [
        "#  Filter odd numbers from the given list.\n",
        "\n",
        "list1= [1,2,3,4,5,6,7,8,9,10]\n"
      ],
      "metadata": {
        "id": "v2ZZMF45F2G4"
      },
      "execution_count": 40,
      "outputs": []
    },
    {
      "cell_type": "code",
      "source": [
        "def odd(x):\n",
        "    return x % 2 == 1\n",
        " \n",
        "result = filter(odd, list1)\n",
        "print('Original List :', list1)\n",
        "print('Filtered List :', list(result))"
      ],
      "metadata": {
        "colab": {
          "base_uri": "https://localhost:8080/"
        },
        "id": "JBSYWtQaGm84",
        "outputId": "70b4fff6-7668-4bbd-8c14-f095935a5845"
      },
      "execution_count": 42,
      "outputs": [
        {
          "output_type": "stream",
          "name": "stdout",
          "text": [
            "Original List : [1, 2, 3, 4, 5, 6, 7, 8, 9, 10]\n",
            "Filtered List : [1, 3, 5, 7, 9]\n"
          ]
        }
      ]
    },
    {
      "cell_type": "code",
      "source": [
        "# Sort a list of integers into positive and negative integers lists.\n",
        "\n",
        "list1 =[1,2,3,4,5,6,-1,-2,-3,-4,-5,0]"
      ],
      "metadata": {
        "id": "uWdu-VCmG6up"
      },
      "execution_count": 48,
      "outputs": []
    },
    {
      "cell_type": "code",
      "source": [
        "list(filter(lambda x: 0 <= x, list1))"
      ],
      "metadata": {
        "colab": {
          "base_uri": "https://localhost:8080/"
        },
        "id": "5gmu7TxbG_PI",
        "outputId": "6e1f8bf4-0c33-46d4-bc21-8df5603b4555"
      },
      "execution_count": 45,
      "outputs": [
        {
          "output_type": "execute_result",
          "data": {
            "text/plain": [
              "[1, 2, 3, 4, 5, 6, 0]"
            ]
          },
          "metadata": {},
          "execution_count": 45
        }
      ]
    },
    {
      "cell_type": "code",
      "source": [
        "list(filter(lambda x: 0 > x, list1))"
      ],
      "metadata": {
        "colab": {
          "base_uri": "https://localhost:8080/"
        },
        "id": "og_xFYI1G_Sh",
        "outputId": "3a64e2ba-391e-43a9-f19c-65af4cab71da"
      },
      "execution_count": 46,
      "outputs": [
        {
          "output_type": "execute_result",
          "data": {
            "text/plain": [
              "[-1, -2, -3, -4, -5]"
            ]
          },
          "metadata": {},
          "execution_count": 46
        }
      ]
    },
    {
      "cell_type": "code",
      "source": [
        "list((lambda x: 0 <= x and  0>x, sorted([list1])))"
      ],
      "metadata": {
        "colab": {
          "base_uri": "https://localhost:8080/"
        },
        "id": "uPKYpmPSG_VZ",
        "outputId": "4c89249d-b719-4566-d70d-ee8c3410c2fd"
      },
      "execution_count": 61,
      "outputs": [
        {
          "output_type": "execute_result",
          "data": {
            "text/plain": [
              "[<function __main__.<lambda>(x)>, [[1, 2, 3, 4, 5, 6, -1, -2, -3, -4, -5, 0]]]"
            ]
          },
          "metadata": {},
          "execution_count": 61
        }
      ]
    },
    {
      "cell_type": "code",
      "source": [
        "# Sort while keeping Positive elements before negatives\n",
        "# using sorted() + lambda\n",
        "res = sorted(list1, key = lambda i: 0 if i == 0 else -1 / i)\n",
        " \n",
        "# printing result\n",
        "print(res)"
      ],
      "metadata": {
        "colab": {
          "base_uri": "https://localhost:8080/"
        },
        "id": "EZAGTnTiIjCo",
        "outputId": "fbb80add-4f09-4b68-c3a0-d68e7ac624f3"
      },
      "execution_count": 72,
      "outputs": [
        {
          "output_type": "stream",
          "name": "stdout",
          "text": [
            "[1, 2, 3, 4, 5, 6, 0, -5, -4, -3, -2, -1]\n"
          ]
        }
      ]
    },
    {
      "cell_type": "code",
      "source": [
        "res =  sorted(filter(lambda x: x >= 0, list1)) + sorted(filter(lambda x: x < 0, list1))"
      ],
      "metadata": {
        "id": "KsQh0Mw7KgCp"
      },
      "execution_count": 73,
      "outputs": []
    },
    {
      "cell_type": "code",
      "source": [
        "res"
      ],
      "metadata": {
        "colab": {
          "base_uri": "https://localhost:8080/"
        },
        "id": "N0frPpEJK0Kh",
        "outputId": "11996c8d-fb34-4c53-c6e0-24462a630f6b"
      },
      "execution_count": 71,
      "outputs": [
        {
          "output_type": "execute_result",
          "data": {
            "text/plain": [
              "[0, 1, 2, 3, 4, 5, 6, -5, -4, -3, -2, -1]"
            ]
          },
          "metadata": {},
          "execution_count": 71
        }
      ]
    },
    {
      "cell_type": "code",
      "source": [],
      "metadata": {
        "id": "nS1QMZi5K21Z"
      },
      "execution_count": null,
      "outputs": []
    }
  ]
}