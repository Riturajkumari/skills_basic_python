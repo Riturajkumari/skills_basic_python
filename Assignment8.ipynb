{
  "nbformat": 4,
  "nbformat_minor": 0,
  "metadata": {
    "colab": {
      "provenance": [],
      "authorship_tag": "ABX9TyPJkww208O+SCny33UQmFWk",
      "include_colab_link": true
    },
    "kernelspec": {
      "name": "python3",
      "display_name": "Python 3"
    },
    "language_info": {
      "name": "python"
    }
  },
  "cells": [
    {
      "cell_type": "markdown",
      "metadata": {
        "id": "view-in-github",
        "colab_type": "text"
      },
      "source": [
        "<a href=\"https://colab.research.google.com/github/Riturajkumari/skills_basic_python/blob/main/Assignment8.ipynb\" target=\"_parent\"><img src=\"https://colab.research.google.com/assets/colab-badge.svg\" alt=\"Open In Colab\"/></a>"
      ]
    },
    {
      "cell_type": "code",
      "execution_count": null,
      "metadata": {
        "id": "OiFLfHIciJ2E"
      },
      "outputs": [],
      "source": [
        "# Q1. What is Abstraction in OOps? Explain with an example."
      ]
    },
    {
      "cell_type": "markdown",
      "source": [
        "- Abstraction is used to hide the internal functionality of the function from the users.\n",
        "\n",
        "- data abstraction in python programming means to hide internal functionalities that are performing on the application using codes and to show only essential information (class attributes).\n",
        "- **example - When we use the TV remote to increase the volume. We don't know how pressing a key increases the volume of the TV. We only know to press the \"+\" button to increase the volume.**\n",
        "- *In Python, abstraction can be achieved by using abstract classes and interfaces.*\n",
        "\n",
        "Syntax:\n",
        "\n",
        " from abc import ABC\n",
        "\n",
        " class ClassName(ABC):"
      ],
      "metadata": {
        "id": "jsA72P9an_6v"
      }
    },
    {
      "cell_type": "code",
      "source": [
        "# example\n",
        "# Python program demonstrate  \n",
        "# abstract base class work   \n",
        "from abc import ABC, abstractmethod   \n",
        "class Car(ABC):   \n",
        "    def mileage(self):   \n",
        "        pass  \n",
        "  \n",
        "class Tesla(Car):   \n",
        "    def mileage(self):   \n",
        "        print(\"The mileage is 30kmph\")   \n",
        "class Suzuki(Car):   \n",
        "    def mileage(self):   \n",
        "        print(\"The mileage is 25kmph \")   \n",
        "class Duster(Car):   \n",
        "     def mileage(self):   \n",
        "          print(\"The mileage is 24kmph \")   \n",
        "  \n",
        "class Renault(Car):   \n",
        "    def mileage(self):   \n",
        "            print(\"The mileage is 27kmph \")   \n",
        "          \n",
        "# Driver code   \n",
        "t= Tesla ()   \n",
        "t.mileage()   \n",
        "  \n",
        "r = Renault()   \n",
        "r.mileage()   \n",
        "  \n",
        "s = Suzuki()   \n",
        "s.mileage()   \n",
        "d = Duster()   \n",
        "d.mileage()  "
      ],
      "metadata": {
        "colab": {
          "base_uri": "https://localhost:8080/"
        },
        "id": "34J9UXLBsRiZ",
        "outputId": "32e20c6e-3ea6-4323-ed23-b9fb4da23d77"
      },
      "execution_count": null,
      "outputs": [
        {
          "output_type": "stream",
          "name": "stdout",
          "text": [
            "The mileage is 30kmph\n",
            "The mileage is 27kmph \n",
            "The mileage is 25kmph \n",
            "The mileage is 24kmph \n"
          ]
        }
      ]
    },
    {
      "cell_type": "code",
      "source": [
        "# Differentiate between Abstraction and Encapsulation. Explain with an example."
      ],
      "metadata": {
        "id": "MhYbYKkKsnrL"
      },
      "execution_count": null,
      "outputs": []
    },
    {
      "cell_type": "markdown",
      "source": [
        "**Abstraction**\n",
        "\n",
        "- Shows, what elements are necessary to build a system.\n",
        "- During 'design level'.\n",
        "- Focus is on \"what\" should be done\n",
        "- Achieved through encapsulation.\n",
        "- The GUI of a mobile phone, it has some icons to click on, which on click perform the specific function.\n",
        "- Abstraction: Hiding internal details and showing functionality only. Abstraction focus on what the object does instead of how it does."
      ],
      "metadata": {
        "id": "zhuUT5jIvu1k"
      }
    },
    {
      "cell_type": "markdown",
      "source": [
        "**Encapsulation**\n",
        "- Hides the complexity of a system.\n",
        "- During 'Implementation level'.\n",
        "- Focus is on \"how\" it should be done.\n",
        "- Achieved through making the members of a class as 'private'.\n",
        "- After the icon is clicked, the end user has no idea regarding its implementation details\n",
        "- Encapsulation: Wrapping code and data together into a single unit. Class is an example of encapsulation, because it wraps the method and property."
      ],
      "metadata": {
        "id": "Zp7rxripwPeY"
      }
    },
    {
      "cell_type": "markdown",
      "source": [],
      "metadata": {
        "id": "Pv-4WWub14jC"
      }
    },
    {
      "cell_type": "markdown",
      "source": [
        "Q3. **What is abc module in python? Why is it used?**"
      ],
      "metadata": {
        "id": "JvIWYv6w17kx"
      }
    },
    {
      "cell_type": "markdown",
      "source": [
        "The 'abc' module in Python library provides the infrastructure for defining custom abstract base classes.\n",
        "\n",
        "'abc' works by marking methods of the base class as abstract. This is done by @absttractmethod decorator. A concrete class which is a sub class of such abstract base class then implements the abstract base by overriding its abstract methods."
      ],
      "metadata": {
        "id": "foperd5o14mZ"
      }
    },
    {
      "cell_type": "markdown",
      "source": [
        "**abstract base class(abc) and its importance.**\n",
        "- Abstract Base Class\n",
        "- Declaring an Abstract Base Class\n",
        "- Abstract Properties\n",
        "- Built-In Abstract Classes"
      ],
      "metadata": {
        "id": "1KGzwj5p2fHx"
      }
    },
    {
      "cell_type": "code",
      "source": [
        "import abc\n",
        "  \n",
        "  \n",
        "class AbstractClass(metaclass=abc.ABCMeta):\n",
        "    def abstractfunc(self):\n",
        "        return None\n",
        "  \n",
        "  \n",
        "print(AbstractClass.register(dict))"
      ],
      "metadata": {
        "colab": {
          "base_uri": "https://localhost:8080/"
        },
        "id": "zLo6FYTv29lQ",
        "outputId": "0233eeb2-2388-4e01-cd1a-a448dcf4de99"
      },
      "execution_count": 6,
      "outputs": [
        {
          "output_type": "stream",
          "name": "stdout",
          "text": [
            "<class 'dict'>\n"
          ]
        }
      ]
    },
    {
      "cell_type": "code",
      "source": [
        "import abc\n",
        "  \n",
        "  \n",
        "class AbstractClass(metaclass=abc.ABCMeta):\n",
        "    def abstractfunc(self):\n",
        "        return None\n",
        "  \n",
        "  \n",
        "AbstractClass.register(dict)\n",
        "print(issubclass(dict, AbstractClass))"
      ],
      "metadata": {
        "colab": {
          "base_uri": "https://localhost:8080/"
        },
        "id": "23biRgbx3JjJ",
        "outputId": "3418d254-f942-4248-dee0-6cfca995c1a4"
      },
      "execution_count": 7,
      "outputs": [
        {
          "output_type": "stream",
          "name": "stdout",
          "text": [
            "True\n"
          ]
        }
      ]
    },
    {
      "cell_type": "code",
      "source": [
        "import abc\n",
        "  \n",
        "  \n",
        "class MySequence(metaclass=abc.ABCMeta):\n",
        "    pass\n",
        "  \n",
        "MySequence.register(list)\n",
        "MySequence.register(tuple)\n",
        "  \n",
        "a = [1, 2, 3]\n",
        "b = ('x', 'y', 'z')\n",
        "  \n",
        "print('List instance:', isinstance(a, MySequence))\n",
        "print('Tuple instance:', isinstance(b, MySequence))\n",
        "print('Object instance:', isinstance(object(), MySequence))"
      ],
      "metadata": {
        "id": "j7TsLm7XtTEQ",
        "colab": {
          "base_uri": "https://localhost:8080/"
        },
        "outputId": "970aed3d-3939-4646-cd5b-46a579a2f98f"
      },
      "execution_count": 8,
      "outputs": [
        {
          "output_type": "stream",
          "name": "stdout",
          "text": [
            "List instance: True\n",
            "Tuple instance: True\n",
            "Object instance: False\n"
          ]
        }
      ]
    },
    {
      "cell_type": "code",
      "source": [
        "#Q4. How can we achieve data abstraction?"
      ],
      "metadata": {
        "id": "H7d27k1RtTHa"
      },
      "execution_count": null,
      "outputs": []
    },
    {
      "cell_type": "markdown",
      "source": [
        "- abstract method using @abstractmethod keyword on the top of a method. We can use abc module of python to achieve data abstraction in python. To define an abstract method in python we can import abstractmethod from the abc module of python."
      ],
      "metadata": {
        "id": "bp7DEETR6qrh"
      }
    },
    {
      "cell_type": "code",
      "source": [
        "# abstraction in python\n",
        "from abc import ABC,abstractmethod\n",
        "class Prepbytes(ABC):\n",
        "    @abstractmethod\n",
        "    def my_method(self):\n",
        "        # body will always be empty\n",
        "        Pass"
      ],
      "metadata": {
        "id": "NXdB0MHHsnuj"
      },
      "execution_count": 10,
      "outputs": []
    },
    {
      "cell_type": "code",
      "source": [
        "# abstraction in python\n",
        "from abc import ABC,abstractmethod\n",
        "\n",
        "# abstract class\n",
        "class Subject(ABC):\n",
        "    @abstractmethod\n",
        "    def subject(self):\n",
        "        pass\n",
        "\n",
        "class Maths(Subject):\n",
        "    # override superclass method\n",
        "    def subject(self):\n",
        "        print(\"Subject is Maths\")\n",
        "\n",
        "class Physics(Subject):\n",
        "    # override superclass method\n",
        "    def subject(self):\n",
        "        print(\"Subject is Physics\")\n",
        "\n",
        "class Chemistry(Subject):\n",
        "    # override superclass method\n",
        "    def subject(self):\n",
        "        print(\"Subject is Chemistry\")\n",
        "\n",
        "class English(Subject):\n",
        "    # override superclass method\n",
        "    def subject(self):\n",
        "        print(\"Subject is English\")\n",
        "\n",
        "maths=Maths()\n",
        "maths.subject()\n",
        "\n",
        "physics=Physics()\n",
        "physics.subject()\n",
        "\n",
        "chemistry=Chemistry()\n",
        "chemistry.subject()\n",
        "\n",
        "english=English()\n",
        "english.subject()"
      ],
      "metadata": {
        "colab": {
          "base_uri": "https://localhost:8080/"
        },
        "id": "SE96qC0E7HNl",
        "outputId": "2b07677e-9ffb-4fb6-e04c-e5c532e2917b"
      },
      "execution_count": 12,
      "outputs": [
        {
          "output_type": "stream",
          "name": "stdout",
          "text": [
            "Subject is Maths\n",
            "Subject is Physics\n",
            "Subject is Chemistry\n",
            "Subject is English\n"
          ]
        }
      ]
    },
    {
      "cell_type": "code",
      "source": [
        "# Can we create an instance of an abstract class? Explain your answer."
      ],
      "metadata": {
        "id": "B3CZmiZwsnxb"
      },
      "execution_count": null,
      "outputs": []
    },
    {
      "cell_type": "markdown",
      "source": [
        "- No, abstract class are classes which can have abstract methods and it can’t be instantiated. We cannot instantiate an abstract class ,  it does not have a complete implementation.\n",
        "- but when we use this abstract class to provide certain functionalities to a base class or child class it can do that by creating the object of the base class."
      ],
      "metadata": {
        "id": "0b9ES7NP352D"
      }
    },
    {
      "cell_type": "code",
      "source": [
        "# Syntax\n",
        "from abc import ABC, abstractmethod\n",
        "Class Educba(ABC):\n",
        " @abstractmethod\n",
        " def mymethod(self):\n",
        "  #empty body\n",
        "  pass"
      ],
      "metadata": {
        "id": "6hnvK_8_sn0i"
      },
      "execution_count": null,
      "outputs": []
    },
    {
      "cell_type": "code",
      "source": [
        "# Python program showing\n",
        "# implementation of abstract\n",
        "# class through subclassing\n",
        " \n",
        "import abc\n",
        " \n",
        "class parent:      \n",
        "    def ABC(self):\n",
        "        pass\n",
        " \n",
        "class child(parent):\n",
        "    def ABC(self):\n",
        "        print(\"child class\")\n",
        " \n",
        "# Driver code\n",
        "print( issubclass(child, parent))\n",
        "print( isinstance(child(), parent))"
      ],
      "metadata": {
        "colab": {
          "base_uri": "https://localhost:8080/"
        },
        "id": "NqVKSKXq5qGs",
        "outputId": "286d08f0-ad3a-4fc1-9c16-860a0db93f20"
      },
      "execution_count": 9,
      "outputs": [
        {
          "output_type": "stream",
          "name": "stdout",
          "text": [
            "True\n",
            "True\n"
          ]
        }
      ]
    },
    {
      "cell_type": "code",
      "source": [],
      "metadata": {
        "id": "xjAegwHv56Bc"
      },
      "execution_count": null,
      "outputs": []
    }
  ]
}