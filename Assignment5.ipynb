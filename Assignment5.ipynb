{
  "nbformat": 4,
  "nbformat_minor": 0,
  "metadata": {
    "colab": {
      "provenance": [],
      "authorship_tag": "ABX9TyMKwioujFiMw/Q1DtNGZzBZ",
      "include_colab_link": true
    },
    "kernelspec": {
      "name": "python3",
      "display_name": "Python 3"
    },
    "language_info": {
      "name": "python"
    }
  },
  "cells": [
    {
      "cell_type": "markdown",
      "metadata": {
        "id": "view-in-github",
        "colab_type": "text"
      },
      "source": [
        "<a href=\"https://colab.research.google.com/github/Riturajkumari/skills_basic_python/blob/main/Assignment5.ipynb\" target=\"_parent\"><img src=\"https://colab.research.google.com/assets/colab-badge.svg\" alt=\"Open In Colab\"/></a>"
      ]
    },
    {
      "cell_type": "markdown",
      "source": [
        "**Create a python program to sort the given list of tuples based on integer value using a \n",
        "lambda function.**\n",
        "\n",
        "[('Sachin Tendulkar', 34357), ('Ricky Ponting', 27483), ('Jack Kallis', 25534), ('Virat Kohli', 24936)]"
      ],
      "metadata": {
        "id": "x4bma3LiNogW"
      }
    },
    {
      "cell_type": "code",
      "source": [
        "list1= [('Sachin Tendulkar', 34357), ('Ricky Ponting', 27483), ('Jack Kallis', 25534), ('Virat Kohli', 24936)]"
      ],
      "metadata": {
        "id": "mc30SSvtN1c2"
      },
      "execution_count": 17,
      "outputs": []
    },
    {
      "cell_type": "code",
      "source": [
        "print(list1)"
      ],
      "metadata": {
        "colab": {
          "base_uri": "https://localhost:8080/"
        },
        "id": "u83yPi7ePLs_",
        "outputId": "749b2fab-1911-4b13-b5f0-a905082d9870"
      },
      "execution_count": 18,
      "outputs": [
        {
          "output_type": "stream",
          "name": "stdout",
          "text": [
            "[('Sachin Tendulkar', 34357), ('Ricky Ponting', 27483), ('Jack Kallis', 25534), ('Virat Kohli', 24936)]\n"
          ]
        }
      ]
    },
    {
      "cell_type": "code",
      "source": [
        "def list_tup(list):\n",
        "  return(sorted(list1, key = lambda x: x[1])) \n",
        "print(list_tup(list1))"
      ],
      "metadata": {
        "colab": {
          "base_uri": "https://localhost:8080/"
        },
        "id": "XxyKj6LpP3O2",
        "outputId": "9ce878ec-618d-4149-8c0f-9eb4269d1d5d"
      },
      "execution_count": 23,
      "outputs": [
        {
          "output_type": "stream",
          "name": "stdout",
          "text": [
            "[('Virat Kohli', 24936), ('Jack Kallis', 25534), ('Ricky Ponting', 27483), ('Sachin Tendulkar', 34357)]\n"
          ]
        }
      ]
    },
    {
      "cell_type": "code",
      "source": [
        "list1= sorted(list1, key = lambda x: x[1])"
      ],
      "metadata": {
        "id": "4mGg3KZqSCxP"
      },
      "execution_count": 24,
      "outputs": []
    },
    {
      "cell_type": "code",
      "source": [
        "list1"
      ],
      "metadata": {
        "colab": {
          "base_uri": "https://localhost:8080/"
        },
        "id": "ziSVZyzyRbuR",
        "outputId": "447d3ab7-86fd-41e8-ffad-9dd0c6b0e48a"
      },
      "execution_count": 25,
      "outputs": [
        {
          "output_type": "execute_result",
          "data": {
            "text/plain": [
              "[('Virat Kohli', 24936),\n",
              " ('Jack Kallis', 25534),\n",
              " ('Ricky Ponting', 27483),\n",
              " ('Sachin Tendulkar', 34357)]"
            ]
          },
          "metadata": {},
          "execution_count": 25
        }
      ]
    },
    {
      "cell_type": "markdown",
      "source": [
        "**Write a Python Program to find the squares of all the numbers in the given list of integers using \n",
        "lambda and map functions**\n",
        "[1,2,3,4,5,6,7,8,9,10]\n"
      ],
      "metadata": {
        "id": "3K1viLEESVNM"
      }
    },
    {
      "cell_type": "code",
      "source": [
        "def double(x):\n",
        "  return x*x\n",
        "  \n",
        "my_list = [1, 2, 3, 4, 5, 6,7,8,9,10]\n",
        "new_list = list(map(double, my_list))\n",
        "print(new_list) "
      ],
      "metadata": {
        "colab": {
          "base_uri": "https://localhost:8080/"
        },
        "id": "Bizk_J-IdZu4",
        "outputId": "745ec45e-4ec9-496d-9b79-956f9a316332"
      },
      "execution_count": 37,
      "outputs": [
        {
          "output_type": "stream",
          "name": "stdout",
          "text": [
            "[1, 4, 9, 16, 25, 36, 49, 64, 81, 100]\n"
          ]
        }
      ]
    },
    {
      "cell_type": "code",
      "source": [
        "new_list = list(map(lambda x: x*x, my_list))"
      ],
      "metadata": {
        "id": "ZNsa2qvxeU0c"
      },
      "execution_count": 38,
      "outputs": []
    },
    {
      "cell_type": "code",
      "source": [
        "new_list"
      ],
      "metadata": {
        "colab": {
          "base_uri": "https://localhost:8080/"
        },
        "id": "8Jndq4BBehsY",
        "outputId": "6188efd7-7534-428a-e408-012181fb42bd"
      },
      "execution_count": 39,
      "outputs": [
        {
          "output_type": "execute_result",
          "data": {
            "text/plain": [
              "[1, 4, 9, 16, 25, 36, 49, 64, 81, 100]"
            ]
          },
          "metadata": {},
          "execution_count": 39
        }
      ]
    },
    {
      "cell_type": "markdown",
      "source": [
        "**Write a python program to convert the given list of integers into a tuple of strings. Use map and \n",
        "lambda function**\n",
        "\n",
        "Given String: [1, 2, 3, 4, 5, 6, 7, 8, 9, 10]\n",
        "\n",
        "Expected output: ('1', '2', '3', '4', '5', '6', '7', '8', '9', '10')"
      ],
      "metadata": {
        "id": "AWlMGXaget46"
      }
    },
    {
      "cell_type": "code",
      "source": [
        "string=[1,2,3,4,5,6,7,8,9,10]"
      ],
      "metadata": {
        "id": "dBSY3ISmfC1y"
      },
      "execution_count": 42,
      "outputs": []
    },
    {
      "cell_type": "code",
      "source": [
        "string=tuple(string)"
      ],
      "metadata": {
        "id": "Zcs3pSOpfC46"
      },
      "execution_count": 43,
      "outputs": []
    },
    {
      "cell_type": "code",
      "source": [
        "string"
      ],
      "metadata": {
        "colab": {
          "base_uri": "https://localhost:8080/"
        },
        "id": "2zEusQeHfC7R",
        "outputId": "3d16caf3-7786-44cc-fae5-2e0e749bca1f"
      },
      "execution_count": 44,
      "outputs": [
        {
          "output_type": "execute_result",
          "data": {
            "text/plain": [
              "(1, 2, 3, 4, 5, 6, 7, 8, 9, 10)"
            ]
          },
          "metadata": {},
          "execution_count": 44
        }
      ]
    },
    {
      "cell_type": "code",
      "source": [
        "tuple1 = tuple(map(lambda x: x, string))\n"
      ],
      "metadata": {
        "id": "TbtP_DYEfC-F"
      },
      "execution_count": 47,
      "outputs": []
    },
    {
      "cell_type": "code",
      "source": [
        "print(tuple1)"
      ],
      "metadata": {
        "colab": {
          "base_uri": "https://localhost:8080/"
        },
        "id": "bwt3pgAPfDAu",
        "outputId": "5eab7f22-84ef-4b0d-f161-ab7e3d58df13"
      },
      "execution_count": 48,
      "outputs": [
        {
          "output_type": "stream",
          "name": "stdout",
          "text": [
            "(1, 2, 3, 4, 5, 6, 7, 8, 9, 10)\n"
          ]
        }
      ]
    },
    {
      "cell_type": "markdown",
      "source": [
        "**Write a python program using reduce function to compute the product of a list containing numbers \n",
        "from 1 to 25**"
      ],
      "metadata": {
        "id": "sj1Hn61Thb7f"
      }
    },
    {
      "cell_type": "code",
      "source": [
        "l1= list(range(1,26))"
      ],
      "metadata": {
        "id": "yCQFKW-NjFSv"
      },
      "execution_count": 61,
      "outputs": []
    },
    {
      "cell_type": "code",
      "source": [
        "from functools import reduce \n",
        "import functools\n",
        "\n",
        " \n",
        "# importing functools for reduce()\n",
        "import functools\n",
        " \n",
        "# importing operator for operator functions\n",
        "import operator\n",
        "# using reduce to compute product\n",
        "print(functools.reduce(operator.mul, l1))\n",
        " "
      ],
      "metadata": {
        "colab": {
          "base_uri": "https://localhost:8080/"
        },
        "id": "vDrvuVVxhS4B",
        "outputId": "33d66fc9-3fb2-46c2-f2e4-10b008833d17"
      },
      "execution_count": 68,
      "outputs": [
        {
          "output_type": "stream",
          "name": "stdout",
          "text": [
            "15511210043330985984000000\n"
          ]
        }
      ]
    },
    {
      "cell_type": "markdown",
      "source": [
        "**Write a python program to filter the numbers in a given list that are divisible by 2 and 3 using the \n",
        "filter function.**\n",
        "\n",
        "\n",
        "[2, 3, 6, 9, 27, 60, 90, 120, 55, 46]"
      ],
      "metadata": {
        "id": "33Z2t87Klyad"
      }
    },
    {
      "cell_type": "code",
      "source": [
        "l1=[2,3,6,9,27,60,90,120,55,46]"
      ],
      "metadata": {
        "id": "bnNdkGdxlsRB"
      },
      "execution_count": 74,
      "outputs": []
    },
    {
      "cell_type": "code",
      "source": [
        "result = list(filter(lambda x: (x % 2 and x%3), l1)) \n",
        "result"
      ],
      "metadata": {
        "colab": {
          "base_uri": "https://localhost:8080/"
        },
        "id": "QNJ-jcIflur6",
        "outputId": "fa854b4c-4d7d-468c-da9f-9a9eb55b9825"
      },
      "execution_count": 75,
      "outputs": [
        {
          "output_type": "execute_result",
          "data": {
            "text/plain": [
              "[55]"
            ]
          },
          "metadata": {},
          "execution_count": 75
        }
      ]
    },
    {
      "cell_type": "markdown",
      "source": [
        "**Q6. Write a python program to find palindromes in the given list of strings using lambda and filter \n",
        "function.**\n",
        "\n",
        "\n",
        "['python', 'php', 'aba', 'radar', 'level']"
      ],
      "metadata": {
        "id": "22DDv7HBl8NQ"
      }
    },
    {
      "cell_type": "code",
      "source": [
        "l1=['python', 'php', 'aba', 'radar', 'level']"
      ],
      "metadata": {
        "id": "21I4asWvluux"
      },
      "execution_count": 76,
      "outputs": []
    },
    {
      "cell_type": "code",
      "source": [
        "result = list(filter(lambda x: (x == \"\".join(reversed(x))), l1)) "
      ],
      "metadata": {
        "id": "uA9czXN9luyH"
      },
      "execution_count": 77,
      "outputs": []
    },
    {
      "cell_type": "code",
      "source": [
        "result"
      ],
      "metadata": {
        "colab": {
          "base_uri": "https://localhost:8080/"
        },
        "id": "I9VgiMdclu0F",
        "outputId": "b1bbe932-f589-4b40-d704-6252381931dd"
      },
      "execution_count": 78,
      "outputs": [
        {
          "output_type": "execute_result",
          "data": {
            "text/plain": [
              "['php', 'aba', 'radar', 'level']"
            ]
          },
          "metadata": {},
          "execution_count": 78
        }
      ]
    },
    {
      "cell_type": "code",
      "source": [],
      "metadata": {
        "id": "n4Oz3O2Hlu2W"
      },
      "execution_count": null,
      "outputs": []
    },
    {
      "cell_type": "code",
      "source": [],
      "metadata": {
        "id": "8UAhTygtlu5M"
      },
      "execution_count": null,
      "outputs": []
    }
  ]
}