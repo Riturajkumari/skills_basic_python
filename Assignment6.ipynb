{
  "nbformat": 4,
  "nbformat_minor": 0,
  "metadata": {
    "colab": {
      "provenance": [],
      "authorship_tag": "ABX9TyOAry+6wJlsUfsg5tERPooH",
      "include_colab_link": true
    },
    "kernelspec": {
      "name": "python3",
      "display_name": "Python 3"
    },
    "language_info": {
      "name": "python"
    }
  },
  "cells": [
    {
      "cell_type": "markdown",
      "metadata": {
        "id": "view-in-github",
        "colab_type": "text"
      },
      "source": [
        "<a href=\"https://colab.research.google.com/github/Riturajkumari/skills_basic_python/blob/main/Assignment6.ipynb\" target=\"_parent\"><img src=\"https://colab.research.google.com/assets/colab-badge.svg\" alt=\"Open In Colab\"/></a>"
      ]
    },
    {
      "cell_type": "markdown",
      "source": [
        "Q1. **Create a function which will take a list as an argument and return the product of all the numbers \n",
        "after creating a flat list.**\n",
        "\n",
        "Use the below-given list as an argument for your function.\n",
        "\n",
        "\n",
        "**list1 = [1,2,3,4, [44,55,66, True], False, (34,56,78,89,34), {1,2,3,3,2,1}, {1:34, \"key2\": [55, 67, 78, 89], 4: (45, \n",
        "22, 61, 34)}, [56, 'data science'], 'Machine Learning']**\n",
        "\n",
        "\n",
        "Note: you must extract numeric keys and values of the dictionary also."
      ],
      "metadata": {
        "id": "ZtGS0xEplhgk"
      }
    },
    {
      "cell_type": "code",
      "execution_count": 1,
      "metadata": {
        "colab": {
          "base_uri": "https://localhost:8080/"
        },
        "id": "XUF6agHvlcj2",
        "outputId": "e43a4ff8-2bd8-4a86-cf9e-f5fd961c607a"
      },
      "outputs": [
        {
          "output_type": "stream",
          "name": "stdout",
          "text": [
            "[1, 2, 3, 4, 44, 55, 66, 34, 56, 78, 89, 34, 1, 2, 3, 1, 34, 55, 67, 78, 89, 4, 45, 22, 61, 34, 56]\n"
          ]
        }
      ],
      "source": [
        "def is_integer(x):\n",
        "    return not isinstance(x, bool) and isinstance(x, int)\n",
        "\n",
        "def get_numbers(o):\n",
        "    if isinstance(o, dict):\n",
        "        for k, v in o.items():\n",
        "            if is_integer(k):\n",
        "                yield k\n",
        "            yield from get_numbers(v)\n",
        "    elif isinstance(o, (list, tuple, set)):\n",
        "        for v in o:\n",
        "            if is_integer(v):\n",
        "                yield v\n",
        "            else:\n",
        "                yield from get_numbers(v)\n",
        "    else:\n",
        "        if is_integer(o):\n",
        "            yield o\n",
        "\n",
        "list1 = [\n",
        "    1,\n",
        "    2,\n",
        "    3,\n",
        "    4,\n",
        "    [44, 55, 66, True],\n",
        "    False,\n",
        "    (34, 56, 78, 89, 34),\n",
        "    {1, 2, 3, 3, 2, 1},\n",
        "    {1: 34, \"key2\": [55, 67, 78, 89], 4: (45, 22, 61, 34)},\n",
        "    [56, \"data science\"],\n",
        "    \"Machine Learning\",\n",
        "]\n",
        "\n",
        "print(list(get_numbers(list1)))"
      ]
    },
    {
      "cell_type": "markdown",
      "source": [
        "**Q2. Write a python program for encrypting a message sent to you by your friend. The logic of encryption \n",
        "should be such that, for a the output should be z. For b, the output should be y. For c, the output should \n",
        "be x respectively. Also, the whitespace should be replaced with a dollar sign. Keep the punctuation \n",
        "marks unchanged**\n",
        "\n",
        "Input Sentence: I want to become a Data Scientist.\n",
        "\n",
        "\n",
        "Encrypt the above input sentence using the program you just created.\n",
        "\n",
        "\n",
        "Note: Convert the given input sentence into lowercase before encrypting. The final output should be \n",
        "lowercase"
      ],
      "metadata": {
        "id": "YW7znw4_nsHI"
      }
    },
    {
      "cell_type": "code",
      "source": [
        "pip install cryptography"
      ],
      "metadata": {
        "colab": {
          "base_uri": "https://localhost:8080/"
        },
        "id": "cf4pXOXnnnMT",
        "outputId": "f8a8de4e-dc64-4936-f0c4-e0bf34ca8faa"
      },
      "execution_count": 2,
      "outputs": [
        {
          "output_type": "stream",
          "name": "stdout",
          "text": [
            "Looking in indexes: https://pypi.org/simple, https://us-python.pkg.dev/colab-wheels/public/simple/\n",
            "Collecting cryptography\n",
            "  Downloading cryptography-39.0.1-cp36-abi3-manylinux_2_28_x86_64.whl (4.2 MB)\n",
            "\u001b[2K     \u001b[90m━━━━━━━━━━━━━━━━━━━━━━━━━━━━━━━━━━━━━━━━\u001b[0m \u001b[32m4.2/4.2 MB\u001b[0m \u001b[31m67.5 MB/s\u001b[0m eta \u001b[36m0:00:00\u001b[0m\n",
            "\u001b[?25hRequirement already satisfied: cffi>=1.12 in /usr/local/lib/python3.8/dist-packages (from cryptography) (1.15.1)\n",
            "Requirement already satisfied: pycparser in /usr/local/lib/python3.8/dist-packages (from cffi>=1.12->cryptography) (2.21)\n",
            "Installing collected packages: cryptography\n",
            "Successfully installed cryptography-39.0.1\n"
          ]
        }
      ]
    },
    {
      "cell_type": "code",
      "source": [
        "from cryptography.fernet import Fernet\n",
        " \n",
        "# we will be encrypting the below string.\n",
        "message = \" I want to become a Data Scientist\"\n",
        " \n",
        "# generate a key for encryption and decryption\n",
        "# You can use fernet to generate\n",
        "# the key or use random key generator\n",
        "# here I'm using fernet to generate key\n",
        " \n",
        "key = Fernet.generate_key()\n",
        " \n",
        "# Instance the Fernet class with the key\n",
        " \n",
        "fernet = Fernet(key)\n",
        " \n",
        "# then use the Fernet class instance\n",
        "# to encrypt the string string must\n",
        "# be encoded to byte string before encryption\n",
        "encMessage = fernet.encrypt(message.encode())\n",
        " \n",
        "print(\"original string: \", message)\n",
        "print(\"encrypted string: \", encMessage)\n",
        " \n",
        "# decrypt the encrypted string with the\n",
        "# Fernet instance of the key,\n",
        "# that was used for encrypting the string\n",
        "# encoded byte string is returned by decrypt method,\n",
        "# so decode it to string with decode methods\n",
        "decMessage = fernet.decrypt(encMessage).decode()\n",
        " \n",
        "print(\"decrypted string: \", decMessage)"
      ],
      "metadata": {
        "colab": {
          "base_uri": "https://localhost:8080/"
        },
        "id": "Q5r5D_xOnot8",
        "outputId": "492065d4-4b96-412d-8423-d573b15ff4f5"
      },
      "execution_count": 3,
      "outputs": [
        {
          "output_type": "stream",
          "name": "stdout",
          "text": [
            "original string:   I want to become a Data Scientist\n",
            "encrypted string:  b'gAAAAABj5xlaf9jYuHYjSBBwZnSvbVaO5yomQ8aB5fKlHIhjolAIirCFp6cywV4sgkP42KwVv1EqL7gP3c29q4itPIXMJyJDnqFfEHpxtricPcWwxB083KC6ZVNR6UtZxvyDnGnP9g_a'\n",
            "decrypted string:   I want to become a Data Scientist\n"
          ]
        }
      ]
    },
    {
      "cell_type": "code",
      "source": [],
      "metadata": {
        "id": "XcqtqqlPoKIT"
      },
      "execution_count": null,
      "outputs": []
    }
  ]
}