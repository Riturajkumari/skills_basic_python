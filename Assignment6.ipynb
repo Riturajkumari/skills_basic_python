{
  "nbformat": 4,
  "nbformat_minor": 0,
  "metadata": {
    "colab": {
      "provenance": [],
      "authorship_tag": "ABX9TyNM3xRZUS6OP91aPyfyeqgN",
      "include_colab_link": true
    },
    "kernelspec": {
      "name": "python3",
      "display_name": "Python 3"
    },
    "language_info": {
      "name": "python"
    }
  },
  "cells": [
    {
      "cell_type": "markdown",
      "metadata": {
        "id": "view-in-github",
        "colab_type": "text"
      },
      "source": [
        "<a href=\"https://colab.research.google.com/github/Riturajkumari/skills_basic_python/blob/main/Assignment6.ipynb\" target=\"_parent\"><img src=\"https://colab.research.google.com/assets/colab-badge.svg\" alt=\"Open In Colab\"/></a>"
      ]
    },
    {
      "cell_type": "code",
      "execution_count": null,
      "metadata": {
        "id": "OEQ9oMAzzIAA"
      },
      "outputs": [],
      "source": []
    },
    {
      "cell_type": "markdown",
      "source": [
        "**Explain Class and Object with respect to Object-Oriented Programming. Give a suitable example**"
      ],
      "metadata": {
        "id": "YMZzcuI0zpVK"
      }
    },
    {
      "cell_type": "markdown",
      "source": [
        "- The **class** can be defined as a collection of objects. It is a logical entity that has some specific attributes and methods.\n",
        "\n",
        "- The **object** is an entity that has state and behavior. It may be any real-world object like the mouse, keyboard, chair, table, pen, etc.\n",
        "- An object is any entity that has attributes and behaviors.\n"
      ],
      "metadata": {
        "id": "l6AfzGvf1nq8"
      }
    },
    {
      "cell_type": "code",
      "source": [
        "# example\n",
        "class A:\n",
        "\n",
        "    # class attribute\n",
        "    name = \"\"\n",
        "    age = 0\n",
        "\n",
        "# create A1 object\n",
        "A1 = A()\n",
        "A1.name = \"Aa\"\n",
        "A1.age = 10\n",
        "\n",
        "# create another object parrot2\n",
        "A2 = A()\n",
        "A2.name = \"Ba\"\n",
        "A2.age = 15\n",
        "\n",
        "# access attributes\n",
        "print(f\"{A1.name} is {A1.age} years old\")\n",
        "print(f\"{A2.name} is {A2.age} years old\")"
      ],
      "metadata": {
        "id": "UA_Ab2bQztIX",
        "colab": {
          "base_uri": "https://localhost:8080/"
        },
        "outputId": "507ccbff-9943-4b2e-916d-9b4e2ffccbf7"
      },
      "execution_count": null,
      "outputs": [
        {
          "output_type": "stream",
          "name": "stdout",
          "text": [
            "Aa is 10 years old\n",
            "Ba is 15 years old\n"
          ]
        }
      ]
    },
    {
      "cell_type": "code",
      "source": [],
      "metadata": {
        "id": "daLzhgRfM0rc"
      },
      "execution_count": null,
      "outputs": []
    },
    {
      "cell_type": "markdown",
      "source": [
        "**Name the four pillars of OOPs**"
      ],
      "metadata": {
        "id": "AsAzUQHFzx9k"
      }
    },
    {
      "cell_type": "markdown",
      "source": [
        "There are four pillars\n",
        "\n",
        "- Encapsulation\n",
        "- Inheritance\n",
        "- Polymorphism\n",
        "- Abstraction"
      ],
      "metadata": {
        "id": "u3lcqFkUNI2b"
      }
    },
    {
      "cell_type": "code",
      "source": [],
      "metadata": {
        "id": "p1gogUgYz9y4"
      },
      "execution_count": null,
      "outputs": []
    },
    {
      "cell_type": "markdown",
      "source": [
        "**Explain why the __init__() function is used. Give a suitable example**"
      ],
      "metadata": {
        "id": "P2VBGw9iz-eS"
      }
    },
    {
      "cell_type": "markdown",
      "source": [
        "- All classes have a function called _ _init_ _(), which is always executed when the class is being initiated.\n",
        "- Use the _ _init_ _() function to assign values to object properties\n",
        "- The _ _init_ _() function is called automatically every time the class is being used to create a new object."
      ],
      "metadata": {
        "id": "xQXkoOQBNpd2"
      }
    },
    {
      "cell_type": "code",
      "source": [
        "# example\n",
        "class Person:\n",
        "  def __init__(self, name, age):\n",
        "    self.name = name\n",
        "    self.age = age\n",
        "\n",
        "p1 = Person(\"John\", 36)\n",
        "\n",
        "print(p1.name)\n",
        "print(p1.age)"
      ],
      "metadata": {
        "id": "zODGLcsv0FUF",
        "colab": {
          "base_uri": "https://localhost:8080/"
        },
        "outputId": "637f09e9-4b77-4d44-b0b8-5c49ed86e977"
      },
      "execution_count": null,
      "outputs": [
        {
          "output_type": "stream",
          "name": "stdout",
          "text": [
            "John\n",
            "36\n"
          ]
        }
      ]
    },
    {
      "cell_type": "code",
      "source": [],
      "metadata": {
        "id": "3BCc1ZrA0HoR"
      },
      "execution_count": null,
      "outputs": []
    },
    {
      "cell_type": "markdown",
      "source": [
        "**Why self is used in OOPs**"
      ],
      "metadata": {
        "id": "0_9CSL3v0H3Z"
      }
    },
    {
      "cell_type": "markdown",
      "source": [
        "- self represents the instance of the class. By using the “self”  we can access the attributes and methods of the class in python.\n",
        "- because Python does not use the @ syntax to refer to instance attributes.\n",
        "- Python decided to do methods in a way that makes the instance to which the method belongs be passed automatically, but not received automatically."
      ],
      "metadata": {
        "id": "RyvoWP5mb4S1"
      }
    },
    {
      "cell_type": "code",
      "source": [
        "class check:\n",
        "    def __init__(self):\n",
        "        print(\"Address of self = \",id(self))\n",
        "  \n",
        "obj = check()\n",
        "print(\"Address of class object = \",id(obj))"
      ],
      "metadata": {
        "id": "RbHw_OWM0Nxo",
        "colab": {
          "base_uri": "https://localhost:8080/"
        },
        "outputId": "80d51186-3808-4c1c-d6d6-46f6cfde58a6"
      },
      "execution_count": null,
      "outputs": [
        {
          "output_type": "stream",
          "name": "stdout",
          "text": [
            "Address of self =  140363088383280\n",
            "Address of class object =  140363088383280\n"
          ]
        }
      ]
    },
    {
      "cell_type": "code",
      "source": [],
      "metadata": {
        "id": "5tzM6xzNegmD"
      },
      "execution_count": null,
      "outputs": []
    },
    {
      "cell_type": "markdown",
      "source": [
        "**What is inheritance? Give an example for each type of inheritance**"
      ],
      "metadata": {
        "id": "pPd3ZJRb0VzE"
      }
    },
    {
      "cell_type": "markdown",
      "source": [
        "- Inheritance is an  the object-oriented. Inheritance provides code reusability to the program\n",
        "-  Inheritance is defined as the mechanism of inheriting the properties of the base class to the child class. \n",
        "Types of Inheritance in Python\n",
        "- Single inheritance\n",
        "-  multiple \n",
        "- Multilevel Inheritance \n",
        "- Hierarchical Inheritance\n",
        "- Hybrid Inheritance"
      ],
      "metadata": {
        "id": "i5h5wsmte8HH"
      }
    },
    {
      "cell_type": "code",
      "source": [
        "# Single Inheritance: Single inheritance enables a derived class to inherit properties from a single parent class\n",
        "# Base class\n",
        "class Parent:\n",
        "    def func1(self):\n",
        "        print(\"This function is in parent class.\")\n",
        " \n",
        "# Derived class\n",
        "class Child(Parent):\n",
        "    def func2(self):\n",
        "        print(\"This function is in child class.\")\n",
        "# Driver's code\n",
        "object = Child()\n",
        "object.func1()\n",
        "object.func2()"
      ],
      "metadata": {
        "id": "Y_RFecq80YmA",
        "colab": {
          "base_uri": "https://localhost:8080/"
        },
        "outputId": "bea6921e-ab88-495e-d5ef-344404c2c33d"
      },
      "execution_count": null,
      "outputs": [
        {
          "output_type": "stream",
          "name": "stdout",
          "text": [
            "This function is in parent class.\n",
            "This function is in child class.\n"
          ]
        }
      ]
    },
    {
      "cell_type": "code",
      "source": [
        "#Multiple Inheritance\n",
        "class Calculation1:  \n",
        "    def Summation(self,a,b):  \n",
        "        return a+b;  \n",
        "class Calculation2:  \n",
        "    def Multiplication(self,a,b):  \n",
        "        return a*b;  \n",
        "class Derived(Calculation1,Calculation2):  \n",
        "    def Divide(self,a,b):  \n",
        "        return a/b;  \n",
        "d = Derived()  \n",
        "print(d.Summation(10,20))  \n",
        "print(d.Multiplication(10,20))  \n",
        "print(d.Divide(10,20))  "
      ],
      "metadata": {
        "colab": {
          "base_uri": "https://localhost:8080/"
        },
        "id": "n2RX7_pIgfNJ",
        "outputId": "b4ff11fd-438a-4ac4-db61-0600d7839a71"
      },
      "execution_count": null,
      "outputs": [
        {
          "output_type": "stream",
          "name": "stdout",
          "text": [
            "30\n",
            "200\n",
            "0.5\n"
          ]
        }
      ]
    },
    {
      "cell_type": "code",
      "source": [
        "# Multilevel Inheritance\n",
        "class Animal:  \n",
        "    def speak(self):  \n",
        "        print(\"Animal Speaking\")  \n",
        "#The child class Dog inherits the base class Animal  \n",
        "class Dog(Animal):  \n",
        "    def bark(self):  \n",
        "        print(\"dog barking\")  \n",
        "#The child class Dogchild inherits another child class Dog  \n",
        "class DogChild(Dog):  \n",
        "    def eat(self):  \n",
        "        print(\"Eating bread...\")  \n",
        "d = DogChild()  \n",
        "d.bark()  \n",
        "d.speak()  \n",
        "d.eat()  "
      ],
      "metadata": {
        "colab": {
          "base_uri": "https://localhost:8080/"
        },
        "id": "GogdpfJuhSQI",
        "outputId": "34eea142-6d84-457c-aee8-abf6bf323362"
      },
      "execution_count": null,
      "outputs": [
        {
          "output_type": "stream",
          "name": "stdout",
          "text": [
            "dog barking\n",
            "Animal Speaking\n",
            "Eating bread...\n"
          ]
        }
      ]
    },
    {
      "cell_type": "code",
      "source": [
        "#Hierarchical Inheritance\n",
        "# Base class\n",
        "class Parent:\n",
        "    def func1(self):\n",
        "        print(\"This function is in parent class.\")\n",
        " # Derived class1\n",
        "class Child1(Parent):\n",
        "    def func2(self):\n",
        "        print(\"This function is in child 1.\")\n",
        "# Derivied class2\n",
        " \n",
        "class Child2(Parent):\n",
        "    def func3(self):\n",
        "        print(\"This function is in child 2.\")\n",
        " \n",
        " \n",
        "# Driver's code\n",
        "object1 = Child1()\n",
        "object2 = Child2()\n",
        "object1.func1()\n",
        "object1.func2()\n",
        "object2.func1()\n",
        "object2.func3()"
      ],
      "metadata": {
        "colab": {
          "base_uri": "https://localhost:8080/"
        },
        "id": "aTXxrrgvhVx2",
        "outputId": "e1b7e40e-fb07-412a-f19d-1c4021f544a0"
      },
      "execution_count": null,
      "outputs": [
        {
          "output_type": "stream",
          "name": "stdout",
          "text": [
            "This function is in parent class.\n",
            "This function is in child 1.\n",
            "This function is in parent class.\n",
            "This function is in child 2.\n"
          ]
        }
      ]
    },
    {
      "cell_type": "code",
      "source": [
        "#Hybrid Inheritance\n",
        "class School:\n",
        "    def func1(self):\n",
        "        print(\"This function is in school.\")\n",
        " \n",
        " \n",
        "class Student1(School):\n",
        "    def func2(self):\n",
        "        print(\"This function is in student 1. \")\n",
        " \n",
        " \n",
        "class Student2(School):\n",
        "    def func3(self):\n",
        "        print(\"This function is in student 2.\")\n",
        " \n",
        " \n",
        "class Student3(Student1, School):\n",
        "    def func4(self):\n",
        "        print(\"This function is in student 3.\")\n",
        " \n",
        " \n",
        "# Driver's code\n",
        "object = Student3()\n",
        "object.func1()\n",
        "object.func2()"
      ],
      "metadata": {
        "colab": {
          "base_uri": "https://localhost:8080/"
        },
        "id": "cOxX28nPhV0t",
        "outputId": "6ff5fa79-f137-4ed4-ea7a-90e62387947a"
      },
      "execution_count": null,
      "outputs": [
        {
          "output_type": "stream",
          "name": "stdout",
          "text": [
            "This function is in school.\n",
            "This function is in student 1. \n"
          ]
        }
      ]
    },
    {
      "cell_type": "code",
      "source": [],
      "metadata": {
        "id": "UytPDMcvhV3U"
      },
      "execution_count": null,
      "outputs": []
    },
    {
      "cell_type": "code",
      "source": [],
      "metadata": {
        "id": "RLvJnTEbhV56"
      },
      "execution_count": null,
      "outputs": []
    }
  ]
}