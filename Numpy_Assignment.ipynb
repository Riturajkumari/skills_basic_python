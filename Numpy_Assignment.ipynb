{
  "cells": [
    {
      "cell_type": "markdown",
      "metadata": {
        "id": "view-in-github",
        "colab_type": "text"
      },
      "source": [
        "<a href=\"https://colab.research.google.com/github/Riturajkumari/skills_basic_python/blob/main/Numpy_Assignment.ipynb\" target=\"_parent\"><img src=\"https://colab.research.google.com/assets/colab-badge.svg\" alt=\"Open In Colab\"/></a>"
      ]
    },
    {
      "cell_type": "markdown",
      "id": "77ebc86f",
      "metadata": {
        "id": "77ebc86f"
      },
      "source": [
        "Consider the below code to answer further questions:\n",
        "\n",
        "import numpy as np\n",
        "\n",
        "list_ = [ ‘1’ , ’2’ , ‘3’ , ‘4’ , ‘5’ ]\n",
        "\n",
        "array_list = np.array(object = list_)"
      ]
    },
    {
      "cell_type": "markdown",
      "id": "4799f8d0",
      "metadata": {
        "id": "4799f8d0"
      },
      "source": [
        "**Q1. Is there any difference in the data type of variables list_ and array_list? If there is then write a code\n",
        "to print the data types of both the variables.**"
      ]
    },
    {
      "cell_type": "code",
      "execution_count": null,
      "id": "dbe69330",
      "metadata": {
        "id": "dbe69330",
        "outputId": "452154ad-5cf7-4ec0-a28e-d7700962eed3"
      },
      "outputs": [
        {
          "data": {
            "text/plain": [
              "array([1, 2, 3, 4, 5])"
            ]
          },
          "execution_count": 3,
          "metadata": {},
          "output_type": "execute_result"
        }
      ],
      "source": [
        "import numpy as np\n",
        "\n",
        "list_ = [ 1,2,3,4,5 ]\n",
        "\n",
        "array_list = np.array(object = list_)\n",
        "array_list"
      ]
    },
    {
      "cell_type": "code",
      "execution_count": null,
      "id": "93446bfb",
      "metadata": {
        "id": "93446bfb",
        "outputId": "6e9c2ba4-86a9-47ab-8f29-f1e0e791f4cb"
      },
      "outputs": [
        {
          "data": {
            "text/plain": [
              "[1, 2, 3, 4, 5]"
            ]
          },
          "execution_count": 4,
          "metadata": {},
          "output_type": "execute_result"
        }
      ],
      "source": [
        "list_"
      ]
    },
    {
      "cell_type": "code",
      "execution_count": null,
      "id": "685c85d5",
      "metadata": {
        "id": "685c85d5",
        "outputId": "ec1d1d56-0d72-475f-f9f7-0587fb1f3a61"
      },
      "outputs": [
        {
          "data": {
            "text/plain": [
              "numpy.ndarray"
            ]
          },
          "execution_count": 5,
          "metadata": {},
          "output_type": "execute_result"
        }
      ],
      "source": [
        "type(array_list)"
      ]
    },
    {
      "cell_type": "code",
      "execution_count": null,
      "id": "447384ca",
      "metadata": {
        "id": "447384ca",
        "outputId": "080eaf3f-a299-44f6-bb4c-2c812b6593f2"
      },
      "outputs": [
        {
          "data": {
            "text/plain": [
              "list"
            ]
          },
          "execution_count": 6,
          "metadata": {},
          "output_type": "execute_result"
        }
      ],
      "source": [
        "type(list_)"
      ]
    },
    {
      "cell_type": "code",
      "execution_count": null,
      "id": "8cb5215f",
      "metadata": {
        "id": "8cb5215f"
      },
      "outputs": [],
      "source": []
    },
    {
      "cell_type": "code",
      "execution_count": null,
      "id": "307542ae",
      "metadata": {
        "id": "307542ae"
      },
      "outputs": [],
      "source": []
    },
    {
      "cell_type": "markdown",
      "id": "5c450380",
      "metadata": {
        "id": "5c450380"
      },
      "source": [
        "**Q2. Write a code to print the data type of each and every element of both the variables list_ and\n",
        "arra_list.**"
      ]
    },
    {
      "cell_type": "code",
      "execution_count": null,
      "id": "475e8b05",
      "metadata": {
        "id": "475e8b05",
        "outputId": "fad30daa-21f0-4a6a-ecbc-d4b99c53823c"
      },
      "outputs": [
        {
          "data": {
            "text/plain": [
              "array([1, 2, 3, 4, 5])"
            ]
          },
          "execution_count": 8,
          "metadata": {},
          "output_type": "execute_result"
        }
      ],
      "source": [
        "array_list"
      ]
    },
    {
      "cell_type": "code",
      "execution_count": null,
      "id": "a4119341",
      "metadata": {
        "id": "a4119341",
        "outputId": "a0824905-c81b-45c7-813a-14f005c8fdfd"
      },
      "outputs": [
        {
          "data": {
            "text/plain": [
              "[1, 2, 3, 4, 5]"
            ]
          },
          "execution_count": 9,
          "metadata": {},
          "output_type": "execute_result"
        }
      ],
      "source": [
        "list_"
      ]
    },
    {
      "cell_type": "code",
      "execution_count": null,
      "id": "710bc0fc",
      "metadata": {
        "id": "710bc0fc",
        "outputId": "d952b5bf-d415-4434-b3f1-8677fd347728"
      },
      "outputs": [
        {
          "data": {
            "text/plain": [
              "numpy.ndarray"
            ]
          },
          "execution_count": 10,
          "metadata": {},
          "output_type": "execute_result"
        }
      ],
      "source": [
        "type(array_list)"
      ]
    },
    {
      "cell_type": "code",
      "execution_count": null,
      "id": "1ab997b1",
      "metadata": {
        "id": "1ab997b1",
        "outputId": "f7c15853-f035-4f31-c7a6-f0ee81c17aad"
      },
      "outputs": [
        {
          "data": {
            "text/plain": [
              "list"
            ]
          },
          "execution_count": 11,
          "metadata": {},
          "output_type": "execute_result"
        }
      ],
      "source": [
        "type(list_)"
      ]
    },
    {
      "cell_type": "code",
      "execution_count": null,
      "id": "11120a84",
      "metadata": {
        "id": "11120a84"
      },
      "outputs": [],
      "source": []
    },
    {
      "cell_type": "code",
      "execution_count": null,
      "id": "845bd43d",
      "metadata": {
        "id": "845bd43d"
      },
      "outputs": [],
      "source": []
    },
    {
      "cell_type": "markdown",
      "id": "fe71a405",
      "metadata": {
        "id": "fe71a405"
      },
      "source": [
        "**Q3. Considering the following changes in the variable, array_list:**\n",
        "\n",
        "**array_list = np.array(object = list_, dtype = int)**"
      ]
    },
    {
      "cell_type": "code",
      "execution_count": null,
      "id": "072b9847",
      "metadata": {
        "id": "072b9847"
      },
      "outputs": [],
      "source": [
        "array_list = np.array(object = list_, dtype = int)"
      ]
    },
    {
      "cell_type": "code",
      "execution_count": null,
      "id": "2413d766",
      "metadata": {
        "id": "2413d766",
        "outputId": "be5c8afd-5daf-416a-cfc2-ab2f37ad0fb9"
      },
      "outputs": [
        {
          "data": {
            "text/plain": [
              "array([1, 2, 3, 4, 5])"
            ]
          },
          "execution_count": 13,
          "metadata": {},
          "output_type": "execute_result"
        }
      ],
      "source": [
        "array_list"
      ]
    },
    {
      "cell_type": "code",
      "execution_count": null,
      "id": "865dce86",
      "metadata": {
        "id": "865dce86",
        "outputId": "799ab977-6d6f-45cd-e97b-40234a34680f"
      },
      "outputs": [
        {
          "name": "stdout",
          "output_type": "stream",
          "text": [
            "int32\n"
          ]
        }
      ],
      "source": [
        "# Print the dtype\n",
        "print(array_list.dtype)"
      ]
    },
    {
      "cell_type": "code",
      "execution_count": null,
      "id": "099b7ca9",
      "metadata": {
        "id": "099b7ca9",
        "outputId": "5bad75e6-bcd9-4d1a-fc33-a27a08a7b4f9"
      },
      "outputs": [
        {
          "name": "stdout",
          "output_type": "stream",
          "text": [
            "[1. 2. 3. 4. 5.]\n",
            "float32\n"
          ]
        }
      ],
      "source": [
        "# change the dtype to 'float64'\n",
        "arr = array_list.astype('float32')\n",
        "\n",
        "# Print the array after changing\n",
        "# the data type\n",
        "print(arr)\n",
        "\n",
        "# Also print the data type\n",
        "print(arr.dtype)\n"
      ]
    },
    {
      "cell_type": "code",
      "execution_count": null,
      "id": "08c35d33",
      "metadata": {
        "id": "08c35d33"
      },
      "outputs": [],
      "source": []
    },
    {
      "cell_type": "markdown",
      "id": "e4a04040",
      "metadata": {
        "id": "e4a04040"
      },
      "source": [
        "Will there be any difference in the data type of the elements present in both the variables, list_ and\n",
        "arra_list? If so then print the data types of each and every element present in both the variables, list_\n",
        "and arra_list."
      ]
    },
    {
      "cell_type": "code",
      "execution_count": null,
      "id": "914bdd40",
      "metadata": {
        "id": "914bdd40"
      },
      "outputs": [],
      "source": []
    },
    {
      "cell_type": "markdown",
      "id": "c8368294",
      "metadata": {
        "id": "c8368294"
      },
      "source": [
        "Consider the below code to answer further questions:\n",
        "import numpy as np\n",
        "\n",
        "num_list = [ [ 1 , 2 , 3 ] , [ 4 , 5 , 6 ] ]\n",
        "\n",
        "num_array = np.array(object = num_list)"
      ]
    },
    {
      "cell_type": "code",
      "execution_count": null,
      "id": "bf220cf9",
      "metadata": {
        "id": "bf220cf9"
      },
      "outputs": [],
      "source": [
        "num_list = [ [ 1 , 2 , 3 ] , [ 4 , 5 , 6 ] ]\n",
        "\n",
        "num_array = np.array(object = num_list)\n",
        "\n",
        "\n"
      ]
    },
    {
      "cell_type": "code",
      "execution_count": null,
      "id": "6a000017",
      "metadata": {
        "id": "6a000017",
        "outputId": "6702b006-efdc-44c9-f5bd-19c928eed3d6"
      },
      "outputs": [
        {
          "data": {
            "text/plain": [
              "array([[1, 2, 3],\n",
              "       [4, 5, 6]])"
            ]
          },
          "execution_count": 21,
          "metadata": {},
          "output_type": "execute_result"
        }
      ],
      "source": [
        "num_array"
      ]
    },
    {
      "cell_type": "code",
      "execution_count": null,
      "id": "ee64a87c",
      "metadata": {
        "id": "ee64a87c"
      },
      "outputs": [],
      "source": [
        "Q4. Write a code to find the following characteristics of variable, num_array:\n",
        "(i) shape\n",
        "(ii) size"
      ]
    },
    {
      "cell_type": "code",
      "execution_count": null,
      "id": "920bd705",
      "metadata": {
        "id": "920bd705",
        "outputId": "6a5e4642-19a9-4355-f8b3-290419a38723"
      },
      "outputs": [
        {
          "data": {
            "text/plain": [
              "(2, 3)"
            ]
          },
          "execution_count": 22,
          "metadata": {},
          "output_type": "execute_result"
        }
      ],
      "source": [
        "#shape \n",
        "num_array.shape"
      ]
    },
    {
      "cell_type": "code",
      "execution_count": null,
      "id": "b9dbe2fa",
      "metadata": {
        "id": "b9dbe2fa",
        "outputId": "98ea83c0-cdb3-498a-a81e-d1f9c4341ff8"
      },
      "outputs": [
        {
          "data": {
            "text/plain": [
              "2"
            ]
          },
          "execution_count": 24,
          "metadata": {},
          "output_type": "execute_result"
        }
      ],
      "source": [
        "# size \n",
        "num_array.ndim"
      ]
    },
    {
      "cell_type": "code",
      "execution_count": null,
      "id": "f58a2054",
      "metadata": {
        "id": "f58a2054"
      },
      "outputs": [],
      "source": []
    },
    {
      "cell_type": "code",
      "execution_count": null,
      "id": "c8dfeeaf",
      "metadata": {
        "id": "c8dfeeaf"
      },
      "outputs": [],
      "source": []
    },
    {
      "cell_type": "markdown",
      "id": "222062bf",
      "metadata": {
        "id": "222062bf"
      },
      "source": [
        "**Q5. Write a code to create numpy array of 3*3 matrix containing zeros only, using a numpy array\n",
        "creation function.**\n",
        "\n",
        "[Hint: The size of the array will be 9 and the shape will be (3,3).]"
      ]
    },
    {
      "cell_type": "code",
      "execution_count": null,
      "id": "a9c84057",
      "metadata": {
        "id": "a9c84057",
        "outputId": "c1f52395-4c5d-4890-91ca-ab7936d49b98"
      },
      "outputs": [
        {
          "name": "stdout",
          "output_type": "stream",
          "text": [
            "\n",
            "Matrix c : \n",
            " [[0. 0. 0.]\n",
            " [0. 0. 0.]\n",
            " [0. 0. 0.]]\n"
          ]
        }
      ],
      "source": [
        "# numpy.zeros method\n",
        "c = np.zeros([3, 3])\n",
        "print(\"\\nMatrix c : \\n\", c)"
      ]
    },
    {
      "cell_type": "code",
      "execution_count": null,
      "id": "30ae2e72",
      "metadata": {
        "id": "30ae2e72",
        "outputId": "5e4bbd65-84ea-4a7f-bf34-171f9fff22ac"
      },
      "outputs": [
        {
          "data": {
            "text/plain": [
              "(3, 3)"
            ]
          },
          "execution_count": 27,
          "metadata": {},
          "output_type": "execute_result"
        }
      ],
      "source": [
        "c.shape"
      ]
    },
    {
      "cell_type": "code",
      "execution_count": null,
      "id": "d51055f1",
      "metadata": {
        "id": "d51055f1"
      },
      "outputs": [],
      "source": []
    },
    {
      "cell_type": "markdown",
      "id": "4ccba71e",
      "metadata": {
        "id": "4ccba71e"
      },
      "source": [
        "**Q6. Create an identity matrix of shape (5,5) using numpy functions?**\n",
        "\n",
        "[Hint: An identity matrix is a matrix containing 1 diagonally and other elements will be 0.]"
      ]
    },
    {
      "cell_type": "code",
      "execution_count": null,
      "id": "1cd52e44",
      "metadata": {
        "id": "1cd52e44",
        "outputId": "9f887fe3-0268-46c3-dbe7-067886dd544f"
      },
      "outputs": [
        {
          "name": "stdout",
          "output_type": "stream",
          "text": [
            "\n",
            "Matrix a : \n",
            " [[1. 0. 0. 0. 0.]\n",
            " [0. 1. 0. 0. 0.]\n",
            " [0. 0. 1. 0. 0.]\n",
            " [0. 0. 0. 1. 0.]\n",
            " [0. 0. 0. 0. 1.]]\n"
          ]
        }
      ],
      "source": [
        "# Python Programming illustrating\n",
        "# numpy.identity method\n",
        "\n",
        "import numpy as np\n",
        "\n",
        "\n",
        "\n",
        "a = np.identity(5)\n",
        "print(\"\\nMatrix a : \\n\", a)\n"
      ]
    },
    {
      "cell_type": "code",
      "execution_count": null,
      "id": "951851e3",
      "metadata": {
        "id": "951851e3",
        "outputId": "003b9a0a-bf68-4b77-b54e-a43b905d62a7"
      },
      "outputs": [
        {
          "data": {
            "text/plain": [
              "(5, 5)"
            ]
          },
          "execution_count": 30,
          "metadata": {},
          "output_type": "execute_result"
        }
      ],
      "source": [
        "a.shape"
      ]
    },
    {
      "cell_type": "code",
      "execution_count": null,
      "id": "619beca2",
      "metadata": {
        "id": "619beca2"
      },
      "outputs": [],
      "source": []
    }
  ],
  "metadata": {
    "kernelspec": {
      "display_name": "Python 3 (ipykernel)",
      "language": "python",
      "name": "python3"
    },
    "language_info": {
      "codemirror_mode": {
        "name": "ipython",
        "version": 3
      },
      "file_extension": ".py",
      "mimetype": "text/x-python",
      "name": "python",
      "nbconvert_exporter": "python",
      "pygments_lexer": "ipython3",
      "version": "3.9.7"
    },
    "colab": {
      "provenance": [],
      "include_colab_link": true
    }
  },
  "nbformat": 4,
  "nbformat_minor": 5
}