{
  "cells": [
    {
      "cell_type": "markdown",
      "metadata": {
        "id": "view-in-github",
        "colab_type": "text"
      },
      "source": [
        "<a href=\"https://colab.research.google.com/github/Riturajkumari/skills_basic_python/blob/main/Multitreading_Assignment.ipynb\" target=\"_parent\"><img src=\"https://colab.research.google.com/assets/colab-badge.svg\" alt=\"Open In Colab\"/></a>"
      ]
    },
    {
      "cell_type": "markdown",
      "metadata": {
        "id": "7mYE8tT3tHLH"
      },
      "source": [
        " what is multithreading in python? why is it used? Name the module used to handle threads in python?"
      ]
    },
    {
      "cell_type": "markdown",
      "metadata": {
        "id": "eknFQVcltHLL"
      },
      "source": [
        "-  multithreading is a way of achieving multitasking. In multithreading, the concept of threads is used. \n",
        "- a process is an instance of a computer program that is being executed. \n",
        "- Multithreading is defined as the ability of a processor to execute multiple threads concurrently.\n",
        "- two main modules of multithreading used to handle threads in Python.\n",
        "1.The thread module\n",
        "2.The threading module\n",
        "**Thread Modeule**\n",
        "it can only be accessed with _thread that supports backward compatibility.\n",
        "*syntax*\n",
        " thread.start_new_thread ( function_name, args[, kwargs] )\n",
        " "
      ]
    },
    {
      "cell_type": "code",
      "execution_count": null,
      "metadata": {
        "id": "Qa0xHLVCtHLL"
      },
      "outputs": [],
      "source": [
        "import threading\n",
        "import time "
      ]
    },
    {
      "cell_type": "code",
      "execution_count": null,
      "metadata": {
        "id": "mTk0OhlZtHLM"
      },
      "outputs": [],
      "source": [
        "def cal_sqre(num): # define the cal_sqre function  \n",
        "    print(\" Calculate the square root of the given number\")  \n",
        "    for n in num:   \n",
        "        time.sleep(0.3) # at each iteration it waits for 0.3 time  \n",
        "        print(' Square is : ', n * n)  "
      ]
    },
    {
      "cell_type": "code",
      "execution_count": null,
      "metadata": {
        "id": "JOTSg2QotHLM",
        "outputId": "97c91a80-0cd5-43a2-fbb0-fadfb229c713"
      },
      "outputs": [
        {
          "name": "stdout",
          "output_type": "stream",
          "text": [
            " Calculate the square root of the given number\n",
            " Square is :  16\n",
            " Square is :  25\n",
            " Square is :  36\n",
            " Square is :  49\n",
            " Square is :  4\n"
          ]
        }
      ],
      "source": [
        "arr = [4, 5, 6, 7, 2] # given array  \n",
        "  \n",
        "t1 = time.time() # get total time to execute the functions  \n",
        "cal_sqre(arr) # call cal_sqre() function  "
      ]
    },
    {
      "cell_type": "markdown",
      "metadata": {
        "id": "2VsCIRystHLN"
      },
      "source": [
        "**Why threading module used? Write the use of the following functions?**"
      ]
    },
    {
      "cell_type": "markdown",
      "metadata": {
        "id": "43vBDc_etHLN"
      },
      "source": [
        "- The Python Threading module allows you to create and manage new threads of execution in Python.\n",
        "- The threading module exposes all the methods of the thread module and provides some additional methods −\n",
        "**threading.activeCount()** − Returns the number of thread objects that are active.\n",
        "\n",
        "**threading.currentThread()** − Returns the number of thread objects in the caller's thread control.\n",
        "\n",
        "**threading.enumerate()** − Returns a list of all thread objects that are currently active."
      ]
    },
    {
      "cell_type": "markdown",
      "metadata": {
        "id": "4FLpIbOatHLO"
      },
      "source": [
        "A threading module is made up of a Thread class, which is instantiated to create a Python thread.\n",
        "\n",
        "*syntax*\n",
        "\n",
        "import threading  "
      ]
    },
    {
      "cell_type": "code",
      "execution_count": null,
      "metadata": {
        "id": "Uwb3bvmQtHLO"
      },
      "outputs": [],
      "source": [
        "import threading  \n",
        "def print_hello(n):\n",
        "    print(\"Hello, how old are you \", n)\n",
        "    t1 = threading.Thread( target = print_hello, args =(18, ))  "
      ]
    },
    {
      "cell_type": "code",
      "execution_count": null,
      "metadata": {
        "id": "-vwy9EOLtHLO",
        "outputId": "dc585b77-f120-4ed7-a5f5-b36ac5c54a28"
      },
      "outputs": [
        {
          "name": "stdout",
          "output_type": "stream",
          "text": [
            "Hello, how old are you? Thank you\n",
            " 20\n"
          ]
        }
      ],
      "source": [
        "import threading  \n",
        "def print_hello(n):  \n",
        "    print(\"Hello, how old are you? \", n)  \n",
        "T1 = threading.Thread( target = print_hello, args = (20, ))  \n",
        "T1.start()\n",
        "print(\"Thank you\")  "
      ]
    },
    {
      "cell_type": "code",
      "execution_count": null,
      "metadata": {
        "id": "6nz1FrRltHLP"
      },
      "outputs": [],
      "source": []
    },
    {
      "cell_type": "markdown",
      "metadata": {
        "id": "6j6B5__2tHLP"
      },
      "source": [
        "3. Explain the following functions\n",
        "1.  run\n",
        "2. start\n",
        "3. join\n",
        "4. isAlive"
      ]
    },
    {
      "cell_type": "markdown",
      "metadata": {
        "id": "F2qZkONItHLP"
      },
      "source": [
        " threading module has the Thread class that implements threading. The methods provided by the Thread class are as follows \n",
        "- run() − The run() method is the entry point for a thread.\n",
        "\n",
        "- start() − The start() method starts a thread by calling the run method.\n",
        "\n",
        "- join() − The join() waits for threads to terminate.\n",
        "\n",
        "- isAlive() − The isAlive() method checks whether a thread is still executing."
      ]
    },
    {
      "cell_type": "code",
      "execution_count": null,
      "metadata": {
        "id": "ZDhC7tCotHLQ",
        "outputId": "f359546d-bae5-43fa-c0ad-ce894d3a0efe"
      },
      "outputs": [
        {
          "name": "stdout",
          "output_type": "stream",
          "text": [
            "Hello, how old are you?  20\n",
            "Thank you\n"
          ]
        }
      ],
      "source": [
        "# join mrhtod\n",
        "import threading  \n",
        "def print_hello(n):  \n",
        "    print(\"Hello, how old are you? \", n)  \n",
        "T1 = threading.Thread( target = print_hello, args = (20, ))  \n",
        "T1.start()  \n",
        "T1.join()  \n",
        "print(\"Thank you\")  "
      ]
    },
    {
      "cell_type": "code",
      "execution_count": null,
      "metadata": {
        "id": "Tjj1FhUMtHLQ"
      },
      "outputs": [],
      "source": [
        "import time \n",
        "import threading  \n",
        "from threading import *  \n",
        "def cal_sqre(num): \n",
        "    print(\" Calculate the square root of the given number\")  \n",
        "    for n in num:\n",
        "        time.sleep(0.3) # at each iteration it waits for 0.3 time  \n",
        "        print(' Square is : ', n * n)  "
      ]
    },
    {
      "cell_type": "code",
      "execution_count": null,
      "metadata": {
        "id": "zzd090wvtHLR",
        "outputId": "982c4385-4a24-4cbc-8734-336b2dee22d7"
      },
      "outputs": [
        {
          "name": "stdout",
          "output_type": "stream",
          "text": [
            " Calculate the square root of the given number\n",
            " Square is :  16\n",
            " Square is :  25\n",
            " Square is :  36\n",
            " Square is :  49\n",
            " Square is :  4\n",
            " Calculate the square root of the given number\n",
            " Square is :  16\n",
            " Square is :  25\n",
            " Square is :  36\n",
            " Square is :  49\n",
            " Square is :  4\n",
            " Total time taking by threads is : 3.1179583072662354\n",
            " Again executing the main thread\n",
            " Thread 1 and Thread 2 have finished their execution.\n"
          ]
        }
      ],
      "source": [
        "ar = [4, 5, 6, 7, 2] # given array  \n",
        "  \n",
        "t = time.time() # get total time to execute the functions  \n",
        "\n",
        "cal_sqre(ar)  \n",
        "th1 = threading.Thread(target=cal_sqre, args=(ar, ))  \n",
        "\n",
        "th1.start()  \n",
        "#th2.start()  \n",
        "th1.join()  \n",
        "# th2.join()  \n",
        "print(\" Total time taking by threads is :\", time.time() - t) # print the total time  \n",
        "print(\" Again executing the main thread\")  \n",
        "print(\" Thread 1 and Thread 2 have finished their execution.\")  "
      ]
    },
    {
      "cell_type": "markdown",
      "metadata": {
        "id": "9rJjZnn4tHLR"
      },
      "source": [
        "\n",
        "**4.Write a python program to create two threads. Thread one must print the list of squares and thread\n",
        "two must print the list of cubes?**"
      ]
    },
    {
      "cell_type": "code",
      "execution_count": null,
      "metadata": {
        "id": "tnVNN42ntHLR",
        "outputId": "6a9299d2-cd47-4502-f18b-a7a89a6da125"
      },
      "outputs": [
        {
          "name": "stdout",
          "output_type": "stream",
          "text": [
            " Calculate the cube of  the given number\n",
            " Cube is :  8\n",
            " Cube is :  64\n",
            " Cube is :  216\n",
            " Cube is :  512\n",
            " Cube is :  729\n",
            " Calculate the square root of the given number\n",
            " Square is :  4\n",
            " Square is :  16\n",
            " Square is :  36\n",
            " Square is :  64\n",
            " Square is :  81\n",
            " Calculate the square root of the given number\n",
            " Calculate the cube of  the given number\n",
            " Square is :  Cube is :   4\n",
            "8\n",
            " Cube is :   Square is :  16\n",
            "64\n",
            " Cube is :  216\n",
            " Square is :  36\n",
            " Square is :  Cube is :  64\n",
            " 512\n",
            " Cube is :  Square is :  81\n",
            " 729\n",
            " Total time taking by threads is : 4.679602384567261\n",
            " Again executing the main thread\n",
            " Thread 1 and Thread 2 have finished their execution.\n"
          ]
        }
      ],
      "source": [
        "import threading  \n",
        "import time  \n",
        "def cal_sqre(num): \n",
        "    print(\" Calculate the square root of the given number\")  \n",
        "    for n in num: \n",
        "        time.sleep(0.3) \n",
        "        print(' Square is : ', n * n)  \n",
        "  \n",
        "def cal_cube(num): \n",
        "    print(\" Calculate the cube of  the given number\")  \n",
        "    for n in num: \n",
        "        time.sleep(0.3) \n",
        "        print(\" Cube is : \", n * n *n)  \n",
        "  \n",
        "ar = [2,4,6,8,9] \n",
        "  \n",
        "t = time.time()   \n",
        "cal_cube(ar)  \n",
        "cal_sqre(ar)  \n",
        "th1 = threading.Thread(target=cal_sqre, args=(ar, ))  \n",
        "th2 = threading.Thread(target=cal_cube, args=(ar, ))  \n",
        "th1.start()  \n",
        "th2.start()  \n",
        "th1.join()  \n",
        "th2.join()  \n",
        "print(\" Total time taking by threads is :\", time.time() - t) # print the total time  \n",
        "print(\" Again executing the main thread\")  \n",
        "print(\" Thread 1 and Thread 2 have finished their execution.\")  "
      ]
    },
    {
      "cell_type": "markdown",
      "metadata": {
        "id": "YM-ndqo2tHLR"
      },
      "source": [
        "**State advantages and disadvantages of multithreading**"
      ]
    },
    {
      "cell_type": "markdown",
      "metadata": {
        "id": "BjRKFGV-tHLR"
      },
      "source": [
        "**Advantages of Python multithreading**\n",
        "- Multithreading in Python streamlines the efficient utilization of resources as the threads share the same memory and data space.\n",
        "- It also allows the concurrent appearance of multiple tasks and reduces the response time. This improves the performance."
      ]
    },
    {
      "cell_type": "markdown",
      "metadata": {
        "id": "TZ-O4lXqtHLS"
      },
      "source": [
        "disadvantage\n",
        "- most system calls are blocking.\n",
        "- Multithreaded application cannot take advantage of multiprocessing."
      ]
    },
    {
      "cell_type": "markdown",
      "metadata": {
        "id": "NwfQQCritHLS"
      },
      "source": [
        "**6. Explain deadlocks and race conditions**"
      ]
    },
    {
      "cell_type": "markdown",
      "metadata": {
        "id": "ttgbyN5gtHLS"
      },
      "source": [
        "- Race condition occurs when multiple threads read and write the same variable i.e. they have access to some shared data and they try to change it at the same time.\n",
        "- race condition. Two (or more) threads alter the state of a shared resource concurrently, leaving it in an unpredictable state.\n",
        "- deadlock. Two threads hold locks on different resources, each waiting indefinitely for the other to release its lock.\n"
      ]
    },
    {
      "cell_type": "code",
      "execution_count": null,
      "metadata": {
        "id": "eBYccSXftHLS"
      },
      "outputs": [],
      "source": []
    },
    {
      "cell_type": "code",
      "execution_count": null,
      "metadata": {
        "id": "ZF42g00GtHLS"
      },
      "outputs": [],
      "source": []
    },
    {
      "cell_type": "code",
      "execution_count": null,
      "metadata": {
        "id": "vHnWBR8atHLS"
      },
      "outputs": [],
      "source": []
    },
    {
      "cell_type": "code",
      "execution_count": null,
      "metadata": {
        "id": "wTt-43i8tHLS"
      },
      "outputs": [],
      "source": []
    }
  ],
  "metadata": {
    "kernelspec": {
      "display_name": "Python 3",
      "language": "python",
      "name": "python3"
    },
    "language_info": {
      "codemirror_mode": {
        "name": "ipython",
        "version": 3
      },
      "file_extension": ".py",
      "mimetype": "text/x-python",
      "name": "python",
      "nbconvert_exporter": "python",
      "pygments_lexer": "ipython3",
      "version": "3.7.3"
    },
    "colab": {
      "provenance": [],
      "include_colab_link": true
    }
  },
  "nbformat": 4,
  "nbformat_minor": 0
}