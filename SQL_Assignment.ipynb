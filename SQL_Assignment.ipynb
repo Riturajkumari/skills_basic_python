{
  "nbformat": 4,
  "nbformat_minor": 0,
  "metadata": {
    "colab": {
      "provenance": [],
      "authorship_tag": "ABX9TyMBxBlcT5rei0AFwTaS1fB/",
      "include_colab_link": true
    },
    "kernelspec": {
      "name": "python3",
      "display_name": "Python 3"
    },
    "language_info": {
      "name": "python"
    }
  },
  "cells": [
    {
      "cell_type": "markdown",
      "metadata": {
        "id": "view-in-github",
        "colab_type": "text"
      },
      "source": [
        "<a href=\"https://colab.research.google.com/github/Riturajkumari/skills_basic_python/blob/main/SQL_Assignment.ipynb\" target=\"_parent\"><img src=\"https://colab.research.google.com/assets/colab-badge.svg\" alt=\"Open In Colab\"/></a>"
      ]
    },
    {
      "cell_type": "code",
      "execution_count": null,
      "metadata": {
        "id": "wwcij_krfsSs"
      },
      "outputs": [],
      "source": []
    },
    {
      "cell_type": "markdown",
      "source": [
        "**what is a DataBase? Difference between SQL and NoSQl database?**"
      ],
      "metadata": {
        "id": "2_-kwc5Sf6KE"
      }
    },
    {
      "cell_type": "markdown",
      "source": [
        "A **database** is an organized collection of data, so that it can be easily accessed and managed.\n",
        " - data into tables, rows, columns, and index it to make it easier to find relevant information.\n",
        "    - databases available like MySQL, Sybase, Oracle, MongoDB, Informix, PostgreSQL, SQL Server, etc."
      ],
      "metadata": {
        "id": "D983hdJCg1Lb"
      }
    },
    {
      "cell_type": "markdown",
      "source": [
        "- difference between SQL and NOSQL database.\n",
        "\n",
        " **SQL**\n",
        "  - RELATIONAL DATABASE MANAGEMENT SYSTEM (RDBMS)\n",
        "  - These databases have fixed or static or predefined schema\n",
        "  - These databases are not suited for hierarchical data storage.\n",
        "  - These databases are best suited for complex queries\n",
        "  - Vertically Scalable\n",
        "  - Follows ACID property\n",
        "  - Examples: MySQL, PostgreSQL, Oracle, MS-SQL Server, etc\n"
      ],
      "metadata": {
        "id": "iEG11tSshSn1"
      }
    },
    {
      "cell_type": "markdown",
      "source": [
        "**NoSQL**\n",
        " \n",
        "   - Non-relational or distributed database system.\n",
        "   - They have dynamic schema\n",
        "   - These databases are best suited for hierarchical data storage.\n",
        "   - These databases are not so good for complex queries\n",
        "   - Horizontally scalable\n",
        "   - Follows CAP(consistency, availability, partition tolerance)\n",
        "   - Examples: MongoDB, GraphQL, HBase, Neo4j, Cassandra, etc\n",
        "   "
      ],
      "metadata": {
        "id": "GKkfQyxDi7Xf"
      }
    },
    {
      "cell_type": "code",
      "source": [],
      "metadata": {
        "id": "4XS5hCiSgLFl"
      },
      "execution_count": null,
      "outputs": []
    },
    {
      "cell_type": "markdown",
      "source": [
        "2.**what is DDL ? Explain why CREATE, DROP, ALTER, and TRUNCATE are used with an example?**"
      ],
      "metadata": {
        "id": "Tr78nDVCoDet"
      }
    },
    {
      "cell_type": "code",
      "source": [],
      "metadata": {
        "id": "G9gksPQhoUvb"
      },
      "execution_count": null,
      "outputs": []
    },
    {
      "cell_type": "markdown",
      "source": [
        "- Data Definition Language(DDL) is a subset of SQL and a part of DBMS(Database Management System). DDL consist of Commands to commands like CREATE, ALTER, TRUNCATE and DROP.\n",
        "- DDL Commands :\n",
        "   - **Create**\n",
        "This command is used to create a new table in SQL. The user has to give information like table name, column names, and their datatypes.\n",
        "   - CREATE TABLE table_name\n",
        "\n",
        "(column_1 datatype,\n",
        "column_2 datatype,\n",
        "column_3 datatype,\n",
        "....\n",
        ");\n",
        "\n",
        "   **ALTER**\n",
        "   - This command is used to add, delete or change columns in the existing table. The user needs to know the existing table name and can do add, delete or modify tasks easily.\n",
        "      cammand:\n",
        "       ALTER TABLE table_name\n",
        "       ADD column_name datatype; \n",
        "\n",
        "    **TRUNCATE**\n",
        "       \n",
        "       This command is used to remove all rows from the table, but the structure of the table still exists.\n",
        "       TRUNCATE TABLE table_name;\n",
        "    **DROP** \n",
        "      This command is used to remove an existing table along with its structure from the Database.\n",
        "           DROP TABLE table_name;"
      ],
      "metadata": {
        "id": "Zou1zDR_onGZ"
      }
    },
    {
      "cell_type": "code",
      "source": [
        "# example\n",
        "# create Student information\n"
      ],
      "metadata": {
        "id": "2o91Nb2epX7g"
      },
      "execution_count": null,
      "outputs": []
    },
    {
      "cell_type": "markdown",
      "source": [
        "CREATE TABLE Student_info\n",
        "(\n",
        "College_Id number(2),\n",
        "College_name varchar(30),\n",
        "Branch varchar(10)\n",
        ");"
      ],
      "metadata": {
        "id": "41-FOBforBJR"
      }
    },
    {
      "cell_type": "code",
      "source": [
        "# Alter command example\n"
      ],
      "metadata": {
        "id": "AS-tkF3rrCxq"
      },
      "execution_count": null,
      "outputs": []
    },
    {
      "cell_type": "markdown",
      "source": [
        "ALTER TABLE Student_info\n",
        "ADD CGPA number;"
      ],
      "metadata": {
        "id": "Wo6-rJpBrNcO"
      }
    },
    {
      "cell_type": "code",
      "source": [
        "# DROP EXample\n"
      ],
      "metadata": {
        "id": "G169Hl3nrMhf"
      },
      "execution_count": null,
      "outputs": []
    },
    {
      "cell_type": "markdown",
      "source": [
        "DROP TABLE Student_info;"
      ],
      "metadata": {
        "id": "sUKs54fgyvRK"
      }
    },
    {
      "cell_type": "code",
      "source": [],
      "metadata": {
        "id": "4-trxYZPyv9p"
      },
      "execution_count": null,
      "outputs": []
    },
    {
      "cell_type": "markdown",
      "source": [
        "**what is DML? Explain INSERT, UPDATE and DELETE with an example?**"
      ],
      "metadata": {
        "id": "RtEZCPV3zAtz"
      }
    },
    {
      "cell_type": "code",
      "source": [],
      "metadata": {
        "id": "m5t7_jldy1CK"
      },
      "execution_count": null,
      "outputs": []
    },
    {
      "cell_type": "markdown",
      "source": [
        " **DML** is an abbreviation of Data Manipulation Language.\n",
        "  The DML commands in Structured Query Language change the data present in the SQL database. We can easily access, store, modify, update and delete the existing records from the database using DML commands.\n",
        "\n",
        "    INSERT DML Command\n",
        "\n",
        "     INSERT is another most important data manipulation command in Structured Query Language, which allows users to insert data in database tables.\n",
        "\n",
        "     *Syntax*\n",
        "     INSERT INTO TABLE_NAME ( column_Name1 , column_Name2 , column_Name3 , .... column_NameN )  VALUES (value_1, value_2, value_3, .... value_N ) ;  \n",
        "      "
      ],
      "metadata": {
        "id": "a0hUYqzM0A7v"
      }
    },
    {
      "cell_type": "code",
      "source": [
        "# Example 1: This example describes how to insert the record in the database table."
      ],
      "metadata": {
        "id": "7rGe6uLty1FS"
      },
      "execution_count": null,
      "outputs": []
    },
    {
      "cell_type": "markdown",
      "source": [
        "INSERT INTO Student (Stu_id, Stu_Name, Stu_Marks, Stu_Age) VALUES (104, Anmol, 89, 19);  "
      ],
      "metadata": {
        "id": "XF62Z1dg1BT6"
      }
    },
    {
      "cell_type": "code",
      "source": [],
      "metadata": {
        "id": "h2drGXdQy1H9"
      },
      "execution_count": null,
      "outputs": []
    },
    {
      "cell_type": "markdown",
      "source": [
        "**UPDATE**\n",
        " UPDATE is another most important data manipulation command in Structured Query Language, which allows users to update or modify the existing data in database tables.\n",
        "\n",
        "   **Syntax**\n",
        "UPDATE Table_name SET [column_name1= value_1, ….., column_nameN = value_N] WHERE CONDITION;  \n"
      ],
      "metadata": {
        "id": "d4uGTWNx1KTD"
      }
    },
    {
      "cell_type": "code",
      "source": [
        "# Suppose, you want to update the Product_Price of the product whose Product_Id is P102. To do this, you have to write the following DML UPDATE command:"
      ],
      "metadata": {
        "id": "InPMMT2Gy1Or"
      },
      "execution_count": null,
      "outputs": []
    },
    {
      "cell_type": "markdown",
      "source": [
        " - UPDATE Product SET Product_Price = 80 WHERE Product_Id = 'P102' ; \n",
        "  "
      ],
      "metadata": {
        "id": "ci-AmRdc1nex"
      }
    },
    {
      "cell_type": "code",
      "source": [
        "# Example 2: This example describes how to update the value of multiple fields of the database table."
      ],
      "metadata": {
        "id": "O0AMqCwazpI6"
      },
      "execution_count": null,
      "outputs": []
    },
    {
      "cell_type": "markdown",
      "source": [
        "- UPDATE Student SET Stu_Marks = 80, Stu_Age = 21 WHERE Stu_Id = 103 AND Stu_Id = 202;  "
      ],
      "metadata": {
        "id": "TJK78Tjd2Qb5"
      }
    },
    {
      "cell_type": "code",
      "source": [],
      "metadata": {
        "id": "1o6V08aB2UE9"
      },
      "execution_count": null,
      "outputs": []
    },
    {
      "cell_type": "markdown",
      "source": [
        "**DELETE DML Command**\n",
        " DELETE is a DML command which allows SQL users to remove single or multiple existing records from the database tables.\n",
        "  *syntax*\n",
        "  DELETE FROM Table_Name WHERE condition;  \n",
        "  "
      ],
      "metadata": {
        "id": "SqTkEh282fL4"
      }
    },
    {
      "cell_type": "code",
      "source": [
        "# Example 1: This example describes how to delete a single record from the table.\n"
      ],
      "metadata": {
        "id": "KHuE4nuo2UId"
      },
      "execution_count": null,
      "outputs": []
    },
    {
      "cell_type": "markdown",
      "source": [
        "DELETE FROM Product WHERE Product_Id = 'P202' ;  "
      ],
      "metadata": {
        "id": "LLN5kF5t2uYZ"
      }
    },
    {
      "cell_type": "code",
      "source": [],
      "metadata": {
        "id": "0Z-UBf9l2UQJ"
      },
      "execution_count": null,
      "outputs": []
    },
    {
      "cell_type": "markdown",
      "source": [
        "**What is DQL? Explain SELECT, with an example?**"
      ],
      "metadata": {
        "id": "k05ZOS542-cq"
      }
    },
    {
      "cell_type": "markdown",
      "source": [
        "- It is used for retrieving data. A user can retrieve data according to requirements using the select command. \n",
        "\n",
        "Example: \n",
        "\n",
        "If a user wants to retrieve all the from the employee table, the query must be given as follows: \n",
        " \n",
        "select *\n",
        "from employee;  "
      ],
      "metadata": {
        "id": "XbKQAww94Mpp"
      }
    },
    {
      "cell_type": "markdown",
      "source": [
        " Example . If a user wants to know the average salary of the employees, the query must be given as follows: \n",
        " \n",
        "\n",
        "select avg(salary) \n",
        "from employee; "
      ],
      "metadata": {
        "id": "nxQXt1HH4iRg"
      }
    },
    {
      "cell_type": "code",
      "source": [
        "# If a user wants to know the name of the employee whose salary is less than 10, 000; the query is"
      ],
      "metadata": {
        "id": "CXU90Lkn24eH"
      },
      "execution_count": null,
      "outputs": []
    },
    {
      "cell_type": "markdown",
      "source": [
        "select ename \n",
        "from employee \n",
        "where salary<=10, 000; "
      ],
      "metadata": {
        "id": "7XA1-cld4ssq"
      }
    },
    {
      "cell_type": "code",
      "source": [],
      "metadata": {
        "id": "IKq0n-o224jV"
      },
      "execution_count": null,
      "outputs": []
    },
    {
      "cell_type": "markdown",
      "source": [
        "**Explain Primary key and Foreign Key**."
      ],
      "metadata": {
        "id": "I6JYaVtY48Kj"
      }
    },
    {
      "cell_type": "markdown",
      "source": [
        "- **Primary Key**: A primary key is used to ensure that data in the specific column is unique. A column cannot have NULL values. It is either an existing table column or a column that is specifically generated by the database according to a defined sequence. \n",
        "    - *Example:STUD_NO, as well as STUD_PHONE both, are candidate keys for relation STUDENT but STUD_NO can be chosen as the primary key (only one out of many candidate keys).*\n",
        "\n",
        "**Foreign Key:**\n",
        "   A foreign key is a column or group of columns in a relational database table that provides a link between data in two tables. It is a column (or columns) that references a column (most often the primary key) of another table. \n",
        "   \n",
        "     - STUD_NO in STUDENT_COURSE is a foreign key to STUD_NO in STUDENT relation. "
      ],
      "metadata": {
        "id": "G2TGDPWz54Mt"
      }
    },
    {
      "cell_type": "code",
      "source": [],
      "metadata": {
        "id": "NeYyPYiJ24md"
      },
      "execution_count": null,
      "outputs": []
    },
    {
      "cell_type": "code",
      "source": [],
      "metadata": {
        "id": "6X9CfpJ224pW"
      },
      "execution_count": null,
      "outputs": []
    },
    {
      "cell_type": "markdown",
      "source": [
        "**Write a python code to connect MYSQL to python . Explain the cursor() and execute() method.**"
      ],
      "metadata": {
        "id": "Zy2ddmT-5I2A"
      }
    },
    {
      "cell_type": "code",
      "source": [
        "pip install mysql-connector python"
      ],
      "metadata": {
        "colab": {
          "base_uri": "https://localhost:8080/"
        },
        "id": "znvCZ7n_8DxD",
        "outputId": "2d399a69-1b86-4bf3-e8f5-e46fba7a3481"
      },
      "execution_count": null,
      "outputs": [
        {
          "output_type": "stream",
          "name": "stdout",
          "text": [
            "Looking in indexes: https://pypi.org/simple, https://us-python.pkg.dev/colab-wheels/public/simple/\n",
            "Requirement already satisfied: mysql-connector in /usr/local/lib/python3.8/dist-packages (2.2.9)\n",
            "\u001b[31mERROR: Could not find a version that satisfies the requirement python (from versions: none)\u001b[0m\u001b[31m\n",
            "\u001b[0m\u001b[31mERROR: No matching distribution found for python\u001b[0m\u001b[31m\n",
            "\u001b[0m"
          ]
        }
      ]
    },
    {
      "cell_type": "code",
      "source": [
        "import mysql.connector\n",
        "# import mysql.connector\n",
        "#create user 'user'@'%' identified by 'password'\n",
        "mydb = mysql.connector.connect(\n",
        "  host=\"localhost\",\n",
        "  user=\"abc\",\n",
        "  password=\"password\"\n",
        ")\n",
        "print(mydb)\n",
        "mycursor = mydb.cursor()\n",
        "mycursor.execute(\"SHOW DATABASE\")\n",
        "for x in mycursor:\n",
        "  print(x)"
      ],
      "metadata": {
        "id": "HkHuT0aE2UcI"
      },
      "execution_count": null,
      "outputs": []
    },
    {
      "cell_type": "markdown",
      "source": [
        "**Give the order of execution of SQL clauses in an SQL query.**"
      ],
      "metadata": {
        "id": "8JlsvV3y5eK6"
      }
    },
    {
      "cell_type": "code",
      "source": [],
      "metadata": {
        "id": "asWTl0va5ovw"
      },
      "execution_count": null,
      "outputs": []
    },
    {
      "cell_type": "markdown",
      "source": [
        "*Different clauses available in the Structured Query Language are as follows:*\n",
        "- WHERE CLAUSE\n",
        "- GROUP BY CLAUSE\n",
        "- HAVING CLAUSE\n",
        "- ORDER BY CLAUSE"
      ],
      "metadata": {
        "id": "xnOv_7vdvVZg"
      }
    },
    {
      "cell_type": "markdown",
      "source": [
        "Syntax of where clause with a select query to retrieve all the column values for every record from a table:\n",
        " SELECT * FROM employees WHERE Salary > 50000;  "
      ],
      "metadata": {
        "id": "F7BB13KjvwWf"
      }
    },
    {
      "cell_type": "code",
      "source": [],
      "metadata": {
        "id": "LyC_fK29vizq"
      },
      "execution_count": null,
      "outputs": []
    },
    {
      "cell_type": "markdown",
      "source": [
        "Syntax GROUP BY\n",
        "\n",
        "SELECT * FROM TABLENAME GROUP BY COLUMNNAME;   "
      ],
      "metadata": {
        "id": "9O41YHTBv5Na"
      }
    },
    {
      "cell_type": "code",
      "source": [],
      "metadata": {
        "id": "8kizn33iwbZ2"
      },
      "execution_count": null,
      "outputs": []
    },
    {
      "cell_type": "markdown",
      "source": [
        "- HAVING CONDITION\n",
        "\n",
        "TABLENAME GROUP BY COLUMNNAME HAVING CONDITION; "
      ],
      "metadata": {
        "id": "L5DwPa9PwGnw"
      }
    },
    {
      "cell_type": "markdown",
      "source": [
        "ORDER BY CLAUSE\n",
        "\n",
        "- Syntax of ORDER BY clause without asc and desc keyword:\n",
        "SELECT COLUMN_NAME1, COLUMN_NAME2 FROM TABLE_NAME ORDER BY COLUMNAME;  \n",
        "\n",
        "- Syntax of ORDER BY clause to sort in ascending order:\n",
        "\n",
        "SELECT COLUMN_NAME1, COLUMN_NAME2 FROM TABLE_NAME ORDER BY COLUMN_NAME ASC;  \n",
        "\n",
        "- Syntax of ORDER BY clause to sort in descending order:\n",
        "\n",
        "SELECT COLUMN_NAME1, COLUMN_NAME2 FROM TABLE_NAME ORDER BY COLUMN_NAME DESC;  "
      ],
      "metadata": {
        "id": "ISYQj_8ewaOq"
      }
    },
    {
      "cell_type": "code",
      "source": [],
      "metadata": {
        "id": "ppxmjjCQwcqM"
      },
      "execution_count": null,
      "outputs": []
    },
    {
      "cell_type": "code",
      "source": [],
      "metadata": {
        "id": "ue-pxIwkwEpU"
      },
      "execution_count": null,
      "outputs": []
    }
  ]
}