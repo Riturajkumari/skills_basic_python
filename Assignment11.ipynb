{
  "nbformat": 4,
  "nbformat_minor": 0,
  "metadata": {
    "colab": {
      "provenance": [],
      "authorship_tag": "ABX9TyNkJKpax/luYrJRig8HpJ/y",
      "include_colab_link": true
    },
    "kernelspec": {
      "name": "python3",
      "display_name": "Python 3"
    },
    "language_info": {
      "name": "python"
    }
  },
  "cells": [
    {
      "cell_type": "markdown",
      "metadata": {
        "id": "view-in-github",
        "colab_type": "text"
      },
      "source": [
        "<a href=\"https://colab.research.google.com/github/Riturajkumari/skills_basic_python/blob/main/Assignment11.ipynb\" target=\"_parent\"><img src=\"https://colab.research.google.com/assets/colab-badge.svg\" alt=\"Open In Colab\"/></a>"
      ]
    },
    {
      "cell_type": "code",
      "execution_count": null,
      "metadata": {
        "id": "jvPncXX0lqFF"
      },
      "outputs": [],
      "source": []
    },
    {
      "cell_type": "markdown",
      "source": [
        "1.**what is Exception in python? write the difference between Exception and Syntax errors**"
      ],
      "metadata": {
        "id": "AUH8mxfbmFHQ"
      }
    },
    {
      "cell_type": "markdown",
      "source": [
        "- An exception is an event, which occurs during the execution of a program that disrupts the normal flow of the program's instructions. In general, when a Python script encounters a situation that it cannot cope with, it raises an exception. An exception is a Python object that represents an error.\n",
        "\n",
        "- Syntax\n",
        "\n",
        "  try:\n",
        "\n",
        "   You do your operations here;\n",
        "\n",
        "   ......................\n",
        "\n",
        "except ExceptionI:\n",
        "\n",
        "   If there is ExceptionI, then execute this block.\n",
        "\n",
        "except ExceptionII:\n",
        "\n",
        "   If there is ExceptionII, then execute this block.\n",
        "\n",
        "   ......................\n",
        "   \n",
        "else:\n",
        "\n",
        "   If there is no exception then execute this block.\n",
        "\n",
        " "
      ],
      "metadata": {
        "id": "5MF6SlEsny2X"
      }
    },
    {
      "cell_type": "code",
      "source": [
        "try:\n",
        "   fh = open(\"testfile\", \"w\")\n",
        "   fh.write(\"This is my test file for exception handling!!\")\n",
        "except IOError:\n",
        "   print (\"Error: can\\'t find file or read data\")\n",
        "else:\n",
        "   print (\"Written content in the file successfully\")\n",
        "   fh.close()"
      ],
      "metadata": {
        "colab": {
          "base_uri": "https://localhost:8080/"
        },
        "id": "kn0d6s3JmgdL",
        "outputId": "aa485eb1-bd0c-4d29-f1af-076feaaefeca"
      },
      "execution_count": 18,
      "outputs": [
        {
          "output_type": "stream",
          "name": "stdout",
          "text": [
            "Written content in the file successfully\n"
          ]
        }
      ]
    },
    {
      "cell_type": "markdown",
      "source": [
        "**Two types of Error occurs in python.**\n",
        "1. Syntax errors\n",
        "2. Logical errors(Exceptions)\n",
        " "
      ],
      "metadata": {
        "id": "8pd7jRwfo1PO"
      }
    },
    {
      "cell_type": "markdown",
      "source": [
        "**Syntax Errors**\n",
        "It returns a syntax error message because after the if statement a colon: is missing. We can fix this by writing the correct syntax.\n",
        "\n"
      ],
      "metadata": {
        "id": "EcS5XKCUpPZA"
      }
    },
    {
      "cell_type": "code",
      "source": [
        "# initialize the amount variable\n",
        "amount = 10000\n",
        "  \n",
        "# check that You are eligible to\n",
        "#  purchase Dsa Self Paced or not\n",
        "if(amount>2999)\n",
        "    print(\"You are eligible to purchase Dsa Self Paced\")"
      ],
      "metadata": {
        "colab": {
          "base_uri": "https://localhost:8080/",
          "height": 130
        },
        "id": "MGDXFQVJoZLD",
        "outputId": "a133ac5f-3c54-4b6a-9d65-8d93c4e3eb82"
      },
      "execution_count": 21,
      "outputs": [
        {
          "output_type": "error",
          "ename": "SyntaxError",
          "evalue": "ignored",
          "traceback": [
            "\u001b[0;36m  File \u001b[0;32m\"<ipython-input-21-629b7b45d247>\"\u001b[0;36m, line \u001b[0;32m6\u001b[0m\n\u001b[0;31m    if(amount>2999)\u001b[0m\n\u001b[0m                   ^\u001b[0m\n\u001b[0;31mSyntaxError\u001b[0m\u001b[0;31m:\u001b[0m invalid syntax\n"
          ]
        }
      ]
    },
    {
      "cell_type": "markdown",
      "source": [
        "**Exception**\n",
        "- When in the runtime an error that occurs after passing the syntax test is called exception or logical type. For example, when we divide any number by zero then the ZeroDivisionError exception is raised, or when we import a module that does not exist then ImportError is raised.\n"
      ],
      "metadata": {
        "id": "T1---SHnq_7f"
      }
    },
    {
      "cell_type": "code",
      "source": [
        "# initialize the amount variable\n",
        "marks = 10000\n",
        "  \n",
        "# perform division with 0\n",
        "a = marks / 0\n",
        "print(a)"
      ],
      "metadata": {
        "id": "K70Y4IcZpbQF",
        "colab": {
          "base_uri": "https://localhost:8080/",
          "height": 217
        },
        "outputId": "ec48498f-1117-4f62-822a-74c2645b802b"
      },
      "execution_count": 22,
      "outputs": [
        {
          "output_type": "error",
          "ename": "ZeroDivisionError",
          "evalue": "ignored",
          "traceback": [
            "\u001b[0;31m---------------------------------------------------------------------------\u001b[0m",
            "\u001b[0;31mZeroDivisionError\u001b[0m                         Traceback (most recent call last)",
            "\u001b[0;32m<ipython-input-22-757d9509a65c>\u001b[0m in \u001b[0;36m<module>\u001b[0;34m\u001b[0m\n\u001b[1;32m      3\u001b[0m \u001b[0;34m\u001b[0m\u001b[0m\n\u001b[1;32m      4\u001b[0m \u001b[0;31m# perform division with 0\u001b[0m\u001b[0;34m\u001b[0m\u001b[0;34m\u001b[0m\u001b[0;34m\u001b[0m\u001b[0m\n\u001b[0;32m----> 5\u001b[0;31m \u001b[0ma\u001b[0m \u001b[0;34m=\u001b[0m \u001b[0mmarks\u001b[0m \u001b[0;34m/\u001b[0m \u001b[0;36m0\u001b[0m\u001b[0;34m\u001b[0m\u001b[0;34m\u001b[0m\u001b[0m\n\u001b[0m\u001b[1;32m      6\u001b[0m \u001b[0mprint\u001b[0m\u001b[0;34m(\u001b[0m\u001b[0ma\u001b[0m\u001b[0;34m)\u001b[0m\u001b[0;34m\u001b[0m\u001b[0;34m\u001b[0m\u001b[0m\n",
            "\u001b[0;31mZeroDivisionError\u001b[0m: division by zero"
          ]
        }
      ]
    },
    {
      "cell_type": "code",
      "source": [
        "#Handling Exceptions with Try/Except/Finally "
      ],
      "metadata": {
        "id": "swJg84Jureb6"
      },
      "execution_count": 23,
      "outputs": []
    },
    {
      "cell_type": "code",
      "source": [
        "# put unsafe operation in try block\n",
        "try:\n",
        "     print(\"code start\")\n",
        "          \n",
        "     # unsafe operation perform\n",
        "     print(1 / 0)\n",
        "  \n",
        "# if error occur the it goes in except block\n",
        "except:\n",
        "     print(\"an error occurs\")\n",
        "  \n",
        "# final code in finally block\n",
        "finally:\n",
        "     print(\"executation time\")"
      ],
      "metadata": {
        "id": "e7BpmOQSr64w",
        "colab": {
          "base_uri": "https://localhost:8080/"
        },
        "outputId": "53c7d7fd-5b84-4f2f-f0ef-05b065e66199"
      },
      "execution_count": 24,
      "outputs": [
        {
          "output_type": "stream",
          "name": "stdout",
          "text": [
            "code start\n",
            "an error occurs\n",
            "executation time\n"
          ]
        }
      ]
    },
    {
      "cell_type": "code",
      "source": [
        "#Raising exceptions for a predefined condition "
      ],
      "metadata": {
        "id": "bzcsSw2er67B"
      },
      "execution_count": 25,
      "outputs": []
    },
    {
      "cell_type": "code",
      "source": [
        "# try for unsafe code\n",
        "try:\n",
        "    amount = 1999\n",
        "    if amount < 2999:\n",
        "          \n",
        "        # raise the ValueError\n",
        "        raise ValueError(\"please add money in your account\")\n",
        "    else:\n",
        "        print(\"You are eligible to purchase DSA Self Paced course\")\n",
        "              \n",
        "# if false then raise the value error\n",
        "except ValueError as e:\n",
        "        print(e)"
      ],
      "metadata": {
        "colab": {
          "base_uri": "https://localhost:8080/"
        },
        "id": "sMqHEKRpr69c",
        "outputId": "2ed24366-95d0-4461-ec91-dc8854ebd84c"
      },
      "execution_count": 26,
      "outputs": [
        {
          "output_type": "stream",
          "name": "stdout",
          "text": [
            "please add money in your account\n"
          ]
        }
      ]
    },
    {
      "cell_type": "markdown",
      "source": [
        "**what happens when an exception is not handled? Explain with an example.**"
      ],
      "metadata": {
        "id": "xTGPSj_tsaTb"
      }
    },
    {
      "cell_type": "markdown",
      "source": [
        "- we can defend  program by placing the suspicious code in a try: block. After the try: block, include an except: statement, followed by a block of code which handles the problem as elegantly as possible.\n"
      ],
      "metadata": {
        "id": "s0df3KZsvNoy"
      }
    },
    {
      "cell_type": "code",
      "source": [
        "#This example opens a file, writes content in the, file and comes out gracefully because there is no problem at all −"
      ],
      "metadata": {
        "id": "n0IfUDOEr6_x"
      },
      "execution_count": 27,
      "outputs": []
    },
    {
      "cell_type": "code",
      "source": [
        "try:\n",
        "   fh = open(\"testfile\", \"w\")\n",
        "   fh.write(\"This is my test file for exception handling!!\")\n",
        "except IOError:\n",
        "   print(\"Error: can\\'t find file or read data\")\n",
        "else:\n",
        "   print (\"Written content in the file successfully\")\n",
        "   fh.close()"
      ],
      "metadata": {
        "colab": {
          "base_uri": "https://localhost:8080/"
        },
        "id": "Oc-eUJMor7DL",
        "outputId": "3dbe269b-df04-4436-b793-fd5713463c00"
      },
      "execution_count": 28,
      "outputs": [
        {
          "output_type": "stream",
          "name": "stdout",
          "text": [
            "Written content in the file successfully\n"
          ]
        }
      ]
    },
    {
      "cell_type": "code",
      "source": [
        "# python Exception Handling\n",
        "(a,b) = (6,0)\n",
        "try:# simple use of try-except block for handling errors\n",
        "    g = a/b\n",
        "except ZeroDivisionError:\n",
        "    print (\"This is a DIVIDED BY ZERO error\")"
      ],
      "metadata": {
        "colab": {
          "base_uri": "https://localhost:8080/"
        },
        "id": "rSjJ7Mfor7Iq",
        "outputId": "81bb91b4-b662-4c17-cef1-df22ee05af23"
      },
      "execution_count": 29,
      "outputs": [
        {
          "output_type": "stream",
          "name": "stdout",
          "text": [
            "This is a DIVIDED BY ZERO error\n"
          ]
        }
      ]
    },
    {
      "cell_type": "markdown",
      "source": [
        "**Which python statements are used to catch and handle exceptions? Explain with an example>**"
      ],
      "metadata": {
        "id": "x_BkHhU-wyn2"
      }
    },
    {
      "cell_type": "markdown",
      "source": [
        "- An Exception is an error that occurred during the execution of a piece of code. A runtime error is called an Exception, the cause of the exception is improper input.\n",
        " - Types of errors in Python\n",
        "     - When error occurs exception is called, python will stop it and generates error message.\n",
        "*The exception is handled by try, except and finally.*\n",
        "  - try – It checks the error in the block of code\n",
        "  - except – It handles the error\n",
        "  - finally – It executes the code.\n"
      ],
      "metadata": {
        "id": "KTIkBgbCW0cu"
      }
    },
    {
      "cell_type": "markdown",
      "source": [
        "- Python Syntax Error\n",
        "   - In this example, I have used try to check the error in the block as the error is present in the syntax of print(hello).\n",
        "  - The except is used as except SyntaxError as e. The except is executed."
      ],
      "metadata": {
        "id": "OyZepHtCXbN1"
      }
    },
    {
      "cell_type": "code",
      "source": [
        "try:\n",
        "  print(a+b)\n",
        "except:\n",
        "  print(\"exception occured\")"
      ],
      "metadata": {
        "id": "H7qmLftGr7MD",
        "colab": {
          "base_uri": "https://localhost:8080/"
        },
        "outputId": "e25a3a00-82be-46ae-c240-32ed73dda751"
      },
      "execution_count": 30,
      "outputs": [
        {
          "output_type": "stream",
          "name": "stdout",
          "text": [
            "6\n"
          ]
        }
      ]
    },
    {
      "cell_type": "code",
      "source": [
        "# Example on try, except and else in Python\n",
        "try:\n",
        "   file = open(\"hello.txt\", \"w\")\n",
        "   file.write(\"This is the test file\")\n",
        "except IOError:\n",
        "   print(\"No file found\")\n",
        "else:\n",
        "   print(\"The content is not written in the file\")\n",
        "   file.close()"
      ],
      "metadata": {
        "id": "jH4FNCfMr7Pn",
        "colab": {
          "base_uri": "https://localhost:8080/"
        },
        "outputId": "58ac4e19-2645-4467-d695-648492aacb2d"
      },
      "execution_count": 31,
      "outputs": [
        {
          "output_type": "stream",
          "name": "stdout",
          "text": [
            "The content is not written in the file\n"
          ]
        }
      ]
    },
    {
      "cell_type": "markdown",
      "source": [
        "examples on try, except and else in Python.\n",
        "- In this example, I have opened the file in the try block to check if the file contains an error or the file is not found.\n",
        "-The except IOError is used after the except the else statement is used if the file is not present and content is not written in that, then else will execute."
      ],
      "metadata": {
        "id": "C9F_Hr3aYccU"
      }
    },
    {
      "cell_type": "markdown",
      "source": [
        "Q4. **Explain with an example**\n",
        "\n",
        "a. try and else\n",
        "\n",
        "b. finally\n",
        "\n",
        " c. raise"
      ],
      "metadata": {
        "id": "JsF6JG1gZC-m"
      }
    },
    {
      "cell_type": "markdown",
      "source": [
        "a **try** and else\n",
        " - This block will test the excepted error to occur\n",
        "  - Else: If there is no exception then this block will be executed\n",
        "b. finally\n",
        " \n",
        " - Finally: Finally block always gets executed either exception is generated or not\n",
        " - Except:  Here you can handle the error\n",
        "\n",
        "  **Syntax**\n",
        "\n",
        "try:\n",
        "       # Some Code.... \n",
        "\n",
        "except:\n",
        "       # optional block\n",
        "       # Handling of exception (if required)\n",
        "\n",
        "else:\n",
        "       # execute if no exception\n",
        "\n",
        "finally:\n",
        "      # Some code .....(always executed)"
      ],
      "metadata": {
        "id": "PyOaKn5mZX-e"
      }
    },
    {
      "cell_type": "markdown",
      "source": [],
      "metadata": {
        "id": "2Fnd-NPKa-OH"
      }
    },
    {
      "cell_type": "code",
      "source": [],
      "metadata": {
        "id": "C0LGeMcLbAFp"
      },
      "execution_count": 31,
      "outputs": []
    },
    {
      "cell_type": "code",
      "source": [],
      "metadata": {
        "id": "QFbw-nT-Ytws"
      },
      "execution_count": 31,
      "outputs": []
    },
    {
      "cell_type": "markdown",
      "source": [
        "- First try clause is executed i.e. the code between try and except clause.\n",
        "- If there is no exception, then only try clause will run, except clause will not get executed.\n",
        "- If any exception occurs, the try clause will be skipped and except clause will run.\n",
        "- If any exception occurs, but the except clause within the code doesn’t handle it, it is passed on to the outer try statements. If the exception is left unhandled, then the execution stops.\n",
        "- A try statement can have more than one except clause."
      ],
      "metadata": {
        "id": "ooGv2ddobBPW"
      }
    },
    {
      "cell_type": "code",
      "source": [
        "\n",
        "# working of try() \n",
        "def divide(x, y):\n",
        "    try:\n",
        "        # Floor Division : Gives only Fractional\n",
        "        # Part as Answer\n",
        "        result = x // y\n",
        "        print(\"Yeah ! Your answer is :\", result)\n",
        "    except ZeroDivisionError:\n",
        "        print(\"Sorry ! You are dividing by zero \")\n",
        "   \n",
        "# Look at parameters and note the working of Program\n",
        "divide(3, 2)\n",
        "divide(3, 0)"
      ],
      "metadata": {
        "colab": {
          "base_uri": "https://localhost:8080/"
        },
        "id": "b_MTuj3jYtzC",
        "outputId": "95595afa-ff17-44d4-9d3a-48bd40b65a09"
      },
      "execution_count": 32,
      "outputs": [
        {
          "output_type": "stream",
          "name": "stdout",
          "text": [
            "Yeah ! Your answer is : 1\n",
            "Sorry ! You are dividing by zero \n"
          ]
        }
      ]
    },
    {
      "cell_type": "code",
      "source": [
        "# Example: Else block will execute only when no exception occurs."
      ],
      "metadata": {
        "id": "jzbPKX_lYt1p"
      },
      "execution_count": 33,
      "outputs": []
    },
    {
      "cell_type": "code",
      "source": [
        "# working of try() \n",
        "def divide(x, y):\n",
        "    try:\n",
        "        # Floor Division : Gives only Fractional\n",
        "        # Part as Answer\n",
        "        result = x // y\n",
        "    except ZeroDivisionError:\n",
        "        print(\"Sorry ! You are dividing by zero \")\n",
        "    else:\n",
        "        print(\"Yeah ! Your answer is :\", result)\n",
        "   \n",
        "# Look at parameters and note the working of Program\n",
        "divide(3, 2)\n",
        "divide(3, 0)"
      ],
      "metadata": {
        "colab": {
          "base_uri": "https://localhost:8080/"
        },
        "id": "ObyH9Ad8Yt4P",
        "outputId": "011694da-76e2-49a5-bb33-ebd150732765"
      },
      "execution_count": 34,
      "outputs": [
        {
          "output_type": "stream",
          "name": "stdout",
          "text": [
            "Yeah ! Your answer is : 1\n",
            "Sorry ! You are dividing by zero \n"
          ]
        }
      ]
    },
    {
      "cell_type": "code",
      "source": [
        "# Example: Let’s try to throw the exception in except block and Finally will execute either exception will generate or not"
      ],
      "metadata": {
        "id": "8w3C012PYt7Q"
      },
      "execution_count": 35,
      "outputs": []
    },
    {
      "cell_type": "markdown",
      "source": [
        "- keyword finally, which is always executed after try and except blocks. "
      ],
      "metadata": {
        "id": "zmuaCqBgcB4T"
      }
    },
    {
      "cell_type": "code",
      "source": [
        "# working of try() \n",
        "def divide(x, y):\n",
        "    try:\n",
        "        # Floor Division : Gives only Fractional\n",
        "        # Part as Answer\n",
        "        result = x // y\n",
        "    except ZeroDivisionError:\n",
        "        print(\"Sorry ! You are dividing by zero \")\n",
        "    else:\n",
        "        print(\"Yeah ! Your answer is :\", result)\n",
        "    finally: \n",
        "        # this block is always executed  \n",
        "        # regardless of exception generation. \n",
        "        print('This is always executed')  \n",
        " \n",
        "# Look at parameters and note the working of Program\n",
        "divide(3, 2)\n",
        "divide(3, 0)"
      ],
      "metadata": {
        "colab": {
          "base_uri": "https://localhost:8080/"
        },
        "id": "f1_fpE82Yt9h",
        "outputId": "c5df6498-0f5a-4d67-b948-ad6bb32e647b"
      },
      "execution_count": 36,
      "outputs": [
        {
          "output_type": "stream",
          "name": "stdout",
          "text": [
            "Yeah ! Your answer is : 1\n",
            "This is always executed\n",
            "Sorry ! You are dividing by zero \n",
            "This is always executed\n"
          ]
        }
      ]
    },
    {
      "cell_type": "code",
      "source": [],
      "metadata": {
        "id": "50VGrjsBYuAa"
      },
      "execution_count": 36,
      "outputs": []
    },
    {
      "cell_type": "code",
      "source": [],
      "metadata": {
        "id": "1HCUYJFcYuC7"
      },
      "execution_count": 36,
      "outputs": []
    },
    {
      "cell_type": "markdown",
      "source": [
        "Q5.**what are Custom Exceptions in python? why do we need Custom Exceptions?  Explain with an example**"
      ],
      "metadata": {
        "id": "NqAgO45bpjAX"
      }
    },
    {
      "cell_type": "code",
      "source": [],
      "metadata": {
        "id": "7mCh3nFMYuF6"
      },
      "execution_count": null,
      "outputs": []
    },
    {
      "cell_type": "markdown",
      "source": [
        "- To create a custom exception class, you define a class that inherits from the built-in Exception class or one of its subclasses such as ValueError class:\n",
        "\n",
        "- The following example defines a CustomException class that inherits from the Exception class:\n",
        "     -  defines a CustomException class that inherits from the Exception class:\n",
        "\n",
        "  class CustomException(Exception):\n",
        "\n",
        "    \"\"\" my custom exception class \"\"\""
      ],
      "metadata": {
        "id": "dXegaZ4nqbpD"
      }
    },
    {
      "cell_type": "code",
      "source": [
        "class CustomException(Exception):\n",
        "    \"\"\" my custom exception class \"\"\"\n",
        "\n",
        "\n",
        "try:\n",
        "    raise CustomException('This is my custom exception')\n",
        "except CustomException as ex:\n",
        "    print(ex)"
      ],
      "metadata": {
        "id": "iL6_o4z6YuJT",
        "colab": {
          "base_uri": "https://localhost:8080/"
        },
        "outputId": "ca5b34b5-876f-46dc-bf4d-03595c58905d"
      },
      "execution_count": 38,
      "outputs": [
        {
          "output_type": "stream",
          "name": "stdout",
          "text": [
            "This is my custom exception\n"
          ]
        }
      ]
    },
    {
      "cell_type": "code",
      "source": [
        "class MyCustomError(Exception):\n",
        "    def __init__(self, *args):\n",
        "        if args:\n",
        "            self.message = args[0]\n",
        "        else:\n",
        "            self.message = None\n",
        "\n",
        "    def __str__(self):\n",
        "        print('calling str')\n",
        "        if self.message:\n",
        "            return 'MyCustomError, {0} '.format(self.message)\n",
        "        else:\n",
        "            return 'MyCustomError has been raised'\n",
        "\n",
        "\n",
        "# raise MyCustomError\n",
        "\n",
        "raise MyCustomError(\"we have a problm\")"
      ],
      "metadata": {
        "colab": {
          "base_uri": "https://localhost:8080/",
          "height": 252
        },
        "id": "NOx-mxsOrfIe",
        "outputId": "0e589a65-da6e-49d2-9488-78e65e5206f4"
      },
      "execution_count": 40,
      "outputs": [
        {
          "output_type": "stream",
          "name": "stdout",
          "text": [
            "calling str\n"
          ]
        },
        {
          "output_type": "error",
          "ename": "MyCustomError",
          "evalue": "ignored",
          "traceback": [
            "\u001b[0;31m---------------------------------------------------------------------------\u001b[0m",
            "\u001b[0;31mMyCustomError\u001b[0m                             Traceback (most recent call last)",
            "\u001b[0;32m<ipython-input-40-10e9ac79fff3>\u001b[0m in \u001b[0;36m<module>\u001b[0;34m\u001b[0m\n\u001b[1;32m     16\u001b[0m \u001b[0;31m# raise MyCustomError\u001b[0m\u001b[0;34m\u001b[0m\u001b[0;34m\u001b[0m\u001b[0;34m\u001b[0m\u001b[0m\n\u001b[1;32m     17\u001b[0m \u001b[0;34m\u001b[0m\u001b[0m\n\u001b[0;32m---> 18\u001b[0;31m \u001b[0;32mraise\u001b[0m \u001b[0mMyCustomError\u001b[0m\u001b[0;34m(\u001b[0m\u001b[0;34m\"we have a problm\"\u001b[0m\u001b[0;34m)\u001b[0m\u001b[0;34m\u001b[0m\u001b[0;34m\u001b[0m\u001b[0m\n\u001b[0m",
            "\u001b[0;31mMyCustomError\u001b[0m: MyCustomError, we have a problm "
          ]
        },
        {
          "output_type": "stream",
          "name": "stdout",
          "text": [
            "calling str\n",
            "calling str\n"
          ]
        }
      ]
    },
    {
      "cell_type": "code",
      "source": [],
      "metadata": {
        "id": "GrPPFoBvrfK2"
      },
      "execution_count": null,
      "outputs": []
    },
    {
      "cell_type": "markdown",
      "source": [
        "**Create a custom exception class. use this class to handle an exception.**"
      ],
      "metadata": {
        "id": "4g5cPCegtqgE"
      }
    },
    {
      "cell_type": "code",
      "source": [],
      "metadata": {
        "id": "4jRCcB7KrfOF"
      },
      "execution_count": null,
      "outputs": []
    },
    {
      "cell_type": "markdown",
      "source": [
        "- To create a custom exception class, you define a class that inherits from the built-in Exception class or one of its subclasses such as ValueError class:\n",
        "\n",
        "      - example defines a CustomException class that inherits from the Exception class:\n",
        "           - class CustomException(Exception):\n",
        "    \"\"\" my custom exception class \"\"\"\n",
        "\n"
      ],
      "metadata": {
        "id": "JJPtIlzwuGKq"
      }
    },
    {
      "cell_type": "code",
      "source": [
        "# A python program to create user-defined exception\n",
        "# class MyError is derived from super class Exception\n",
        "class MyError(Exception):\n",
        " \n",
        "    # Constructor or Initializer\n",
        "    def __init__(self, value):\n",
        "        self.value = value\n",
        " \n",
        "    # __str__ is to print() the value\n",
        "    def __str__(self):\n",
        "        return(repr(self.value))\n",
        " \n",
        " \n",
        "try:\n",
        "    raise(MyError(3*2))\n",
        " \n",
        "# Value of Exception is stored in error\n",
        "except MyError as error:\n",
        "    print('A New Exception occurred: ', error.value)"
      ],
      "metadata": {
        "colab": {
          "base_uri": "https://localhost:8080/"
        },
        "id": "g3JhO26lrfQw",
        "outputId": "7c6a9581-7c72-4fd1-b8a8-1f9901abc0d0"
      },
      "execution_count": 41,
      "outputs": [
        {
          "output_type": "stream",
          "name": "stdout",
          "text": [
            "A New Exception occurred:  6\n"
          ]
        }
      ]
    },
    {
      "cell_type": "code",
      "source": [],
      "metadata": {
        "id": "ObifxpT3rfTs"
      },
      "execution_count": null,
      "outputs": []
    },
    {
      "cell_type": "code",
      "source": [],
      "metadata": {
        "id": "VqIne0s2rfW1"
      },
      "execution_count": null,
      "outputs": []
    },
    {
      "cell_type": "code",
      "source": [],
      "metadata": {
        "id": "hlSeuoiArfZw"
      },
      "execution_count": null,
      "outputs": []
    },
    {
      "cell_type": "code",
      "source": [],
      "metadata": {
        "id": "aEaxa_cHrfed"
      },
      "execution_count": null,
      "outputs": []
    },
    {
      "cell_type": "code",
      "source": [],
      "metadata": {
        "id": "ePXY4ByPrfhz"
      },
      "execution_count": null,
      "outputs": []
    },
    {
      "cell_type": "code",
      "source": [],
      "metadata": {
        "id": "cU5Hho_FrfpQ"
      },
      "execution_count": null,
      "outputs": []
    }
  ]
}